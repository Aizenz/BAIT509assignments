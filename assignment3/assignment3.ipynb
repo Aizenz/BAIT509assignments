{
 "cells": [
  {
   "cell_type": "markdown",
   "metadata": {},
   "source": [
    "# BAIT 509 Assignment 3: Logistic Regression and Evaluation Metrics  \n",
    "\n",
    "__Evaluates__: Lectures 6 - 9. \n",
    "\n",
    "__Rubrics__: Your solutions will be assessed primarily on the accuracy of your coding, as well as the clarity and correctness of your written responses. The MDS rubrics provide a good guide as to what is expected of you in your responses to the assignment questions and how the TAs will grade your answers. See the following links for more details:\n",
    "\n",
    "- [mechanics_rubric](https://github.com/UBC-MDS/public/blob/master/rubric/rubric_mech.md): submit an assignment correctly.\n",
    "- [accuracy rubric](https://github.com/UBC-MDS/public/blob/master/rubric/rubric_accuracy.md): evaluating your code.\n",
    "- [reasoning rubric](https://github.com/UBC-MDS/public/blob/master/rubric/rubric_reasoning.md): evaluating your written responses.\n",
    "- [autograde rubric](https://github.com/UBC-MDS/public/blob/master/rubric/rubric_autograde.md): evaluating questions that are either right or wrong (can be done either manually or automatically).\n",
    "\n",
    "## Tidy Submission \n",
    "rubric={mechanics:2}\n",
    "\n",
    "- Complete this assignment by filling out this jupyter notebook.\n",
    "- Any place you see `...` or `____`, you must fill in the function, variable, or data to complete the code.\n",
    "- Use proper English, spelling, and grammar.\n",
    "- You will submit two files on Canvas:\n",
    "    1. This jupyter notebook file containing your responses ( an `.ipynb` file); and,\n",
    "    2. An `.html` file of your completed notebook that will render directly on Canvas without having to be downloaded.\n",
    "        - To generate this html file you can click `File` -> `Export Notebook As` -> `HTML` in JupyterLab or type the following into a terminal `jupyter nbconvert --to html_embed assignment.ipynb`).\n",
    "    \n",
    "Submit your assignment through UBC Canvas by the deadline listed there."
   ]
  },
  {
   "cell_type": "markdown",
   "metadata": {},
   "source": [
    "## Introduction and learning goals <a name=\"in\"></a>\n",
    "<hr>\n",
    "\n",
    "Welcome to the assignment! In this assignment, you will practice:\n",
    "\n",
    "- Explain components of a confusion matrix.\n",
    "- Define precision, recall, and f1-score and use them to evaluate different classifiers.\n",
    "- Identify whether there is class imbalance and whether you need to deal with it.\n",
    "- Explain `class_weight` and use it to deal with data imbalance.\n",
    "- Apply different scoring functions with `cross_validate` and `GridSearchCV` and `RandomizedSearchCV`.\n",
    "- Explain the general intuition behind linear models.\n",
    "- Explain the `fit` and `predict` paradigm of linear models.\n",
    "- Use `scikit-learn`'s `LogisticRegression` classifier.\n",
    "    - Use `fit`, `predict` and `predict_proba`.   \n",
    "    - Use `coef_` to interpret the model weights.\n",
    "- Explain the advantages and limitations of linear classifiers. \n"
   ]
  },
  {
   "cell_type": "markdown",
   "metadata": {},
   "source": [
    "## Exercise 1:  Precision, recall, and f1 score \"by hand\" (without `sklearn`) <a name=\"1\"></a>\n",
    "<hr>\n",
    "\n",
    "\n",
    "Consider the problem of predicting whether a new product will be successful or not and is worth investing in. Below are confusion matrices of two machine learning models: Model A and Model B. \n",
    "\n",
    "##### Model A\n",
    "|    Actual/Predicted         | Predicted successful| Predicted not successful |\n",
    "| :-------------------------- | ------------------: | -----------------------: |\n",
    "| **Actually successful**     | 3                   | 5                        |\n",
    "| **Actually not successful** | 6                   | 96                       |\n",
    " \n",
    "\n",
    "##### Model B\n",
    "|    Actual/Predicted         | Predicted successful| Predicted not successful |\n",
    "| :-------------------------- | ------------------: | -----------------------: |\n",
    "| **Actually successful**     | 6                   |                        14 |\n",
    "| **Actually not successful** | 0                  |                       90 |  "
   ]
  },
  {
   "cell_type": "markdown",
   "metadata": {},
   "source": [
    "### 1.1 Positive vs. negative class\n",
    "rubric={autograde:1, reasoning:1}\n",
    "\n",
    "<div class=\"alert alert-info\" style=\"color:black\">\n",
    "    \n",
    "Precision, recall, and f1 score depend crucially upon which class is considered \"positive\", that is the thing you wish to find. In the example above, which class ( `Actually successful` or `Actually not successful`)  is likely to be the \"positive\" class and why?\n",
    "\n",
    "Save the label name in a string object named `answer_1_1`.\n",
    "\n",
    "</div>"
   ]
  },
  {
   "cell_type": "markdown",
   "metadata": {},
   "source": [
    "Actually successful is likely to be the *positive* class, because it is the target we are going to find."
   ]
  },
  {
   "cell_type": "code",
   "execution_count": 68,
   "metadata": {},
   "outputs": [],
   "source": [
    "answer_1_1 = 'Actually successful'"
   ]
  },
  {
   "cell_type": "markdown",
   "metadata": {},
   "source": [
    "### 1.2 Accuracy\n",
    "rubric={autograde:2}\n",
    "\n",
    "<div class=\"alert alert-info\" style=\"color:black\">\n",
    "\n",
    "Calculate accuracies for Model A and Model B. \n",
    "\n",
    "</div>"
   ]
  },
  {
   "cell_type": "code",
   "execution_count": 69,
   "metadata": {
    "nbgrader": {
     "grade": false,
     "grade_id": "cell-19893d9ec734e650",
     "locked": false,
     "schema_version": 3,
     "solution": true,
     "task": false
    }
   },
   "outputs": [
    {
     "data": {
      "text/plain": [
       "0.9"
      ]
     },
     "metadata": {},
     "output_type": "display_data"
    },
    {
     "data": {
      "text/plain": [
       "0.8727272727272727"
      ]
     },
     "metadata": {},
     "output_type": "display_data"
    }
   ],
   "source": [
    "model_a_acc = (3+ 96) / (3+5+6+96)\n",
    "model_b_acc = (6+90) / (6+14+90)\n",
    "display(model_a_acc)\n",
    "display(model_b_acc)"
   ]
  },
  {
   "cell_type": "markdown",
   "metadata": {},
   "source": [
    "### 1.3 Which model would you pick? \n",
    "rubric={reasoning:1}\n",
    "\n",
    "<div class=\"alert alert-info\" style=\"color:black\">\n",
    "\n",
    "Which model would you pick simply based on the accuracy metric? \n",
    "   \n",
    "</div>"
   ]
  },
  {
   "cell_type": "markdown",
   "metadata": {},
   "source": [
    "***A***"
   ]
  },
  {
   "cell_type": "markdown",
   "metadata": {},
   "source": [
    "### 1.4 Model A - Precision, recall, f1-score\n",
    "rubric={accuracy:1.5}\n",
    "\n",
    "<div class=\"alert alert-info\" style=\"color:black\">\n",
    "\n",
    "Calculate precision, recall, f1-score for **Model A** by designating the appropriate fraction to objects named `a_precision`, `a_recall` and `a_f1`. \n",
    "\n",
    "You can use the objects `a_precision` and `a_recall` to use in your `a_f1` calculation.\n",
    "    \n",
    "</div>"
   ]
  },
  {
   "cell_type": "code",
   "execution_count": 70,
   "metadata": {
    "nbgrader": {
     "grade": false,
     "grade_id": "cell-feae0ff2bfe786c6",
     "locked": false,
     "schema_version": 3,
     "solution": true,
     "task": false
    }
   },
   "outputs": [
    {
     "data": {
      "text/plain": [
       "0.3333333333333333"
      ]
     },
     "metadata": {},
     "output_type": "display_data"
    },
    {
     "data": {
      "text/plain": [
       "0.375"
      ]
     },
     "metadata": {},
     "output_type": "display_data"
    },
    {
     "data": {
      "text/plain": [
       "0.35294117647058826"
      ]
     },
     "metadata": {},
     "output_type": "display_data"
    }
   ],
   "source": [
    "a_precision = 3 / 9\n",
    "a_recall = 3 / 8\n",
    "a_f1 = 2 /(1/a_precision + 1/a_recall)\n",
    "display(a_precision)\n",
    "display(a_recall)\n",
    "display(a_f1)"
   ]
  },
  {
   "cell_type": "markdown",
   "metadata": {},
   "source": [
    "### 1.5 Model B - Precision, recall, f1-score\n",
    "rubric={accuracy:1.5}\n",
    "\n",
    "<div class=\"alert alert-info\" style=\"color:black\">\n",
    "\n",
    "Calculate precision, recall, f1-score for **Model B** by designating the appropriate fraction to objects named `b_precision`, `b_recall` and `b_f1`. \n",
    "\n",
    "You can use the objects `b_precision` and `b_recall` to use in your `b_f1` calculation.\n",
    "    \n",
    "</div>"
   ]
  },
  {
   "cell_type": "code",
   "execution_count": 71,
   "metadata": {
    "nbgrader": {
     "grade": false,
     "grade_id": "cell-2ae8130bd6cb0aa3",
     "locked": false,
     "schema_version": 3,
     "solution": true,
     "task": false
    }
   },
   "outputs": [
    {
     "data": {
      "text/plain": [
       "1.0"
      ]
     },
     "metadata": {},
     "output_type": "display_data"
    },
    {
     "data": {
      "text/plain": [
       "0.3"
      ]
     },
     "metadata": {},
     "output_type": "display_data"
    },
    {
     "data": {
      "text/plain": [
       "0.46153846153846145"
      ]
     },
     "metadata": {},
     "output_type": "display_data"
    }
   ],
   "source": [
    "b_precision = 6 / 6\n",
    "b_recall = 6 / (6 + 14)\n",
    "b_f1 = 2 / (1/b_precision + 1/b_recall)\n",
    "display(b_precision)\n",
    "display(b_recall)\n",
    "display(b_f1)"
   ]
  },
  {
   "cell_type": "markdown",
   "metadata": {},
   "source": [
    "### 1.6 Metric choice\n",
    "rubric={reasoning:2}\n",
    "\n",
    "<div class=\"alert alert-info\" style=\"color:black\">\n",
    "    \n",
    "Which metric(s) is more informative in this case? Why? \n",
    "\n",
    "</div>"
   ]
  },
  {
   "cell_type": "markdown",
   "metadata": {},
   "source": [
    "Model B is more informative in this case, it shows a high dispersion between precision, recall and accuracy. The zero false negative illustrates its extremely high precison while their accuracies can not display."
   ]
  },
  {
   "cell_type": "markdown",
   "metadata": {},
   "source": [
    "### 1.7 Model choice\n",
    "rubric={reasoning:2}\n",
    "\n",
    "<div class=\"alert alert-info\" style=\"color:black\">\n",
    "\n",
    "Which model would you pick based on this information and why? \n",
    "    \n",
    "</div>"
   ]
  },
  {
   "cell_type": "markdown",
   "metadata": {},
   "source": [
    "***B***\n",
    "\n",
    "Because of the high precision"
   ]
  },
  {
   "cell_type": "markdown",
   "metadata": {},
   "source": [
    "## Exercise 2: Sentiment analysis on the IMDB dataset: model building <a name=\"3\"></a>\n",
    "<hr>\n",
    "\n",
    "<img src=\"https://ia.media-imdb.com/images/M/MV5BMTk3ODA4Mjc0NF5BMl5BcG5nXkFtZTgwNDc1MzQ2OTE@._V1_.png\"  width = \"40%\" alt=\"404 image\" />\n",
    "\n",
    "In this exercise, you will carry out sentiment analysis on a real corpus, [the IMDB movie review dataset](https://www.kaggle.com/utathya/imdb-review-dataset).\n",
    "The starter code below loads the data CSV file (assuming that it's in the data directory) as a pandas DataFrame called `imdb_df`.\n",
    "\n",
    "The supervised learning task is, given the text of a movie review, to predict whether the review sentiment is positive (reviewer liked the movie) or negative (reviewer disliked the movie). We have done a bit of preprocessing on the dataset already where the positive review are labelled `1` and the negative reviews are labelled `0`."
   ]
  },
  {
   "cell_type": "code",
   "execution_count": 72,
   "metadata": {},
   "outputs": [
    {
     "data": {
      "text/html": [
       "<div>\n",
       "<style scoped>\n",
       "    .dataframe tbody tr th:only-of-type {\n",
       "        vertical-align: middle;\n",
       "    }\n",
       "\n",
       "    .dataframe tbody tr th {\n",
       "        vertical-align: top;\n",
       "    }\n",
       "\n",
       "    .dataframe thead th {\n",
       "        text-align: right;\n",
       "    }\n",
       "</style>\n",
       "<table border=\"1\" class=\"dataframe\">\n",
       "  <thead>\n",
       "    <tr style=\"text-align: right;\">\n",
       "      <th></th>\n",
       "      <th>review</th>\n",
       "      <th>label</th>\n",
       "    </tr>\n",
       "  </thead>\n",
       "  <tbody>\n",
       "    <tr>\n",
       "      <th>2139</th>\n",
       "      <td>This movie did attempt to capture the naive idealism that many young teenaged girls have for fun, friendship, escape, danger, sex, maturity, etc. The problem was that it failed to establish these things on every single level; which is why it failed to build a decent story around them. I couldn't...</td>\n",
       "      <td>0</td>\n",
       "    </tr>\n",
       "    <tr>\n",
       "      <th>7454</th>\n",
       "      <td>The Earth is destined to be no more thanks to Father Pergado and a bunch of Nuns. Christopher Lee (who has since said that he was duped in to appearing in this by his producers who told him loads of great actors were involved) is Father Pergado and gets to do his usual serious and scary routine....</td>\n",
       "      <td>0</td>\n",
       "    </tr>\n",
       "    <tr>\n",
       "      <th>8157</th>\n",
       "      <td>I didn't see this movie when it originally came out, but there has been a couple songs sharing the title and the term still gets used from time to time and I figured there must be something to the flick, so I dug it up and gave a view. Now I would like the approximate hour and forty five minutes...</td>\n",
       "      <td>0</td>\n",
       "    </tr>\n",
       "    <tr>\n",
       "      <th>4435</th>\n",
       "      <td>I saw this film purely based on the fact that it was on the DPP Video Nasty list, and while I'm glad I saw it because it's now 'another Video Nasty down' - on its own merits, Andy Milligan's film really isn't worth bothering with. There are, of course, far worse films on the infamous list; but t...</td>\n",
       "      <td>0</td>\n",
       "    </tr>\n",
       "    <tr>\n",
       "      <th>10168</th>\n",
       "      <td>Having seen only once and in the dawn hours, I can't seem to forget this haunting film. A mix of mystery, suspense, and heartbreaking romance it reminds me of Vertigo.The actors, though not that well known are good especially Joan Hackett in one of her best performances.You believe in her, in he...</td>\n",
       "      <td>1</td>\n",
       "    </tr>\n",
       "  </tbody>\n",
       "</table>\n",
       "</div>"
      ],
      "text/plain": [
       "                                                                                                                                                                                                                                                                                                            review  \\\n",
       "2139   This movie did attempt to capture the naive idealism that many young teenaged girls have for fun, friendship, escape, danger, sex, maturity, etc. The problem was that it failed to establish these things on every single level; which is why it failed to build a decent story around them. I couldn't...   \n",
       "7454   The Earth is destined to be no more thanks to Father Pergado and a bunch of Nuns. Christopher Lee (who has since said that he was duped in to appearing in this by his producers who told him loads of great actors were involved) is Father Pergado and gets to do his usual serious and scary routine....   \n",
       "8157   I didn't see this movie when it originally came out, but there has been a couple songs sharing the title and the term still gets used from time to time and I figured there must be something to the flick, so I dug it up and gave a view. Now I would like the approximate hour and forty five minutes...   \n",
       "4435   I saw this film purely based on the fact that it was on the DPP Video Nasty list, and while I'm glad I saw it because it's now 'another Video Nasty down' - on its own merits, Andy Milligan's film really isn't worth bothering with. There are, of course, far worse films on the infamous list; but t...   \n",
       "10168  Having seen only once and in the dawn hours, I can't seem to forget this haunting film. A mix of mystery, suspense, and heartbreaking romance it reminds me of Vertigo.The actors, though not that well known are good especially Joan Hackett in one of her best performances.You believe in her, in he...   \n",
       "\n",
       "       label  \n",
       "2139       0  \n",
       "7454       0  \n",
       "8157       0  \n",
       "4435       0  \n",
       "10168      1  "
      ]
     },
     "execution_count": 72,
     "metadata": {},
     "output_type": "execute_result"
    }
   ],
   "source": [
    "import pandas as pd\n",
    "from sklearn.model_selection import train_test_split\n",
    "\n",
    "pd.set_option('display.max_colwidth', 300)  # Set how wide columns to show (to be able to see the reviews)\n",
    "\n",
    "imdb_df = pd.read_csv(\"imdb_speed.csv\")\n",
    "train_df, test_df = train_test_split(imdb_df, test_size=0.2, random_state=77)\n",
    "train_df.head()"
   ]
  },
  {
   "cell_type": "markdown",
   "metadata": {},
   "source": [
    "### 2.1 Feature and target objects \n",
    "rubric={accuracy:2}\n",
    "\n",
    "<div class=\"alert alert-info\" style=\"color:black\">\n",
    "    \n",
    "Separate our feature vectors from the target.\n",
    "\n",
    "You will need to do this for both `train_df` and `test_df`.\n",
    "\n",
    "Save the results in objects named `X_train`, `y_train`, `X_test` and `y_test`. \n",
    "\n",
    "(Makes sure that all 4 of these objects are of type Pandas Series. We will be using `CountVectorizer` for future questions and this transformation requires an input of Pandas Series)\n",
    "    \n",
    "</div>"
   ]
  },
  {
   "cell_type": "code",
   "execution_count": 73,
   "metadata": {
    "nbgrader": {
     "grade": false,
     "grade_id": "cell-27ddb033928d3ba8",
     "locked": false,
     "schema_version": 3,
     "solution": true,
     "task": false
    }
   },
   "outputs": [],
   "source": [
    "X_train, y_train, X_test, y_test = train_df['review'], train_df['label'], test_df['review'], test_df['label']"
   ]
  },
  {
   "cell_type": "markdown",
   "metadata": {},
   "source": [
    "### 2.2 Dummy classifier\n",
    "rubric={accuracy:3}\n",
    "\n",
    "<div class=\"alert alert-info\" style=\"color:black\">\n",
    "    \n",
    "Make a baseline model using `DummyClassifier`.\n",
    "\n",
    "Carry out cross-validation using the `stratified` strategy. Pass the following `scoring` metrics to `cross_validate`. \n",
    "- accuracy\n",
    "- f1\n",
    "- recall\n",
    "- precision\n",
    "\n",
    "(We are using cross-validation here since we can obtain multiple scores at once) \n",
    "\n",
    "Make sure you use  `return_train_score=True` and 5-fold cross-validation.\n",
    "\n",
    "Save your results in a dataframe named `dummy_scores_df`. \n",
    "    \n",
    "</div>"
   ]
  },
  {
   "cell_type": "code",
   "execution_count": 74,
   "metadata": {
    "nbgrader": {
     "grade": false,
     "grade_id": "cell-03b5ef93dd1fc50d",
     "locked": false,
     "schema_version": 3,
     "solution": true,
     "task": false
    }
   },
   "outputs": [
    {
     "data": {
      "text/html": [
       "<div>\n",
       "<style scoped>\n",
       "    .dataframe tbody tr th:only-of-type {\n",
       "        vertical-align: middle;\n",
       "    }\n",
       "\n",
       "    .dataframe tbody tr th {\n",
       "        vertical-align: top;\n",
       "    }\n",
       "\n",
       "    .dataframe thead th {\n",
       "        text-align: right;\n",
       "    }\n",
       "</style>\n",
       "<table border=\"1\" class=\"dataframe\">\n",
       "  <thead>\n",
       "    <tr style=\"text-align: right;\">\n",
       "      <th></th>\n",
       "      <th>fit_time</th>\n",
       "      <th>score_time</th>\n",
       "      <th>test_accuracy</th>\n",
       "      <th>train_accuracy</th>\n",
       "      <th>test_f1</th>\n",
       "      <th>train_f1</th>\n",
       "      <th>test_recall</th>\n",
       "      <th>train_recall</th>\n",
       "      <th>test_precision</th>\n",
       "      <th>train_precision</th>\n",
       "    </tr>\n",
       "  </thead>\n",
       "  <tbody>\n",
       "    <tr>\n",
       "      <th>0</th>\n",
       "      <td>0.001022</td>\n",
       "      <td>0.003348</td>\n",
       "      <td>0.502812</td>\n",
       "      <td>0.493516</td>\n",
       "      <td>0.504207</td>\n",
       "      <td>0.487874</td>\n",
       "      <td>0.508166</td>\n",
       "      <td>0.484848</td>\n",
       "      <td>0.500309</td>\n",
       "      <td>0.490938</td>\n",
       "    </tr>\n",
       "    <tr>\n",
       "      <th>1</th>\n",
       "      <td>0.000885</td>\n",
       "      <td>0.002882</td>\n",
       "      <td>0.500625</td>\n",
       "      <td>0.505000</td>\n",
       "      <td>0.504650</td>\n",
       "      <td>0.503526</td>\n",
       "      <td>0.511307</td>\n",
       "      <td>0.504475</td>\n",
       "      <td>0.498164</td>\n",
       "      <td>0.502581</td>\n",
       "    </tr>\n",
       "    <tr>\n",
       "      <th>2</th>\n",
       "      <td>0.000762</td>\n",
       "      <td>0.005259</td>\n",
       "      <td>0.506875</td>\n",
       "      <td>0.505391</td>\n",
       "      <td>0.499683</td>\n",
       "      <td>0.506355</td>\n",
       "      <td>0.494975</td>\n",
       "      <td>0.509813</td>\n",
       "      <td>0.504481</td>\n",
       "      <td>0.502943</td>\n",
       "    </tr>\n",
       "    <tr>\n",
       "      <th>3</th>\n",
       "      <td>0.001062</td>\n",
       "      <td>0.005107</td>\n",
       "      <td>0.505625</td>\n",
       "      <td>0.498281</td>\n",
       "      <td>0.508696</td>\n",
       "      <td>0.497181</td>\n",
       "      <td>0.514447</td>\n",
       "      <td>0.498508</td>\n",
       "      <td>0.503071</td>\n",
       "      <td>0.495861</td>\n",
       "    </tr>\n",
       "    <tr>\n",
       "      <th>4</th>\n",
       "      <td>0.000891</td>\n",
       "      <td>0.006458</td>\n",
       "      <td>0.497500</td>\n",
       "      <td>0.509531</td>\n",
       "      <td>0.491461</td>\n",
       "      <td>0.506369</td>\n",
       "      <td>0.487759</td>\n",
       "      <td>0.505653</td>\n",
       "      <td>0.495220</td>\n",
       "      <td>0.507087</td>\n",
       "    </tr>\n",
       "  </tbody>\n",
       "</table>\n",
       "</div>"
      ],
      "text/plain": [
       "   fit_time  score_time  test_accuracy  train_accuracy   test_f1  train_f1  \\\n",
       "0  0.001022    0.003348       0.502812        0.493516  0.504207  0.487874   \n",
       "1  0.000885    0.002882       0.500625        0.505000  0.504650  0.503526   \n",
       "2  0.000762    0.005259       0.506875        0.505391  0.499683  0.506355   \n",
       "3  0.001062    0.005107       0.505625        0.498281  0.508696  0.497181   \n",
       "4  0.000891    0.006458       0.497500        0.509531  0.491461  0.506369   \n",
       "\n",
       "   test_recall  train_recall  test_precision  train_precision  \n",
       "0     0.508166      0.484848        0.500309         0.490938  \n",
       "1     0.511307      0.504475        0.498164         0.502581  \n",
       "2     0.494975      0.509813        0.504481         0.502943  \n",
       "3     0.514447      0.498508        0.503071         0.495861  \n",
       "4     0.487759      0.505653        0.495220         0.507087  "
      ]
     },
     "execution_count": 74,
     "metadata": {},
     "output_type": "execute_result"
    }
   ],
   "source": [
    "from sklearn.dummy import DummyClassifier\n",
    "from sklearn.model_selection import cross_validate\n",
    "\n",
    "scoring = ['accuracy','f1','recall','precision']\n",
    "model = DummyClassifier(strategy='stratified')\n",
    "dummy_scores_df =  cross_validate(model, X_train, y_train, scoring = scoring, return_train_score=True, cv=5)\n",
    "dummy_scores_df = pd.DataFrame(dummy_scores_df)\n",
    "dummy_scores_df"
   ]
  },
  {
   "cell_type": "markdown",
   "metadata": {},
   "source": [
    "### 2.3 Dummy classifier mean\n",
    "rubric={accuracy:1}\n",
    "\n",
    "<div class=\"alert alert-info\" style=\"color:black\">\n",
    "    \n",
    "What is the mean of each column in `dummy_scores_df`?\n",
    "\n",
    "Save your result in an object named `dummy_mean`. \n",
    "    \n",
    "</div>"
   ]
  },
  {
   "cell_type": "code",
   "execution_count": 75,
   "metadata": {
    "nbgrader": {
     "grade": true,
     "grade_id": "cell-e4826f2524485549",
     "locked": false,
     "points": 1,
     "schema_version": 3,
     "solution": true,
     "task": false
    }
   },
   "outputs": [
    {
     "data": {
      "text/plain": [
       "fit_time           0.000924\n",
       "score_time         0.004611\n",
       "test_accuracy      0.502687\n",
       "train_accuracy     0.502344\n",
       "test_f1            0.501739\n",
       "train_f1           0.500261\n",
       "test_recall        0.503331\n",
       "train_recall       0.500660\n",
       "test_precision     0.500249\n",
       "train_precision    0.499882\n",
       "dtype: float64"
      ]
     },
     "execution_count": 75,
     "metadata": {},
     "output_type": "execute_result"
    }
   ],
   "source": [
    "import numpy as np\n",
    "dummy_mean = dummy_scores_df.mean()\n",
    "\n",
    "dummy_mean"
   ]
  },
  {
   "cell_type": "markdown",
   "metadata": {},
   "source": [
    "### 2.4 Pipeline\n",
    "rubric={accuracy:2}\n",
    "\n",
    "<div class=\"alert alert-info\" style=\"color:black\">\n",
    "    \n",
    "Let's make a pipeline now. \n",
    "\n",
    "Since we only have 1 column to preprocess, we only need 1 main pipeline for this question. \n",
    "\n",
    "Create a pipeline with 2 steps, one for `CountVectorizer` and one with a `LogisticRegression` model. For the LogisticRegression model, it's a good idea to set the argument `max_iter=5000` to avoid any warnings and convergence issues. Also let's balance the classes in our splits by setting the appropriate argument in `LogisticRegression` (read its docstring to find out how to achieve this). \n",
    "    \n",
    "</div>"
   ]
  },
  {
   "cell_type": "code",
   "execution_count": 76,
   "metadata": {},
   "outputs": [
    {
     "data": {
      "text/html": [
       "<style>#sk-container-id-6 {color: black;background-color: white;}#sk-container-id-6 pre{padding: 0;}#sk-container-id-6 div.sk-toggleable {background-color: white;}#sk-container-id-6 label.sk-toggleable__label {cursor: pointer;display: block;width: 100%;margin-bottom: 0;padding: 0.3em;box-sizing: border-box;text-align: center;}#sk-container-id-6 label.sk-toggleable__label-arrow:before {content: \"▸\";float: left;margin-right: 0.25em;color: #696969;}#sk-container-id-6 label.sk-toggleable__label-arrow:hover:before {color: black;}#sk-container-id-6 div.sk-estimator:hover label.sk-toggleable__label-arrow:before {color: black;}#sk-container-id-6 div.sk-toggleable__content {max-height: 0;max-width: 0;overflow: hidden;text-align: left;background-color: #f0f8ff;}#sk-container-id-6 div.sk-toggleable__content pre {margin: 0.2em;color: black;border-radius: 0.25em;background-color: #f0f8ff;}#sk-container-id-6 input.sk-toggleable__control:checked~div.sk-toggleable__content {max-height: 200px;max-width: 100%;overflow: auto;}#sk-container-id-6 input.sk-toggleable__control:checked~label.sk-toggleable__label-arrow:before {content: \"▾\";}#sk-container-id-6 div.sk-estimator input.sk-toggleable__control:checked~label.sk-toggleable__label {background-color: #d4ebff;}#sk-container-id-6 div.sk-label input.sk-toggleable__control:checked~label.sk-toggleable__label {background-color: #d4ebff;}#sk-container-id-6 input.sk-hidden--visually {border: 0;clip: rect(1px 1px 1px 1px);clip: rect(1px, 1px, 1px, 1px);height: 1px;margin: -1px;overflow: hidden;padding: 0;position: absolute;width: 1px;}#sk-container-id-6 div.sk-estimator {font-family: monospace;background-color: #f0f8ff;border: 1px dotted black;border-radius: 0.25em;box-sizing: border-box;margin-bottom: 0.5em;}#sk-container-id-6 div.sk-estimator:hover {background-color: #d4ebff;}#sk-container-id-6 div.sk-parallel-item::after {content: \"\";width: 100%;border-bottom: 1px solid gray;flex-grow: 1;}#sk-container-id-6 div.sk-label:hover label.sk-toggleable__label {background-color: #d4ebff;}#sk-container-id-6 div.sk-serial::before {content: \"\";position: absolute;border-left: 1px solid gray;box-sizing: border-box;top: 0;bottom: 0;left: 50%;z-index: 0;}#sk-container-id-6 div.sk-serial {display: flex;flex-direction: column;align-items: center;background-color: white;padding-right: 0.2em;padding-left: 0.2em;position: relative;}#sk-container-id-6 div.sk-item {position: relative;z-index: 1;}#sk-container-id-6 div.sk-parallel {display: flex;align-items: stretch;justify-content: center;background-color: white;position: relative;}#sk-container-id-6 div.sk-item::before, #sk-container-id-6 div.sk-parallel-item::before {content: \"\";position: absolute;border-left: 1px solid gray;box-sizing: border-box;top: 0;bottom: 0;left: 50%;z-index: -1;}#sk-container-id-6 div.sk-parallel-item {display: flex;flex-direction: column;z-index: 1;position: relative;background-color: white;}#sk-container-id-6 div.sk-parallel-item:first-child::after {align-self: flex-end;width: 50%;}#sk-container-id-6 div.sk-parallel-item:last-child::after {align-self: flex-start;width: 50%;}#sk-container-id-6 div.sk-parallel-item:only-child::after {width: 0;}#sk-container-id-6 div.sk-dashed-wrapped {border: 1px dashed gray;margin: 0 0.4em 0.5em 0.4em;box-sizing: border-box;padding-bottom: 0.4em;background-color: white;}#sk-container-id-6 div.sk-label label {font-family: monospace;font-weight: bold;display: inline-block;line-height: 1.2em;}#sk-container-id-6 div.sk-label-container {text-align: center;}#sk-container-id-6 div.sk-container {/* jupyter's `normalize.less` sets `[hidden] { display: none; }` but bootstrap.min.css set `[hidden] { display: none !important; }` so we also need the `!important` here to be able to override the default hidden behavior on the sphinx rendered scikit-learn.org. See: https://github.com/scikit-learn/scikit-learn/issues/21755 */display: inline-block !important;position: relative;}#sk-container-id-6 div.sk-text-repr-fallback {display: none;}</style><div id=\"sk-container-id-6\" class=\"sk-top-container\"><div class=\"sk-text-repr-fallback\"><pre>Pipeline(steps=[(&#x27;countvectorizer&#x27;, CountVectorizer()),\n",
       "                (&#x27;logisticregression&#x27;,\n",
       "                 LogisticRegression(class_weight=&#x27;balanced&#x27;, max_iter=5000))])</pre><b>In a Jupyter environment, please rerun this cell to show the HTML representation or trust the notebook. <br />On GitHub, the HTML representation is unable to render, please try loading this page with nbviewer.org.</b></div><div class=\"sk-container\" hidden><div class=\"sk-item sk-dashed-wrapped\"><div class=\"sk-label-container\"><div class=\"sk-label sk-toggleable\"><input class=\"sk-toggleable__control sk-hidden--visually\" id=\"sk-estimator-id-16\" type=\"checkbox\" ><label for=\"sk-estimator-id-16\" class=\"sk-toggleable__label sk-toggleable__label-arrow\">Pipeline</label><div class=\"sk-toggleable__content\"><pre>Pipeline(steps=[(&#x27;countvectorizer&#x27;, CountVectorizer()),\n",
       "                (&#x27;logisticregression&#x27;,\n",
       "                 LogisticRegression(class_weight=&#x27;balanced&#x27;, max_iter=5000))])</pre></div></div></div><div class=\"sk-serial\"><div class=\"sk-item\"><div class=\"sk-estimator sk-toggleable\"><input class=\"sk-toggleable__control sk-hidden--visually\" id=\"sk-estimator-id-17\" type=\"checkbox\" ><label for=\"sk-estimator-id-17\" class=\"sk-toggleable__label sk-toggleable__label-arrow\">CountVectorizer</label><div class=\"sk-toggleable__content\"><pre>CountVectorizer()</pre></div></div></div><div class=\"sk-item\"><div class=\"sk-estimator sk-toggleable\"><input class=\"sk-toggleable__control sk-hidden--visually\" id=\"sk-estimator-id-18\" type=\"checkbox\" ><label for=\"sk-estimator-id-18\" class=\"sk-toggleable__label sk-toggleable__label-arrow\">LogisticRegression</label><div class=\"sk-toggleable__content\"><pre>LogisticRegression(class_weight=&#x27;balanced&#x27;, max_iter=5000)</pre></div></div></div></div></div></div></div>"
      ],
      "text/plain": [
       "Pipeline(steps=[('countvectorizer', CountVectorizer()),\n",
       "                ('logisticregression',\n",
       "                 LogisticRegression(class_weight='balanced', max_iter=5000))])"
      ]
     },
     "execution_count": 76,
     "metadata": {},
     "output_type": "execute_result"
    }
   ],
   "source": [
    "from sklearn.feature_extraction.text import CountVectorizer\n",
    "from sklearn.linear_model import LogisticRegression\n",
    "from sklearn.pipeline import make_pipeline\n",
    "pipe = make_pipeline(CountVectorizer(),LogisticRegression(max_iter=5000, class_weight= 'balanced'))\n",
    "pipe"
   ]
  },
  {
   "cell_type": "markdown",
   "metadata": {},
   "source": [
    "### 2.5 Hyperparameter optimization\n",
    "rubric={accuracy:4}\n",
    "\n",
    "<div class=\"alert alert-info\" style=\"color:black\">\n",
    "    \n",
    "Perform hyperparameter turning using a random search of 10 hyperparameter combinations.\n",
    "We have provided the `params_grid`,\n",
    "which contains a distribution of each parameter using scipy distribution functions.\n",
    "In the interest of time,\n",
    "you can limit your cross-validation of the hyperparameter combinations to 3-fold\n",
    "and set the computation to run in parallel using `n_jobs`.\n",
    "Also, use verbose output and return the training score.\n",
    "Instead of the default scoring metric,\n",
    "use the f1 score.\n",
    "\n",
    "Finally,\n",
    "make sure to fit your model on the entire training dataset. \n",
    "\n",
    "This can take a few minutes so please be patient.\n",
    "    \n",
    "</div>"
   ]
  },
  {
   "cell_type": "code",
   "execution_count": 77,
   "metadata": {
    "nbgrader": {
     "grade": true,
     "grade_id": "cell-907dab64153f296f",
     "locked": false,
     "points": 4,
     "schema_version": 3,
     "solution": true,
     "task": false
    }
   },
   "outputs": [
    {
     "name": "stdout",
     "output_type": "stream",
     "text": [
      "Fitting 3 folds for each of 10 candidates, totalling 30 fits\n",
      "[CV] END countvectorizer__max_features=8705, logisticregression__C=0.06749796312862197; total time=   3.6s\n",
      "[CV] END countvectorizer__max_features=8705, logisticregression__C=0.06749796312862197; total time=   3.7s\n",
      "[CV] END countvectorizer__max_features=8705, logisticregression__C=0.06749796312862197; total time=   3.8s\n",
      "[CV] END countvectorizer__max_features=9530, logisticregression__C=0.10979783839032836; total time=   4.1s\n",
      "[CV] END countvectorizer__max_features=9884, logisticregression__C=1.6086701767296907; total time=   5.5s\n",
      "[CV] END countvectorizer__max_features=9884, logisticregression__C=1.6086701767296907; total time=   5.4s\n",
      "[CV] END countvectorizer__max_features=9884, logisticregression__C=1.6086701767296907; total time=   5.5s\n",
      "[CV] END countvectorizer__max_features=3855, logisticregression__C=70.81329186322823; total time=   8.4s\n",
      "[CV] END countvectorizer__max_features=3855, logisticregression__C=70.81329186322823; total time=   8.3s\n",
      "[CV] END countvectorizer__max_features=3855, logisticregression__C=70.81329186322823; total time=   8.5s\n",
      "[CV] END countvectorizer__max_features=1802, logisticregression__C=0.18273374632840003; total time=   3.2s\n",
      "[CV] END countvectorizer__max_features=1802, logisticregression__C=0.18273374632840003; total time=   3.0s\n",
      "[CV] END countvectorizer__max_features=9530, logisticregression__C=0.10979783839032836; total time=   3.7s\n",
      "[CV] END countvectorizer__max_features=9530, logisticregression__C=0.10979783839032836; total time=   4.0s\n",
      "[CV] END countvectorizer__max_features=7591, logisticregression__C=0.020689823025173873; total time=   2.5s\n",
      "[CV] END countvectorizer__max_features=7591, logisticregression__C=0.020689823025173873; total time=   2.5s\n",
      "[CV] END countvectorizer__max_features=1802, logisticregression__C=0.18273374632840003; total time=   2.9s\n",
      "[CV] END countvectorizer__max_features=7591, logisticregression__C=0.020689823025173873; total time=   2.9s\n",
      "[CV] END countvectorizer__max_features=3469, logisticregression__C=0.3238014522977797; total time=   3.7s\n",
      "[CV] END countvectorizer__max_features=3469, logisticregression__C=0.3238014522977797; total time=   3.8s\n",
      "[CV] END countvectorizer__max_features=3455, logisticregression__C=0.17850687766843076; total time=   3.4s\n",
      "[CV] END countvectorizer__max_features=3469, logisticregression__C=0.3238014522977797; total time=   3.7s\n",
      "[CV] END countvectorizer__max_features=3455, logisticregression__C=0.17850687766843076; total time=   3.5s\n",
      "[CV] END countvectorizer__max_features=7460, logisticregression__C=0.04238229772994073; total time=   3.0s\n",
      "[CV] END countvectorizer__max_features=3455, logisticregression__C=0.17850687766843076; total time=   3.3s\n",
      "[CV] END countvectorizer__max_features=7460, logisticregression__C=0.04238229772994073; total time=   3.1s\n",
      "[CV] END countvectorizer__max_features=7460, logisticregression__C=0.04238229772994073; total time=   2.9s\n",
      "[CV] END countvectorizer__max_features=1773, logisticregression__C=0.05417040002940787; total time=   1.9s\n",
      "[CV] END countvectorizer__max_features=1773, logisticregression__C=0.05417040002940787; total time=   1.7s\n",
      "[CV] END countvectorizer__max_features=1773, logisticregression__C=0.05417040002940787; total time=   1.6s\n"
     ]
    },
    {
     "data": {
      "text/html": [
       "<style>#sk-container-id-7 {color: black;background-color: white;}#sk-container-id-7 pre{padding: 0;}#sk-container-id-7 div.sk-toggleable {background-color: white;}#sk-container-id-7 label.sk-toggleable__label {cursor: pointer;display: block;width: 100%;margin-bottom: 0;padding: 0.3em;box-sizing: border-box;text-align: center;}#sk-container-id-7 label.sk-toggleable__label-arrow:before {content: \"▸\";float: left;margin-right: 0.25em;color: #696969;}#sk-container-id-7 label.sk-toggleable__label-arrow:hover:before {color: black;}#sk-container-id-7 div.sk-estimator:hover label.sk-toggleable__label-arrow:before {color: black;}#sk-container-id-7 div.sk-toggleable__content {max-height: 0;max-width: 0;overflow: hidden;text-align: left;background-color: #f0f8ff;}#sk-container-id-7 div.sk-toggleable__content pre {margin: 0.2em;color: black;border-radius: 0.25em;background-color: #f0f8ff;}#sk-container-id-7 input.sk-toggleable__control:checked~div.sk-toggleable__content {max-height: 200px;max-width: 100%;overflow: auto;}#sk-container-id-7 input.sk-toggleable__control:checked~label.sk-toggleable__label-arrow:before {content: \"▾\";}#sk-container-id-7 div.sk-estimator input.sk-toggleable__control:checked~label.sk-toggleable__label {background-color: #d4ebff;}#sk-container-id-7 div.sk-label input.sk-toggleable__control:checked~label.sk-toggleable__label {background-color: #d4ebff;}#sk-container-id-7 input.sk-hidden--visually {border: 0;clip: rect(1px 1px 1px 1px);clip: rect(1px, 1px, 1px, 1px);height: 1px;margin: -1px;overflow: hidden;padding: 0;position: absolute;width: 1px;}#sk-container-id-7 div.sk-estimator {font-family: monospace;background-color: #f0f8ff;border: 1px dotted black;border-radius: 0.25em;box-sizing: border-box;margin-bottom: 0.5em;}#sk-container-id-7 div.sk-estimator:hover {background-color: #d4ebff;}#sk-container-id-7 div.sk-parallel-item::after {content: \"\";width: 100%;border-bottom: 1px solid gray;flex-grow: 1;}#sk-container-id-7 div.sk-label:hover label.sk-toggleable__label {background-color: #d4ebff;}#sk-container-id-7 div.sk-serial::before {content: \"\";position: absolute;border-left: 1px solid gray;box-sizing: border-box;top: 0;bottom: 0;left: 50%;z-index: 0;}#sk-container-id-7 div.sk-serial {display: flex;flex-direction: column;align-items: center;background-color: white;padding-right: 0.2em;padding-left: 0.2em;position: relative;}#sk-container-id-7 div.sk-item {position: relative;z-index: 1;}#sk-container-id-7 div.sk-parallel {display: flex;align-items: stretch;justify-content: center;background-color: white;position: relative;}#sk-container-id-7 div.sk-item::before, #sk-container-id-7 div.sk-parallel-item::before {content: \"\";position: absolute;border-left: 1px solid gray;box-sizing: border-box;top: 0;bottom: 0;left: 50%;z-index: -1;}#sk-container-id-7 div.sk-parallel-item {display: flex;flex-direction: column;z-index: 1;position: relative;background-color: white;}#sk-container-id-7 div.sk-parallel-item:first-child::after {align-self: flex-end;width: 50%;}#sk-container-id-7 div.sk-parallel-item:last-child::after {align-self: flex-start;width: 50%;}#sk-container-id-7 div.sk-parallel-item:only-child::after {width: 0;}#sk-container-id-7 div.sk-dashed-wrapped {border: 1px dashed gray;margin: 0 0.4em 0.5em 0.4em;box-sizing: border-box;padding-bottom: 0.4em;background-color: white;}#sk-container-id-7 div.sk-label label {font-family: monospace;font-weight: bold;display: inline-block;line-height: 1.2em;}#sk-container-id-7 div.sk-label-container {text-align: center;}#sk-container-id-7 div.sk-container {/* jupyter's `normalize.less` sets `[hidden] { display: none; }` but bootstrap.min.css set `[hidden] { display: none !important; }` so we also need the `!important` here to be able to override the default hidden behavior on the sphinx rendered scikit-learn.org. See: https://github.com/scikit-learn/scikit-learn/issues/21755 */display: inline-block !important;position: relative;}#sk-container-id-7 div.sk-text-repr-fallback {display: none;}</style><div id=\"sk-container-id-7\" class=\"sk-top-container\"><div class=\"sk-text-repr-fallback\"><pre>RandomizedSearchCV(cv=3,\n",
       "                   estimator=Pipeline(steps=[(&#x27;countvectorizer&#x27;,\n",
       "                                              CountVectorizer()),\n",
       "                                             (&#x27;logisticregression&#x27;,\n",
       "                                              LogisticRegression(class_weight=&#x27;balanced&#x27;,\n",
       "                                                                 max_iter=5000))]),\n",
       "                   n_jobs=10,\n",
       "                   param_distributions={&#x27;countvectorizer__max_features&#x27;: &lt;scipy.stats._distn_infrastructure.rv_discrete_frozen object at 0x285999950&gt;,\n",
       "                                        &#x27;logisticregression__C&#x27;: &lt;scipy.stats._distn_infrastructure.rv_continuous_frozen object at 0x2859df510&gt;},\n",
       "                   return_train_score=True, scoring=&#x27;f1&#x27;, verbose=2)</pre><b>In a Jupyter environment, please rerun this cell to show the HTML representation or trust the notebook. <br />On GitHub, the HTML representation is unable to render, please try loading this page with nbviewer.org.</b></div><div class=\"sk-container\" hidden><div class=\"sk-item sk-dashed-wrapped\"><div class=\"sk-label-container\"><div class=\"sk-label sk-toggleable\"><input class=\"sk-toggleable__control sk-hidden--visually\" id=\"sk-estimator-id-19\" type=\"checkbox\" ><label for=\"sk-estimator-id-19\" class=\"sk-toggleable__label sk-toggleable__label-arrow\">RandomizedSearchCV</label><div class=\"sk-toggleable__content\"><pre>RandomizedSearchCV(cv=3,\n",
       "                   estimator=Pipeline(steps=[(&#x27;countvectorizer&#x27;,\n",
       "                                              CountVectorizer()),\n",
       "                                             (&#x27;logisticregression&#x27;,\n",
       "                                              LogisticRegression(class_weight=&#x27;balanced&#x27;,\n",
       "                                                                 max_iter=5000))]),\n",
       "                   n_jobs=10,\n",
       "                   param_distributions={&#x27;countvectorizer__max_features&#x27;: &lt;scipy.stats._distn_infrastructure.rv_discrete_frozen object at 0x285999950&gt;,\n",
       "                                        &#x27;logisticregression__C&#x27;: &lt;scipy.stats._distn_infrastructure.rv_continuous_frozen object at 0x2859df510&gt;},\n",
       "                   return_train_score=True, scoring=&#x27;f1&#x27;, verbose=2)</pre></div></div></div><div class=\"sk-parallel\"><div class=\"sk-parallel-item\"><div class=\"sk-item\"><div class=\"sk-label-container\"><div class=\"sk-label sk-toggleable\"><input class=\"sk-toggleable__control sk-hidden--visually\" id=\"sk-estimator-id-20\" type=\"checkbox\" ><label for=\"sk-estimator-id-20\" class=\"sk-toggleable__label sk-toggleable__label-arrow\">estimator: Pipeline</label><div class=\"sk-toggleable__content\"><pre>Pipeline(steps=[(&#x27;countvectorizer&#x27;, CountVectorizer()),\n",
       "                (&#x27;logisticregression&#x27;,\n",
       "                 LogisticRegression(class_weight=&#x27;balanced&#x27;, max_iter=5000))])</pre></div></div></div><div class=\"sk-serial\"><div class=\"sk-item\"><div class=\"sk-serial\"><div class=\"sk-item\"><div class=\"sk-estimator sk-toggleable\"><input class=\"sk-toggleable__control sk-hidden--visually\" id=\"sk-estimator-id-21\" type=\"checkbox\" ><label for=\"sk-estimator-id-21\" class=\"sk-toggleable__label sk-toggleable__label-arrow\">CountVectorizer</label><div class=\"sk-toggleable__content\"><pre>CountVectorizer()</pre></div></div></div><div class=\"sk-item\"><div class=\"sk-estimator sk-toggleable\"><input class=\"sk-toggleable__control sk-hidden--visually\" id=\"sk-estimator-id-22\" type=\"checkbox\" ><label for=\"sk-estimator-id-22\" class=\"sk-toggleable__label sk-toggleable__label-arrow\">LogisticRegression</label><div class=\"sk-toggleable__content\"><pre>LogisticRegression(class_weight=&#x27;balanced&#x27;, max_iter=5000)</pre></div></div></div></div></div></div></div></div></div></div></div></div>"
      ],
      "text/plain": [
       "RandomizedSearchCV(cv=3,\n",
       "                   estimator=Pipeline(steps=[('countvectorizer',\n",
       "                                              CountVectorizer()),\n",
       "                                             ('logisticregression',\n",
       "                                              LogisticRegression(class_weight='balanced',\n",
       "                                                                 max_iter=5000))]),\n",
       "                   n_jobs=10,\n",
       "                   param_distributions={'countvectorizer__max_features': <scipy.stats._distn_infrastructure.rv_discrete_frozen object at 0x285999950>,\n",
       "                                        'logisticregression__C': <scipy.stats._distn_infrastructure.rv_continuous_frozen object at 0x2859df510>},\n",
       "                   return_train_score=True, scoring='f1', verbose=2)"
      ]
     },
     "execution_count": 77,
     "metadata": {},
     "output_type": "execute_result"
    }
   ],
   "source": [
    "from scipy.stats import loguniform, randint\n",
    "from sklearn.model_selection import RandomizedSearchCV\n",
    "param_grid = {\n",
    "    \"countvectorizer__max_features\": randint(10, 10000),\n",
    "    \"logisticregression__C\": loguniform(0.01, 100),\n",
    "}\n",
    "\n",
    "random_search = RandomizedSearchCV(pipe, param_distributions = param_grid, cv=3, n_jobs=10, verbose=2, scoring='f1', return_train_score=True)\n",
    "random_search.fit(X_train, y_train)"
   ]
  },
  {
   "cell_type": "markdown",
   "metadata": {},
   "source": [
    "### 2.6  Best hyperparameters\n",
    "rubric={accuracy:2}\n",
    "\n",
    "<div class=\"alert alert-info\" style=\"color:black\">\n",
    "    \n",
    "What are the best hyperparameter values found by `RandomizedSearchCV` for `C` and `max_features`. \n",
    "What was the corresponding validation score? Output these values either in separate cells or by printing all of them from a single cell (but we need to see all to be able to grade).\n",
    "    \n",
    "</div>"
   ]
  },
  {
   "cell_type": "code",
   "execution_count": 78,
   "metadata": {
    "nbgrader": {
     "grade": true,
     "grade_id": "cell-735fc79f5b175920",
     "locked": false,
     "points": 2,
     "schema_version": 3,
     "solution": true,
     "task": false
    }
   },
   "outputs": [
    {
     "data": {
      "text/plain": [
       "{'countvectorizer__max_features': 7460,\n",
       " 'logisticregression__C': 0.04238229772994073}"
      ]
     },
     "metadata": {},
     "output_type": "display_data"
    },
    {
     "data": {
      "text/plain": [
       "0.8743215073353886"
      ]
     },
     "metadata": {},
     "output_type": "display_data"
    }
   ],
   "source": [
    "optimal_parameters = random_search.best_params_\n",
    "optimal_score = random_search.best_score_\n",
    "display(optimal_parameters)\n",
    "display(optimal_score)\n"
   ]
  },
  {
   "cell_type": "markdown",
   "metadata": {},
   "source": [
    "### 2.7 Hyperparameters and the fundamental tradeoff\n",
    "rubric={reasoning:3}\n",
    "\n",
    "<div class=\"alert alert-info\" style=\"color:black\">\n",
    "    \n",
    "Write 2-3 sentences each on the two questions below,\n",
    "You can add code if needed or use information from previously executed cells\n",
    "if you deem that to be sufficient.\n",
    "\n",
    "1. From the set of possible models in the search, did your search return a relatively simple CountVectorizer or a relatively complex one?\n",
    "2. Did it return a relatively simple LogisticRegression or a relatively complex one? Here ‘simple’ and ‘complex’ we mean with respect to the fundamental tradeoff.\n",
    "    \n",
    "</div>"
   ]
  },
  {
   "cell_type": "markdown",
   "metadata": {},
   "source": [
    "1. For CountVectorizer, the max_features specify the maximal features to be included. A higher one represents a more ***Complex*** model.\n",
    "2. For LogisticRegression, the C specify the strength of regularization in logistic regression. A lower one represnets a more ***Simple*** model."
   ]
  },
  {
   "cell_type": "markdown",
   "metadata": {},
   "source": [
    "### 2.8 Train and test scores of best scoring model\n",
    "rubric={accuracy:2}\n",
    "\n",
    "<div class=\"alert alert-info\" style=\"color:black\">\n",
    "    \n",
    "What is the train and test `f1` score of the best scoring model?\n",
    "    \n",
    "</div>"
   ]
  },
  {
   "cell_type": "code",
   "execution_count": 79,
   "metadata": {},
   "outputs": [
    {
     "data": {
      "text/plain": [
       "0.8832240835154164"
      ]
     },
     "execution_count": 79,
     "metadata": {},
     "output_type": "execute_result"
    }
   ],
   "source": [
    "random_search.score(X_test, y_test) "
   ]
  },
  {
   "cell_type": "markdown",
   "metadata": {},
   "source": [
    "### 2.9 Confusion matrix\n",
    "rubric={accuracy:2}\n",
    "\n",
    "<div class=\"alert alert-info\" style=\"color:black\">\n",
    "    \n",
    "Plot a confusion matrix on the test set using your random search object as your estimator.\n",
    "Use the `display_labels` parameter so that it's easier to recognized which class is a positive review and which is negative. \n",
    "\n",
    "</div>"
   ]
  },
  {
   "cell_type": "code",
   "execution_count": 80,
   "metadata": {},
   "outputs": [
    {
     "data": {
      "text/plain": [
       "<sklearn.metrics._plot.confusion_matrix.ConfusionMatrixDisplay at 0x177e69e10>"
      ]
     },
     "execution_count": 80,
     "metadata": {},
     "output_type": "execute_result"
    },
    {
     "data": {
      "image/png": "[encoded data removed]",
      "text/plain": [
       "<Figure size 640x480 with 2 Axes>"
      ]
     },
     "metadata": {},
     "output_type": "display_data"
    }
   ],
   "source": [
    "from sklearn.metrics import confusion_matrix, ConfusionMatrixDisplay\n",
    "import matplotlib.pyplot as plt\n",
    "cm = confusion_matrix(y_test, random_search.predict(X_test))\n",
    "\n",
    "plt.rc('font', size=12) # bigger font sizes\n",
    "ConfusionMatrixDisplay(cm, display_labels=[\"Positive Review\", \"Negative Review\"]).plot()"
   ]
  },
  {
   "cell_type": "markdown",
   "metadata": {},
   "source": [
    "### 2.10 Classification report\n",
    "rubric={accuracy:3}\n",
    "\n",
    "<div class=\"alert alert-info\" style=\"color:black\">\n",
    "    \n",
    "Print a classification report on the `X_test` predictions of your random search object's best model with measurements to 4 decimal places. Use this information to answer the questions:\n",
    "\n",
    "1. What is the recall if we classify `1` as our \"positive\" class? \n",
    "2. What is the precision weighted average? Save the result to 4 decimal places. \n",
    "3. What is the `f1` score using `1` as your positive class?\n",
    "4. Comment on the overall model performance in the context of what we used as input features.\n",
    "    \n",
    "</div>"
   ]
  },
  {
   "cell_type": "code",
   "execution_count": 81,
   "metadata": {},
   "outputs": [
    {
     "name": "stdout",
     "output_type": "stream",
     "text": [
      "              precision    recall  f1-score   support\n",
      "\n",
      "    + review     0.8854    0.8669    0.8761      1961\n",
      "    - review     0.8745    0.8921    0.8832      2039\n",
      "\n",
      "    accuracy                         0.8798      4000\n",
      "   macro avg     0.8800    0.8795    0.8796      4000\n",
      "weighted avg     0.8799    0.8798    0.8797      4000\n",
      "\n"
     ]
    }
   ],
   "source": [
    "from sklearn.metrics import classification_report\n",
    "print(\n",
    "    classification_report(\n",
    "        y_test,\n",
    "        random_search.predict(X_test),\n",
    "        target_names=[\"+ review\", \"- review\"],\n",
    "        digits = 4\n",
    "    )\n",
    ")"
   ]
  },
  {
   "cell_type": "markdown",
   "metadata": {},
   "source": [
    "1. the recall for positive review is 0.8669\n",
    "2. the precision weighted average is 0.8799\n",
    "3. the f1 for positive review is 0.8797\n",
    "4. All of those scores are around 0.88, which mean this model worked pretty good."
   ]
  },
  {
   "cell_type": "markdown",
   "metadata": {
    "slideshow": {
     "slide_type": "slide"
    }
   },
   "source": [
    "## Exercise 3: Model Interpretation <a name=\"4\"></a>\n",
    "<hr>\n",
    "\n",
    "One of the primary advantage of linear models is their ability to interpret models in terms of important features. In this exercise, we'll explore the weights learned by logistic regression classifier.\n",
    "\n",
    "Below we've create a dataframe that contains the words used in our optimal model along with their coefficients (if you named your `RandomizedSearchCV` object in question 2.5 something else than `random_search`, change the code below accordingly)."
   ]
  },
  {
   "cell_type": "code",
   "execution_count": 82,
   "metadata": {},
   "outputs": [
    {
     "data": {
      "text/html": [
       "<div>\n",
       "<style scoped>\n",
       "    .dataframe tbody tr th:only-of-type {\n",
       "        vertical-align: middle;\n",
       "    }\n",
       "\n",
       "    .dataframe tbody tr th {\n",
       "        vertical-align: top;\n",
       "    }\n",
       "\n",
       "    .dataframe thead th {\n",
       "        text-align: right;\n",
       "    }\n",
       "</style>\n",
       "<table border=\"1\" class=\"dataframe\">\n",
       "  <thead>\n",
       "    <tr style=\"text-align: right;\">\n",
       "      <th></th>\n",
       "      <th>words</th>\n",
       "      <th>coefficient</th>\n",
       "    </tr>\n",
       "  </thead>\n",
       "  <tbody>\n",
       "    <tr>\n",
       "      <th>0</th>\n",
       "      <td>00</td>\n",
       "      <td>-0.091365</td>\n",
       "    </tr>\n",
       "    <tr>\n",
       "      <th>1</th>\n",
       "      <td>000</td>\n",
       "      <td>-0.000781</td>\n",
       "    </tr>\n",
       "    <tr>\n",
       "      <th>2</th>\n",
       "      <td>007</td>\n",
       "      <td>0.025314</td>\n",
       "    </tr>\n",
       "    <tr>\n",
       "      <th>3</th>\n",
       "      <td>10</td>\n",
       "      <td>0.098615</td>\n",
       "    </tr>\n",
       "    <tr>\n",
       "      <th>4</th>\n",
       "      <td>100</td>\n",
       "      <td>0.211730</td>\n",
       "    </tr>\n",
       "    <tr>\n",
       "      <th>...</th>\n",
       "      <td>...</td>\n",
       "      <td>...</td>\n",
       "    </tr>\n",
       "    <tr>\n",
       "      <th>7455</th>\n",
       "      <td>zizek</td>\n",
       "      <td>-0.044152</td>\n",
       "    </tr>\n",
       "    <tr>\n",
       "      <th>7456</th>\n",
       "      <td>zoey</td>\n",
       "      <td>-0.119034</td>\n",
       "    </tr>\n",
       "    <tr>\n",
       "      <th>7457</th>\n",
       "      <td>zombie</td>\n",
       "      <td>-0.111114</td>\n",
       "    </tr>\n",
       "    <tr>\n",
       "      <th>7458</th>\n",
       "      <td>zombies</td>\n",
       "      <td>-0.169676</td>\n",
       "    </tr>\n",
       "    <tr>\n",
       "      <th>7459</th>\n",
       "      <td>zone</td>\n",
       "      <td>-0.082647</td>\n",
       "    </tr>\n",
       "  </tbody>\n",
       "</table>\n",
       "<p>7460 rows × 2 columns</p>\n",
       "</div>"
      ],
      "text/plain": [
       "        words  coefficient\n",
       "0          00    -0.091365\n",
       "1         000    -0.000781\n",
       "2         007     0.025314\n",
       "3          10     0.098615\n",
       "4         100     0.211730\n",
       "...       ...          ...\n",
       "7455    zizek    -0.044152\n",
       "7456     zoey    -0.119034\n",
       "7457   zombie    -0.111114\n",
       "7458  zombies    -0.169676\n",
       "7459     zone    -0.082647\n",
       "\n",
       "[7460 rows x 2 columns]"
      ]
     },
     "execution_count": 82,
     "metadata": {},
     "output_type": "execute_result"
    }
   ],
   "source": [
    "best_estimator = random_search.best_estimator_\n",
    "\n",
    "coef_df = pd.DataFrame({\n",
    "    'words': best_estimator[ \"countvectorizer\"].get_feature_names_out(),\n",
    "    'coefficient': best_estimator[\"logisticregression\"].coef_[0]\n",
    "})\n",
    "\n",
    "coef_df"
   ]
  },
  {
   "cell_type": "markdown",
   "metadata": {},
   "source": [
    "### 3.1 Get the most informative positive words\n",
    "rubric={accuracy:1, reasoning:1}\n",
    "\n",
    "<div class=\"alert alert-info\" style=\"color:black\">\n",
    "    \n",
    "Using the dataframe `coef_df` above, find the 10 words that are most indicative of a positive review.\n",
    "\n",
    "Elaborate on the positive words here - Do they make sense with their target value?\n",
    "    \n",
    "</div>"
   ]
  },
  {
   "cell_type": "code",
   "execution_count": 83,
   "metadata": {},
   "outputs": [
    {
     "data": {
      "text/html": [
       "<div>\n",
       "<style scoped>\n",
       "    .dataframe tbody tr th:only-of-type {\n",
       "        vertical-align: middle;\n",
       "    }\n",
       "\n",
       "    .dataframe tbody tr th {\n",
       "        vertical-align: top;\n",
       "    }\n",
       "\n",
       "    .dataframe thead th {\n",
       "        text-align: right;\n",
       "    }\n",
       "</style>\n",
       "<table border=\"1\" class=\"dataframe\">\n",
       "  <thead>\n",
       "    <tr style=\"text-align: right;\">\n",
       "      <th></th>\n",
       "      <th>words</th>\n",
       "      <th>coefficient</th>\n",
       "    </tr>\n",
       "  </thead>\n",
       "  <tbody>\n",
       "    <tr>\n",
       "      <th>4861</th>\n",
       "      <td>perfect</td>\n",
       "      <td>0.695581</td>\n",
       "    </tr>\n",
       "    <tr>\n",
       "      <th>2382</th>\n",
       "      <td>excellent</td>\n",
       "      <td>0.692922</td>\n",
       "    </tr>\n",
       "    <tr>\n",
       "      <th>346</th>\n",
       "      <td>amazing</td>\n",
       "      <td>0.566943</td>\n",
       "    </tr>\n",
       "    <tr>\n",
       "      <th>3191</th>\n",
       "      <td>hilarious</td>\n",
       "      <td>0.566911</td>\n",
       "    </tr>\n",
       "    <tr>\n",
       "      <th>905</th>\n",
       "      <td>brilliant</td>\n",
       "      <td>0.554003</td>\n",
       "    </tr>\n",
       "    <tr>\n",
       "      <th>2976</th>\n",
       "      <td>great</td>\n",
       "      <td>0.537782</td>\n",
       "    </tr>\n",
       "    <tr>\n",
       "      <th>2283</th>\n",
       "      <td>enjoyed</td>\n",
       "      <td>0.513360</td>\n",
       "    </tr>\n",
       "    <tr>\n",
       "      <th>2531</th>\n",
       "      <td>favorite</td>\n",
       "      <td>0.499015</td>\n",
       "    </tr>\n",
       "    <tr>\n",
       "      <th>6772</th>\n",
       "      <td>today</td>\n",
       "      <td>0.496267</td>\n",
       "    </tr>\n",
       "    <tr>\n",
       "      <th>7368</th>\n",
       "      <td>wonderful</td>\n",
       "      <td>0.489379</td>\n",
       "    </tr>\n",
       "  </tbody>\n",
       "</table>\n",
       "</div>"
      ],
      "text/plain": [
       "          words  coefficient\n",
       "4861    perfect     0.695581\n",
       "2382  excellent     0.692922\n",
       "346     amazing     0.566943\n",
       "3191  hilarious     0.566911\n",
       "905   brilliant     0.554003\n",
       "2976      great     0.537782\n",
       "2283    enjoyed     0.513360\n",
       "2531   favorite     0.499015\n",
       "6772      today     0.496267\n",
       "7368  wonderful     0.489379"
      ]
     },
     "execution_count": 83,
     "metadata": {},
     "output_type": "execute_result"
    }
   ],
   "source": [
    "coef_df.sort_values(by = 'coefficient',ascending=False)[0:10]"
   ]
  },
  {
   "cell_type": "markdown",
   "metadata": {},
   "source": [
    "All of them are complimentary words that make sense for the result."
   ]
  },
  {
   "cell_type": "markdown",
   "metadata": {},
   "source": [
    "### 3.2 Get the most informative negative words\n",
    "rubric={accuracy:1, reasoning:1}\n",
    "\n",
    "<div class=\"alert alert-info\" style=\"color:black\">\n",
    "    \n",
    "Using the dataframe `coef_df` above, find the 10 words that are most indicative of a negative review.\n",
    "\n",
    "Elaborate on the negative words here - Do they make sense with their target value?\n",
    "    \n",
    "</div>"
   ]
  },
  {
   "cell_type": "code",
   "execution_count": 84,
   "metadata": {},
   "outputs": [
    {
     "data": {
      "text/html": [
       "<div>\n",
       "<style scoped>\n",
       "    .dataframe tbody tr th:only-of-type {\n",
       "        vertical-align: middle;\n",
       "    }\n",
       "\n",
       "    .dataframe tbody tr th {\n",
       "        vertical-align: top;\n",
       "    }\n",
       "\n",
       "    .dataframe thead th {\n",
       "        text-align: right;\n",
       "    }\n",
       "</style>\n",
       "<table border=\"1\" class=\"dataframe\">\n",
       "  <thead>\n",
       "    <tr style=\"text-align: right;\">\n",
       "      <th></th>\n",
       "      <th>words</th>\n",
       "      <th>coefficient</th>\n",
       "    </tr>\n",
       "  </thead>\n",
       "  <tbody>\n",
       "    <tr>\n",
       "      <th>7396</th>\n",
       "      <td>worst</td>\n",
       "      <td>-1.188358</td>\n",
       "    </tr>\n",
       "    <tr>\n",
       "      <th>7223</th>\n",
       "      <td>waste</td>\n",
       "      <td>-0.919264</td>\n",
       "    </tr>\n",
       "    <tr>\n",
       "      <th>584</th>\n",
       "      <td>awful</td>\n",
       "      <td>-0.826195</td>\n",
       "    </tr>\n",
       "    <tr>\n",
       "      <th>843</th>\n",
       "      <td>boring</td>\n",
       "      <td>-0.712444</td>\n",
       "    </tr>\n",
       "    <tr>\n",
       "      <th>6654</th>\n",
       "      <td>terrible</td>\n",
       "      <td>-0.665293</td>\n",
       "    </tr>\n",
       "    <tr>\n",
       "      <th>5008</th>\n",
       "      <td>poor</td>\n",
       "      <td>-0.663517</td>\n",
       "    </tr>\n",
       "    <tr>\n",
       "      <th>2483</th>\n",
       "      <td>fails</td>\n",
       "      <td>-0.614838</td>\n",
       "    </tr>\n",
       "    <tr>\n",
       "      <th>2118</th>\n",
       "      <td>dull</td>\n",
       "      <td>-0.576598</td>\n",
       "    </tr>\n",
       "    <tr>\n",
       "      <th>7395</th>\n",
       "      <td>worse</td>\n",
       "      <td>-0.562618</td>\n",
       "    </tr>\n",
       "    <tr>\n",
       "      <th>5009</th>\n",
       "      <td>poorly</td>\n",
       "      <td>-0.551959</td>\n",
       "    </tr>\n",
       "  </tbody>\n",
       "</table>\n",
       "</div>"
      ],
      "text/plain": [
       "         words  coefficient\n",
       "7396     worst    -1.188358\n",
       "7223     waste    -0.919264\n",
       "584      awful    -0.826195\n",
       "843     boring    -0.712444\n",
       "6654  terrible    -0.665293\n",
       "5008      poor    -0.663517\n",
       "2483     fails    -0.614838\n",
       "2118      dull    -0.576598\n",
       "7395     worse    -0.562618\n",
       "5009    poorly    -0.551959"
      ]
     },
     "execution_count": 84,
     "metadata": {},
     "output_type": "execute_result"
    }
   ],
   "source": [
    "coef_df.sort_values(by = 'coefficient')[0:10]"
   ]
  },
  {
   "cell_type": "markdown",
   "metadata": {},
   "source": [
    "They make sense too."
   ]
  },
  {
   "cell_type": "markdown",
   "metadata": {},
   "source": [
    "### 3.3 Explaining the coefficients?\n",
    "rubric={reasoning:2}\n",
    "\n",
    "<div class=\"alert alert-info\" style=\"color:black\">\n",
    "    \n",
    "Do the words associated with positive and negative reviews make sense? Why is it useful to get access to this information?\n",
    "    \n",
    "</div>"
   ]
  },
  {
   "cell_type": "markdown",
   "metadata": {},
   "source": [
    "The coefficients represent people's emotional strength order for those review, and a relative high absolute value illustrates a higher positive or negative attitude. With those numbers, we can predict reviews with less computation resouces by only searching for the high rank words. Furthermore, we can find the ordinal level of emotions amoung words."
   ]
  },
  {
   "cell_type": "markdown",
   "metadata": {},
   "source": [
    "### 3.4 Using `predict` vs `predict_proba`\n",
    "rubric={accuracy:3}\n",
    "\n",
    "<div class=\"alert alert-info\" style=\"color:black\">\n",
    "    \n",
    "Make a dataframe named `results_df` that contains these 5 columns: \n",
    "\n",
    "- `review` - this should contain the reviews from `X_test`.\n",
    "- `true_label` - This should contain the true `y_test` values. \n",
    "- `predicted_y` - The predicted labels generated from `best_model` for the `X_test` reviews using `.predict()`. \n",
    "- `neg_label_prob` - The probabilities of class `0` generated from `best_model` for the `X_test` reviews. These can be found at index 0 of the `predict_proba` output (you can get that using `[:,0]`). \n",
    "-  `pos_label_prob` - The probabilities of class `1` generated from `best_model` for the `X_test` reviews. These can be found at index 0 of the `predict_proba` output (you can get that using `[:,1]`). \n",
    "    \n",
    "</div>"
   ]
  },
  {
   "cell_type": "code",
   "execution_count": 85,
   "metadata": {},
   "outputs": [
    {
     "data": {
      "text/html": [
       "<div>\n",
       "<style scoped>\n",
       "    .dataframe tbody tr th:only-of-type {\n",
       "        vertical-align: middle;\n",
       "    }\n",
       "\n",
       "    .dataframe tbody tr th {\n",
       "        vertical-align: top;\n",
       "    }\n",
       "\n",
       "    .dataframe thead th {\n",
       "        text-align: right;\n",
       "    }\n",
       "</style>\n",
       "<table border=\"1\" class=\"dataframe\">\n",
       "  <thead>\n",
       "    <tr style=\"text-align: right;\">\n",
       "      <th></th>\n",
       "      <th>review</th>\n",
       "      <th>true_label</th>\n",
       "      <th>predicted_y</th>\n",
       "      <th>neg_label_prob</th>\n",
       "      <th>pos_label_prob</th>\n",
       "    </tr>\n",
       "  </thead>\n",
       "  <tbody>\n",
       "    <tr>\n",
       "      <th>8266</th>\n",
       "      <td>There are movies that are leaders, and movies that are followers.&lt;br /&gt;&lt;br /&gt;\"Meatballs\" was a leader. And here's one of its followers.&lt;br /&gt;&lt;br /&gt;\"Party Camp\" is about as interchangeable as any of its brethern who plumbed the depths that \"Meatballs\" (the original) had so successfully mined. Of ...</td>\n",
       "      <td>0</td>\n",
       "      <td>0</td>\n",
       "      <td>0.605760</td>\n",
       "      <td>0.394240</td>\n",
       "    </tr>\n",
       "    <tr>\n",
       "      <th>12987</th>\n",
       "      <td>This wonderful movie really takes the time to step back and tell the story without words. The end of the movie contains almost no dialogue but what is in the minds of the characters is always perfectly clear. You know the film is not going to have a happy ending but you leave the film feeling ho...</td>\n",
       "      <td>1</td>\n",
       "      <td>1</td>\n",
       "      <td>0.155024</td>\n",
       "      <td>0.844976</td>\n",
       "    </tr>\n",
       "    <tr>\n",
       "      <th>16016</th>\n",
       "      <td>Like The Jeffersons, Good Times was one of the those classic American sitcoms which was never aired in the UK, not to mention it came out in the 1970s- a decade where of which I wasn't born yet.&lt;br /&gt;&lt;br /&gt;But like most fans of the show, I watched a few episodes on You Tube- and afterwards, I lo...</td>\n",
       "      <td>1</td>\n",
       "      <td>1</td>\n",
       "      <td>0.000232</td>\n",
       "      <td>0.999768</td>\n",
       "    </tr>\n",
       "    <tr>\n",
       "      <th>16475</th>\n",
       "      <td>Michael Radford has done an excellent job bringing this difficult play to the screen. He has taken a play with a reputation for anti-semitism, and shown us that Shakespeare knew quite well the humanity of the Jews. Radford said after the screening, and I agree, that Shylock is his first tragic h...</td>\n",
       "      <td>1</td>\n",
       "      <td>1</td>\n",
       "      <td>0.000248</td>\n",
       "      <td>0.999752</td>\n",
       "    </tr>\n",
       "    <tr>\n",
       "      <th>6277</th>\n",
       "      <td>Producers Golan and Globus should have been ashamed to release this piece of trash publicly. I know this is gonna sound cliched, but compared to this, the first \"Hercules\" of 1983 looks like a mature and exciting epic! This \"sequel\" is moronic, cheap, unredeemable, childish, phony, inept and BAD...</td>\n",
       "      <td>0</td>\n",
       "      <td>0</td>\n",
       "      <td>0.885706</td>\n",
       "      <td>0.114294</td>\n",
       "    </tr>\n",
       "    <tr>\n",
       "      <th>...</th>\n",
       "      <td>...</td>\n",
       "      <td>...</td>\n",
       "      <td>...</td>\n",
       "      <td>...</td>\n",
       "      <td>...</td>\n",
       "    </tr>\n",
       "    <tr>\n",
       "      <th>13586</th>\n",
       "      <td>Well, this is new...Famous Italian horror director Lucio Fulci shoots a film about a famous Italian horror director called...Lucio Fulci. After years and years of witnessing gruesome horror sequences, it becomes hard for Lucio to separate reality from fiction and he often hallucinates about comm...</td>\n",
       "      <td>1</td>\n",
       "      <td>0</td>\n",
       "      <td>0.557503</td>\n",
       "      <td>0.442497</td>\n",
       "    </tr>\n",
       "    <tr>\n",
       "      <th>12216</th>\n",
       "      <td>For all the Homicide junkies out there, this movie was great! Every single character that ever was on the show made an appearance in the movie. It helped to resolve some (but not all) issues from the series. Unfortunately, unless you actually did watch the series, most of the enjoyment would be ...</td>\n",
       "      <td>1</td>\n",
       "      <td>0</td>\n",
       "      <td>0.751401</td>\n",
       "      <td>0.248599</td>\n",
       "    </tr>\n",
       "    <tr>\n",
       "      <th>14843</th>\n",
       "      <td>For me, North and South (Books I&amp;II) is the ultimate TV series of the 80's. Just spotting all those cameo appearances was highly entertaining.Gene Kelly, James Stewart, Elisabeth Taylor, Olivia De Havilland, Robert Mitchum, even Johny CashÂ¡ No series has come close to this achievement.Have you ...</td>\n",
       "      <td>1</td>\n",
       "      <td>1</td>\n",
       "      <td>0.014450</td>\n",
       "      <td>0.985550</td>\n",
       "    </tr>\n",
       "    <tr>\n",
       "      <th>4831</th>\n",
       "      <td>I would like to know who conned the producers of this movie to pay for its production - That persion is a genius of sorts. This movie somehow held my attention for about two thirds of it until I realized that it was going nowhere fast. I think the music managed to make it seem like something was...</td>\n",
       "      <td>0</td>\n",
       "      <td>0</td>\n",
       "      <td>0.965203</td>\n",
       "      <td>0.034797</td>\n",
       "    </tr>\n",
       "    <tr>\n",
       "      <th>10780</th>\n",
       "      <td>Melissa Joan Hart shines! This show is amazing!! There is no match. Except for maybe Melissa in Clarissa Explains it All. She was marvelous in that, too. This is SO much better than Buffy, the Vampire Slayer. This show is WONDERFUL!</td>\n",
       "      <td>1</td>\n",
       "      <td>1</td>\n",
       "      <td>0.333598</td>\n",
       "      <td>0.666402</td>\n",
       "    </tr>\n",
       "  </tbody>\n",
       "</table>\n",
       "<p>4000 rows × 5 columns</p>\n",
       "</div>"
      ],
      "text/plain": [
       "                                                                                                                                                                                                                                                                                                            review  \\\n",
       "8266   There are movies that are leaders, and movies that are followers.<br /><br />\"Meatballs\" was a leader. And here's one of its followers.<br /><br />\"Party Camp\" is about as interchangeable as any of its brethern who plumbed the depths that \"Meatballs\" (the original) had so successfully mined. Of ...   \n",
       "12987  This wonderful movie really takes the time to step back and tell the story without words. The end of the movie contains almost no dialogue but what is in the minds of the characters is always perfectly clear. You know the film is not going to have a happy ending but you leave the film feeling ho...   \n",
       "16016  Like The Jeffersons, Good Times was one of the those classic American sitcoms which was never aired in the UK, not to mention it came out in the 1970s- a decade where of which I wasn't born yet.<br /><br />But like most fans of the show, I watched a few episodes on You Tube- and afterwards, I lo...   \n",
       "16475  Michael Radford has done an excellent job bringing this difficult play to the screen. He has taken a play with a reputation for anti-semitism, and shown us that Shakespeare knew quite well the humanity of the Jews. Radford said after the screening, and I agree, that Shylock is his first tragic h...   \n",
       "6277   Producers Golan and Globus should have been ashamed to release this piece of trash publicly. I know this is gonna sound cliched, but compared to this, the first \"Hercules\" of 1983 looks like a mature and exciting epic! This \"sequel\" is moronic, cheap, unredeemable, childish, phony, inept and BAD...   \n",
       "...                                                                                                                                                                                                                                                                                                            ...   \n",
       "13586  Well, this is new...Famous Italian horror director Lucio Fulci shoots a film about a famous Italian horror director called...Lucio Fulci. After years and years of witnessing gruesome horror sequences, it becomes hard for Lucio to separate reality from fiction and he often hallucinates about comm...   \n",
       "12216  For all the Homicide junkies out there, this movie was great! Every single character that ever was on the show made an appearance in the movie. It helped to resolve some (but not all) issues from the series. Unfortunately, unless you actually did watch the series, most of the enjoyment would be ...   \n",
       "14843  For me, North and South (Books I&II) is the ultimate TV series of the 80's. Just spotting all those cameo appearances was highly entertaining.Gene Kelly, James Stewart, Elisabeth Taylor, Olivia De Havilland, Robert Mitchum, even Johny CashÂ¡ No series has come close to this achievement.Have you ...   \n",
       "4831   I would like to know who conned the producers of this movie to pay for its production - That persion is a genius of sorts. This movie somehow held my attention for about two thirds of it until I realized that it was going nowhere fast. I think the music managed to make it seem like something was...   \n",
       "10780                                                                     Melissa Joan Hart shines! This show is amazing!! There is no match. Except for maybe Melissa in Clarissa Explains it All. She was marvelous in that, too. This is SO much better than Buffy, the Vampire Slayer. This show is WONDERFUL!   \n",
       "\n",
       "       true_label  predicted_y  neg_label_prob  pos_label_prob  \n",
       "8266            0            0        0.605760        0.394240  \n",
       "12987           1            1        0.155024        0.844976  \n",
       "16016           1            1        0.000232        0.999768  \n",
       "16475           1            1        0.000248        0.999752  \n",
       "6277            0            0        0.885706        0.114294  \n",
       "...           ...          ...             ...             ...  \n",
       "13586           1            0        0.557503        0.442497  \n",
       "12216           1            0        0.751401        0.248599  \n",
       "14843           1            1        0.014450        0.985550  \n",
       "4831            0            0        0.965203        0.034797  \n",
       "10780           1            1        0.333598        0.666402  \n",
       "\n",
       "[4000 rows x 5 columns]"
      ]
     },
     "execution_count": 85,
     "metadata": {},
     "output_type": "execute_result"
    }
   ],
   "source": [
    "results_df = pd.DataFrame()\n",
    "results_df['review'] = X_test\n",
    "results_df['true_label'] = y_test\n",
    "results_df['predicted_y'] = random_search.predict(X_test)\n",
    "results_df['neg_label_prob'] = random_search.predict_proba(X_test)[:,0]\n",
    "results_df['pos_label_prob'] = random_search.predict_proba(X_test)[:,1]\n",
    "results_df"
   ]
  },
  {
   "cell_type": "markdown",
   "metadata": {
    "tags": []
   },
   "source": [
    "### 3.5 Looking into the probability scores with positive reviews \n",
    "rubric={accuracy:2}\n",
    "\n",
    "<div class=\"alert alert-info\" style=\"color:black\">\n",
    "    \n",
    "Find the top 5 movie reviews in `results_df` with the highest predicted probability of being positive (i.e., where the model is most confident that the review is positive). If you are curious to read these reviews, you can set the pandas column width or using `IPython.display.HTML` [using the tips in this so thread](https://stackoverflow.com/questions/25351968/how-can-i-display-full-non-truncated-dataframe-information-in-html-when-conver/)\n",
    "    \n",
    "</div>"
   ]
  },
  {
   "cell_type": "code",
   "execution_count": 86,
   "metadata": {},
   "outputs": [
    {
     "data": {
      "text/html": [
       "<div>\n",
       "<style scoped>\n",
       "    .dataframe tbody tr th:only-of-type {\n",
       "        vertical-align: middle;\n",
       "    }\n",
       "\n",
       "    .dataframe tbody tr th {\n",
       "        vertical-align: top;\n",
       "    }\n",
       "\n",
       "    .dataframe thead th {\n",
       "        text-align: right;\n",
       "    }\n",
       "</style>\n",
       "<table border=\"1\" class=\"dataframe\">\n",
       "  <thead>\n",
       "    <tr style=\"text-align: right;\">\n",
       "      <th></th>\n",
       "      <th>review</th>\n",
       "      <th>true_label</th>\n",
       "      <th>predicted_y</th>\n",
       "      <th>neg_label_prob</th>\n",
       "      <th>pos_label_prob</th>\n",
       "    </tr>\n",
       "  </thead>\n",
       "  <tbody>\n",
       "    <tr>\n",
       "      <th>12661</th>\n",
       "      <td>That 70s Show is the best TV show ever, period. It's up there with the Andy Griffen Show, Saturday Night Live, and The Simpsons in my book. That 70s Show continued on for 8 seasons, all of which focus around a group of teenagers/young adults dealing with relationships, separating from their parents, and their overall futures.&lt;br /&gt;&lt;br /&gt;The two main characters, Eric and Donna, are two teenagers living next door to each other. They have been living next door to each other for most of their lives, and just begin to feel more feelings for each other at the beginning of the first season. A large amount of the show revolves around how their relationship is working.&lt;br /&gt;&lt;br /&gt;Two other characters, Red and Kitty, are Eric's parents. Red was in the service, so he really pushes Eric around. Kitty is just the opposite. Even though she drinks heavily, she treats Eric and his friends with a lot of care. Bob, their neighbor, is obviously Donna's Dad. Bob giggles around with several different women throughout the coarse of the show's story. Bob also annoys Red to his full extent.&lt;br /&gt;&lt;br /&gt;The remaining character, Hyde, Kelso, Fez, and Jackie, are Eric's friends. They also play a major role in the show's story.&lt;br /&gt;&lt;br /&gt;Well, the First Season is great. This is when the characters are beginning to feel new things for each other. The First Season is original, funny, and enjoyable.&lt;br /&gt;&lt;br /&gt;The Second Season is good, although it isn't as good as the first. It is a basic continuation of the First. Eric and Donna are together, and everything is working out great.&lt;br /&gt;&lt;br /&gt;The Third Season is my favorite. It went back and captured the First Season feel and humor. I also think that the character chemistry improved a bunch, making the show all that more fun to watch.&lt;br /&gt;&lt;br /&gt;The Fourth Season isn't near as good. Eric and Donna Arne't together in this one, making the show slightly less pleasurable. It is still funny, although I didn't enjoy it as much as the previous seasons.&lt;br /&gt;&lt;br /&gt;The Fifth Season is the last season I enjoyed all the way through. It is the gang's Senior Year, so that really helps with the story. The Fifth Season also had the best ending out of all the seasons.&lt;br /&gt;&lt;br /&gt;The Sixth Season is good for the most part. It is extremely funny, although it doesn't capture the feel that the other seasons did. The gang is out of High School, so I believe that it didn't hit the teen feel that the previous seasons did. I also didn't like the last three or four episodes considering that they had a major drama feel to them.&lt;br /&gt;&lt;br /&gt;The Seventh Season captures the same feel that the 5th season had in a way, although it didn't do it all the way. I enjoyed the Seventh Season as I did all the others, and the ending is great.&lt;br /&gt;&lt;br /&gt;The Last Season flat out sucked. Eric wasn't in it, which ruined it. Kelso wasn't in it for the most part either, which didn't help. I hated the Eighth Season up until the last episode. I thought that the last episode was really good, and a fitting ending to the series.&lt;br /&gt;&lt;br /&gt;So overall, if you enjoy comedy, give That 70s Show a try. They stopped making new episodes, but it is still on TV a bunch. I also recommend buying Seasons 1-7. It is up to you if you want to buy Season 8.</td>\n",
       "      <td>1</td>\n",
       "      <td>1</td>\n",
       "      <td>1.282401e-08</td>\n",
       "      <td>1.0</td>\n",
       "    </tr>\n",
       "    <tr>\n",
       "      <th>16789</th>\n",
       "      <td>Raggedy Ann and Raggedy Andy THE MOVIE is about dolls that come to life when the humans aren't around. In this adventure they must rescue a kidnapped french doll named Babette from the captain of pirates. On their way they journey though Deep Dark Woods, Taffy Pit, and even Looney Land. Will the aide of their new friend The Camel With Wrinkled Knees help them or just slow them down with his hallucinations of his friends leaving him? How will they escape the Kookoo king and his henchmen!? What will their owner Marcella say when she sees her 7th birthday present doll gone along with her other toys? Delightful surprises await the two adventurers.&lt;br /&gt;&lt;br /&gt;All scores are out of a possible 10: Story: 8 - Very cute. Dolls that come to life when the master isn't around. Not just that because they go out into many many different places, but they are in an imaginary world so anything can happen. Meeting new characters, going to different places finding new friends, its great. The characters all work so well in this too and who doesn't love pirates?! Acting: 8 - Every character suits their voice so well. Specifically the Marlon Brando taffy pit enemy, The Greed. The french doll has a very uptight french accent, the evil Hitler-esquire king Kookoo (whos got hair that resembles Simpson's Sideshow Bob) plays his role very well, and the sorrow old black man voice for Camel works perfectly. Why is it that old dubbed animation was soo much better than new ones? Music: 10 - Nothing short of perfection here. The songs have been in my head for years, and re-watching it nearly 20 years later, i can still remember each and every one of them and will now be able to know exactly where these tunes come from. Joe Raposo of \"Sesame Street\" fame did an excellent job with the songs for this and everyone sings real well.&lt;br /&gt;&lt;br /&gt;Editing: 6 - Heh, this is where it'll get confusing. I mean how far did the Raggedy's walk anyway? A lot of events just seem to occur one after another and there's no telling WHO the other dolls and toys were as you never see them in the real world of the movie, but it does follow some sort of path and you know they'll eventually get to where they need to go, its just pretty hard to follow at times.&lt;br /&gt;&lt;br /&gt;Uniqueness: 8 - Between this and Unico i'd have to say there's parts in both movies i will never forget no matter how hard i try to. Mainly the scary parts. I've probably mentioned already how older movies were Much creepier than animation of today but this takes the cake in the scary factor. Outside of the South Park movie and some Disney films there's almost no animated musicals, or good ones of that coming out so its very unique.&lt;br /&gt;&lt;br /&gt;Worth: 8- Its classic. Worth the hunt to get a good copy thats for sure, but the VHS copies are probably all stretched out by now. The DVD version is sold on Ebay all the time and it'll definitely be something you'll watch more than once. If anything get it for the nostalgia purposes.&lt;br /&gt;&lt;br /&gt;Overall Score (Not an average): 8 - Its a wonderful timeless musical made in the late 70s and can still be enjoyed today. Its characters are all unique and the songs are great. So great you might find yourself humming them time and time again. Give your favorite stuffed animal a hug today! Reviewer's Insight (Including bias): This isn't like the Raggedy Ann TV series made a decade later. This was way more darker and real world. The effects in this seem like a lot of other acid-trip cartoons from the 70's, in particular, Yellow Submarine. Still, its given me memories I'll never forget, and might still influence things today. It wasn't easy to find but it'll remain a treasure to keep in my collection of DVDs and videos forever.</td>\n",
       "      <td>1</td>\n",
       "      <td>1</td>\n",
       "      <td>4.520109e-08</td>\n",
       "      <td>1.0</td>\n",
       "    </tr>\n",
       "    <tr>\n",
       "      <th>18165</th>\n",
       "      <td>1904. The North African nation of Morocco is hanging onto a tenuous Independence, as the various European powers - France, Germany, Britain, Russia, Spain, and now the United States - are vying for influence in the region. The Sultan (Marc Zuber) is a weak puppet; his uncle, the Bashaw (Vladek Sheybal), who is being manipulated by the French and Germans, is the real power behind the throne. Enter Berber Chieftan Raisuli (Sean Connery), the leader of the Rif tribe and \"the last of the Barbary Pirates\", who kidnaps an American missionary, Eden Pedecaris (Candice Bergen) and her two children and takes them hostage. Back in the US, President Theodore Roosevelt (Brian Keith) threatens to go to war over the issue: \"Pedecaris Alive or Raisuli Dead!\" - seeing the issue as the perfect way to exercise his \"Big Stick\" diplomacy, though Secretary of State John Hay (John Huston) is not so confident. However, the Raisuli has less sinister plans for the Pedecarises, who are more than capable of handling themselves in any event.&lt;br /&gt;&lt;br /&gt;John Milius's great historical film, based VERY loosely off of a true story (i.e. Pedecaris was a middle-aged man), is a wonderful bit of escapism. It has some amazing action scenes, a witty, well-written script, a fine cast enjoying themselves with the material, and does not overstay its welcome like, say, \"Pirates of the Caribbean\" or the \"Lord of the Rings\" movies. It's not really an \"epic\" film in the strictest sense, but it's one of the best pure action movies ever made.&lt;br /&gt;&lt;br /&gt;While the historical context is shaky, the storyline is interesting, and as some reviewers point out, it is even more pertinent today than it was when made. As President Roosevelt says, \"America is like a grizzly bear\" - fierce, strong, but a little blind and reckless at times. At the time of the film's setting, America has just been propelled onto the world stage as superpower, following their resounding victory in the Spanish-American War - and Roosevelt seizes this incident as a way to prove America's worth. In real life, it didn't quite work out that way, but allegorically it works well. While written from a right-wing perspective, Milius's screenplay is pretty accurate in assessing America and its place in the world. He admires Roosevelt and his method of \"big stick\" diplomacy, and correctly recognizes (in the words of Roosevelt) that while America may be feared and respected, they'll never be truly \"loved\" by the world, no matter what they do. And there are some scenes - like Roosevelt's target shooting of European leaders and the almost-comic surprise attack by Marines on the Bashaw's palace - which show America's reckless and violent side, while others - the climactic showdown with the Germans - show their heroism.&lt;br /&gt;&lt;br /&gt;The historical/political context of the film is, of course, merely meat on the bones of what is essentially a rousing action/adventure film. There are some brilliantly done action scenes, such as Raisuli's rescue of the Pedecaris's from double-crossing tribesmen, which features some of the best swordplay in any film. The opening entrance of the Raisuli and the aforementioned march and attack of the US Marines are brilliantly done bravura set pieces. And the final battle, which combines elements of \"Lawrence of Arabia\" and \"The Wild Bunch\", while a major historical fantasy (a three-way battle between Germans, Americans, and the Rifs), is a superbly staged, adrenaline-pumping sequence.&lt;br /&gt;&lt;br /&gt;The excellent cast gives some wonderful performances. Everyone seems to be having a fun time with the film, and it shows. Sean Connery is surprisingly convincing as a Berber with a Scottish accent, but manages to pull off his interesting, well-drawn and chivalrous character who comes to respect his hostage and abhors modern, uncivil warfare. Candice Bergen, an actress whom I've never been fond of, gives a fine performance as the feisty Eden Pedecaris, who is every bit as tough as her captor. Brian Keith is an amazingly convincing TR - you really feel he must have been like this, an athletic, blustering, yet practical and intelligent man with an admirable sense of self. The scenes of Roosevelt boxing and target-shooting while discussing foreign policy are some of the greatest \"bad ass\" moments in movie history - and who can forget lines like \"Why spoil the beauty of the thing with legality?\" John Huston provides solid support as the weary, cautious Hay, acting as a perfect foil to the much more impetuous Roosevelt. &lt;br /&gt;&lt;br /&gt;Among the fine supporting cast, the best are Geoffrey Lewis as Samuel Gummere, the cynical Ambassador caught in the middle of the political intrigue, and Steve Kanaly, as the gung-ho Marine Captain who cheerfully advocates (and carries out) \"Military intervention!\" as the blunt and simple solution to the whole complex situation. Other familiar faces such as Vladek Sheybal, Nadim Sawalha, Roy Jenson, Larry Cross, Marc Zuber, and Darrell Fetty also do fine work, no matter how small their role. Spaghetti Western fans will recognize Antoine Saint-John (\"A Fistful of Dynamite\") as the German general and Aldo Sambrell as one of Raisuli's tribesmen.&lt;br /&gt;&lt;br /&gt;\"The Wind and the Lion\" is, all around, a wonderfully done adventure film. It has something for everyone: wonderful gun- and swordplay, a lot of humor, a tough, feisty heroine (and her two cute children), a nice (if unconsummated) romance, and an interesting (if fanciful) political/historical context. It's not a masterpiece, but hey, it wasn't trying to be. I give \"The Wind and the Lion\" a stirring nine stars and my highest recommendation.</td>\n",
       "      <td>1</td>\n",
       "      <td>1</td>\n",
       "      <td>7.367468e-08</td>\n",
       "      <td>1.0</td>\n",
       "    </tr>\n",
       "    <tr>\n",
       "      <th>13120</th>\n",
       "      <td>Moving beyond words is this heart breaking story of a divorce which results in a tragic custody battle over a seven year old boy.&lt;br /&gt;&lt;br /&gt;One of \"Kramer v. Kramer's\" great strengths is its screenwriter director Robert Benton, who has marvellously adapted Avery Corman's novel to the big screen. He keeps things beautifully simple and most realistic, while delivering all the drama straight from the heart. His talent for telling emotional tales like this was to prove itself again with \"Places in the Heart\", where he showed, as in \"Kramer v. Kramer\", that he has a natural ability for working with children.&lt;br /&gt;&lt;br /&gt;The picture's other strong point is the splendid acting which deservedly received four of the film's nine Academy Award nominations, two of them walking away winners. One of those was Dustin Hoffman (Best Actor), who is superb as frustrated business man Ted Kramer, a man who has forgotten that his wife is a person. As said wife Joanne, Meryl Streep claimed the supporting actress Oscar for a strong, sensitive portrayal of a woman who had lost herself in eight years of marriage. Also nominated was Jane Alexander for her fantastic turn as the Kramer's good friend Margaret. Final word in the acting stakes must go to young Justin Henry, whose incredibly moving performance will find you choking back tears again and again, and a thoroughly deserved Oscar nomination came his way.&lt;br /&gt;&lt;br /&gt;Brilliant also is Nestor Almendros' cinematography and Jerry Greenberg's timely editing, while musically Henry Purcell's classical piece is used to effect.&lt;br /&gt;&lt;br /&gt;Truly this is a touching story of how a father and son come to depend on each other when their wife and mother leaves. They grow together, come to know each other and form an entirely new and wonderful relationship. Ted finds himself with new responsibilities and a new outlook on life, and slowly comes to realise why Joanne had to go.&lt;br /&gt;&lt;br /&gt;Certainly if nothing else, \"Kramer v. Kramer\" demonstrates that nobody wins when it comes to a custody battle over a young child, especially not the child himself.&lt;br /&gt;&lt;br /&gt;Saturday, June 10, 1995 - T.V.&lt;br /&gt;&lt;br /&gt;Strong drama from Avery Corman's novel about the heartache of a custody battle between estranged parents who both feel they have the child's best interests at heart. Aside from a superb screenplay and amazingly controlled direction, both from Robert Benton, it's the superlative cast that make this picture such a winner.&lt;br /&gt;&lt;br /&gt;Hoffman is brilliant as Ted Kramer, the man torn between his toppling career and the son whom he desperately wants to keep. Excellent too is Streep as the woman lost in eight years of marriage who had to get out before she faded to nothing as a person. In support of these two is a very strong Jane Alexander as mutual friend Margaret, an outstanding Justin Henry as the boy caught in the middle, and a top cast of extras.&lt;br /&gt;&lt;br /&gt;This highly emotional, heart rending drama more than deserved it's 1979 Academy Awards for best film, best actor (Hoffman) and best supporting actress (Streep).&lt;br /&gt;&lt;br /&gt;Wednesday, February 28, 1996 - T.V.</td>\n",
       "      <td>1</td>\n",
       "      <td>1</td>\n",
       "      <td>1.223953e-07</td>\n",
       "      <td>1.0</td>\n",
       "    </tr>\n",
       "    <tr>\n",
       "      <th>18719</th>\n",
       "      <td>How strange the human mind is; this center of activity wherein perceptions of reality are formed and stored, and in which one's view of the world hinges on the finely tuned functioning of the brain, this most delicate and intricate processor of all things sensory. And how much do we really know of it's inner-workings, of it's depth or capacity? What is it in the mind that allows us to discern between reality and a dream? Or can we? Perhaps our sense of reality is no more than an impression of what we actually see, like looking at a painting by Monet, in which the vanilla sky of his vision becomes our reality. It's a concept visited by filmmaker Cameron Crowe in his highly imaginative and consciousness-altering film, `Vanilla Sky,' starring Tom Cruise and Penelope Cruz. At the age of thirty-three, David Aames (Cruise) inherits a publishing empire left to him by his father. His fifty-one percent controlling interest, however, has made him something of a marked man, as there are seven members of his board of directors, and each deems himself more worthy than the young Mr. Aames of the lion's share of the company. And fueling the fires of discontent is their perception that David lacks the focus the job requires.&lt;br /&gt;&lt;br /&gt;Admittedly, David likes to play; still, he's in control of the business and does what he sees fit, whether the board (he refers to them as the `Seven Dwarfs') likes it or not, and no one has ever had the courage to challenge him directly. But during a lavish birthday party in his honor, one of the corporate lawyers, Thomas Tipp (Timothy Spall) warns David that the seven are up to something behind his back. At the time, however, it's the last thing on David's mind; he's been having a casual affair with a friend, Julie Gianni (Cameron Diaz), but even that moves to the back burner when he meets a woman at his party that he can't get out of his mind. Her name is Sofia (Penelope Cruz), and after knowing her for only one night, she becomes a pivotal part of his life-- which is about to be turned upside down, as on the morning after his party he makes a decision that will change his life forever. And he is about to learn that sometimes, there is simply no going back.&lt;br /&gt;&lt;br /&gt;Director Cameron Crowe has crafted and delivered much more than just another film with this one; far more than a movie, `Vanilla Sky' is a vision realized. Beginning with the first images that appear on screen, he presents a visually stunning experience that is both viscerally and cerebrally affecting. It's a mind-twisting mystery that will swallow you up and sweep you away; emotionally, it's a rush-- and it may leave you exhausted, because it requires some effort to stay with it. But it's worth it. Think `Memento' with a driving rock n' roll soundtrack and a vibrant assault of colors proffered by the stroke of an impressionist's brush. There's darkness and light, and sounds that pound and drive until you can feel the blood rushing through your veins and throbbing in your brain. And all played out on a landscape of virtual reality swirling beneath that ever expanding vanilla sky. Simply put, this one's a real trip; it's exciting-- and it's a mind bender.&lt;br /&gt;&lt;br /&gt;As to the performances here, those who can't get past the mind-set of Tom Cruise as Maverick in `Top Gun,' or his Ethan Hunt in `Mission Impossible,' or those who perceive him only as a `movie star' rather than an actor, are going to have to think again in light of his work here. Because as David Aames, Cruise gives the best performance of his career, one that should check any doubts as to his ability as an actor at the door. He's made some interesting career choices the past few years, with films like `Magnolia' and `Eyes Wide Shut' merely warm-ups for the very real and complex character he creates here. And give him credit, too, for taking on a role that dispels any sense of vanity; this is Cruise as you've never seen him before. `Jerry Maguire' earned him an Oscar nomination, and this one should, also-- as well as the admiration and acclaim of his peers. Cruise is not just good in this movie, he is remarkable.&lt;br /&gt;&lt;br /&gt;Penelope Cruz turns in an outstanding, if not exceptional performance, as well, as Sofia, the woman of David's dreams. There's an alluring innocence she brings to this role that works well for her character and makes her forthcoming and accessible, yet she lacks any hint of mystery that may have added that special `something extra' to the part. But Crowe knows how to get the best out of his actors, and he certainly did with Cruz.&lt;br /&gt;&lt;br /&gt;He also knew what he was doing with Cameron Diaz, who is absolutely vibrant in the role of Julie. She's never looked better, and fairly sizzles on screen. But make no mistake, this is no `window-dressing' part, and Diaz delivers a complete package with this character. The quality of her performance can be measured, in fact, in the impact she makes with rather limited screen time. And it's the persona she integrates so fully with her innate beauty that makes Julie so unforgettable. Overall, a terrific job by Diaz.&lt;br /&gt;&lt;br /&gt;The supporting cast includes Kurt Russell (Dr. McCabe), Jason Lee (Brian), Johnny Galecki (Peter), Armand Schultz (Dr. Pomerantz), Noah Taylor (Ed), Mel Thompson (`L.E.' Man), Jean Carol (Woman in New York) and John Fedevich (Silent Ed). About half-way through, this one may have you questioning your own sense of reality; but rest assured, by the end of `Vanilla Sky' all will be revealed. It's a reality-bender, to be sure, and a wild one; but this is exciting entertainment that offers a satisfying-- and unique-- experience, one you have to see to believe. It's the essential, and absolute, magic of the movies. 10/10.&lt;br /&gt;&lt;br /&gt;</td>\n",
       "      <td>1</td>\n",
       "      <td>1</td>\n",
       "      <td>2.407784e-07</td>\n",
       "      <td>1.0</td>\n",
       "    </tr>\n",
       "  </tbody>\n",
       "</table>\n",
       "</div>"
      ],
      "text/plain": [
       "                                                                                                                                                                                                                                                                                                                                                                                                                                                                                                                                                                                                                                                                                                                                                                                                                                                                                                                                                                                                                                                                                                                                                                                                                                                                                                                                                                                                                                                                                                                                                                                                                                                                                                                                                                                                                                                                                                                                                                                                                                                                                                                                                                                                                                                                                                                                                                                                                                                                                                                                                                                                                                                                                                                                                                                                                                                                                                                                                                                                                                                                                                                                                                                                                                                                                                                                                                                                                                                                                                                                                                                                                                                                                                                                                                                                                                                                                                                                                                                                                                                                                                                                                                                                                                                                                                                                                                                                                                                                                                                                                                                                                                                                                                                                                                                                                                                                                                                                                                                                                                                                                                                                                                                                                                                                                                                                                                                                                                                                                                                                                                                                                                                                                                                                                                                                                                                                                                                                                                                          review  \\\n",
       "12661                                                                                                                                                                                                                                                                                                                                                                                                                                                                                                                                                                                                                                                                                                                                                                                                                                                                                                                                                                                                                                                                                                                                                                                                                                                                                                                                                                                                                                                                                                                                                                                                                                                                                                                                                                                                                                                                                                                                                                                                                                                                                                                                                                                                                                                                                                                                                                                                                                                                                                                                                                                      That 70s Show is the best TV show ever, period. It's up there with the Andy Griffen Show, Saturday Night Live, and The Simpsons in my book. That 70s Show continued on for 8 seasons, all of which focus around a group of teenagers/young adults dealing with relationships, separating from their parents, and their overall futures.<br /><br />The two main characters, Eric and Donna, are two teenagers living next door to each other. They have been living next door to each other for most of their lives, and just begin to feel more feelings for each other at the beginning of the first season. A large amount of the show revolves around how their relationship is working.<br /><br />Two other characters, Red and Kitty, are Eric's parents. Red was in the service, so he really pushes Eric around. Kitty is just the opposite. Even though she drinks heavily, she treats Eric and his friends with a lot of care. Bob, their neighbor, is obviously Donna's Dad. Bob giggles around with several different women throughout the coarse of the show's story. Bob also annoys Red to his full extent.<br /><br />The remaining character, Hyde, Kelso, Fez, and Jackie, are Eric's friends. They also play a major role in the show's story.<br /><br />Well, the First Season is great. This is when the characters are beginning to feel new things for each other. The First Season is original, funny, and enjoyable.<br /><br />The Second Season is good, although it isn't as good as the first. It is a basic continuation of the First. Eric and Donna are together, and everything is working out great.<br /><br />The Third Season is my favorite. It went back and captured the First Season feel and humor. I also think that the character chemistry improved a bunch, making the show all that more fun to watch.<br /><br />The Fourth Season isn't near as good. Eric and Donna Arne't together in this one, making the show slightly less pleasurable. It is still funny, although I didn't enjoy it as much as the previous seasons.<br /><br />The Fifth Season is the last season I enjoyed all the way through. It is the gang's Senior Year, so that really helps with the story. The Fifth Season also had the best ending out of all the seasons.<br /><br />The Sixth Season is good for the most part. It is extremely funny, although it doesn't capture the feel that the other seasons did. The gang is out of High School, so I believe that it didn't hit the teen feel that the previous seasons did. I also didn't like the last three or four episodes considering that they had a major drama feel to them.<br /><br />The Seventh Season captures the same feel that the 5th season had in a way, although it didn't do it all the way. I enjoyed the Seventh Season as I did all the others, and the ending is great.<br /><br />The Last Season flat out sucked. Eric wasn't in it, which ruined it. Kelso wasn't in it for the most part either, which didn't help. I hated the Eighth Season up until the last episode. I thought that the last episode was really good, and a fitting ending to the series.<br /><br />So overall, if you enjoy comedy, give That 70s Show a try. They stopped making new episodes, but it is still on TV a bunch. I also recommend buying Seasons 1-7. It is up to you if you want to buy Season 8.   \n",
       "16789                                                                                                                                                                                                                                                                                                                                                                                                                                                                                                                                                                                                                                                                                                                                                                                                                                                                                                                                                                                                                                                                                                                                                                                                                                                                                                                                                                                                                                                                                                                                                                                                                                                                                                                                                                                                                                                                                                                                                                                                                                                                                                        Raggedy Ann and Raggedy Andy THE MOVIE is about dolls that come to life when the humans aren't around. In this adventure they must rescue a kidnapped french doll named Babette from the captain of pirates. On their way they journey though Deep Dark Woods, Taffy Pit, and even Looney Land. Will the aide of their new friend The Camel With Wrinkled Knees help them or just slow them down with his hallucinations of his friends leaving him? How will they escape the Kookoo king and his henchmen!? What will their owner Marcella say when she sees her 7th birthday present doll gone along with her other toys? Delightful surprises await the two adventurers.<br /><br />All scores are out of a possible 10: Story: 8 - Very cute. Dolls that come to life when the master isn't around. Not just that because they go out into many many different places, but they are in an imaginary world so anything can happen. Meeting new characters, going to different places finding new friends, its great. The characters all work so well in this too and who doesn't love pirates?! Acting: 8 - Every character suits their voice so well. Specifically the Marlon Brando taffy pit enemy, The Greed. The french doll has a very uptight french accent, the evil Hitler-esquire king Kookoo (whos got hair that resembles Simpson's Sideshow Bob) plays his role very well, and the sorrow old black man voice for Camel works perfectly. Why is it that old dubbed animation was soo much better than new ones? Music: 10 - Nothing short of perfection here. The songs have been in my head for years, and re-watching it nearly 20 years later, i can still remember each and every one of them and will now be able to know exactly where these tunes come from. Joe Raposo of \"Sesame Street\" fame did an excellent job with the songs for this and everyone sings real well.<br /><br />Editing: 6 - Heh, this is where it'll get confusing. I mean how far did the Raggedy's walk anyway? A lot of events just seem to occur one after another and there's no telling WHO the other dolls and toys were as you never see them in the real world of the movie, but it does follow some sort of path and you know they'll eventually get to where they need to go, its just pretty hard to follow at times.<br /><br />Uniqueness: 8 - Between this and Unico i'd have to say there's parts in both movies i will never forget no matter how hard i try to. Mainly the scary parts. I've probably mentioned already how older movies were Much creepier than animation of today but this takes the cake in the scary factor. Outside of the South Park movie and some Disney films there's almost no animated musicals, or good ones of that coming out so its very unique.<br /><br />Worth: 8- Its classic. Worth the hunt to get a good copy thats for sure, but the VHS copies are probably all stretched out by now. The DVD version is sold on Ebay all the time and it'll definitely be something you'll watch more than once. If anything get it for the nostalgia purposes.<br /><br />Overall Score (Not an average): 8 - Its a wonderful timeless musical made in the late 70s and can still be enjoyed today. Its characters are all unique and the songs are great. So great you might find yourself humming them time and time again. Give your favorite stuffed animal a hug today! Reviewer's Insight (Including bias): This isn't like the Raggedy Ann TV series made a decade later. This was way more darker and real world. The effects in this seem like a lot of other acid-trip cartoons from the 70's, in particular, Yellow Submarine. Still, its given me memories I'll never forget, and might still influence things today. It wasn't easy to find but it'll remain a treasure to keep in my collection of DVDs and videos forever.   \n",
       "18165                                                                                                                      1904. The North African nation of Morocco is hanging onto a tenuous Independence, as the various European powers - France, Germany, Britain, Russia, Spain, and now the United States - are vying for influence in the region. The Sultan (Marc Zuber) is a weak puppet; his uncle, the Bashaw (Vladek Sheybal), who is being manipulated by the French and Germans, is the real power behind the throne. Enter Berber Chieftan Raisuli (Sean Connery), the leader of the Rif tribe and \"the last of the Barbary Pirates\", who kidnaps an American missionary, Eden Pedecaris (Candice Bergen) and her two children and takes them hostage. Back in the US, President Theodore Roosevelt (Brian Keith) threatens to go to war over the issue: \"Pedecaris Alive or Raisuli Dead!\" - seeing the issue as the perfect way to exercise his \"Big Stick\" diplomacy, though Secretary of State John Hay (John Huston) is not so confident. However, the Raisuli has less sinister plans for the Pedecarises, who are more than capable of handling themselves in any event.<br /><br />John Milius's great historical film, based VERY loosely off of a true story (i.e. Pedecaris was a middle-aged man), is a wonderful bit of escapism. It has some amazing action scenes, a witty, well-written script, a fine cast enjoying themselves with the material, and does not overstay its welcome like, say, \"Pirates of the Caribbean\" or the \"Lord of the Rings\" movies. It's not really an \"epic\" film in the strictest sense, but it's one of the best pure action movies ever made.<br /><br />While the historical context is shaky, the storyline is interesting, and as some reviewers point out, it is even more pertinent today than it was when made. As President Roosevelt says, \"America is like a grizzly bear\" - fierce, strong, but a little blind and reckless at times. At the time of the film's setting, America has just been propelled onto the world stage as superpower, following their resounding victory in the Spanish-American War - and Roosevelt seizes this incident as a way to prove America's worth. In real life, it didn't quite work out that way, but allegorically it works well. While written from a right-wing perspective, Milius's screenplay is pretty accurate in assessing America and its place in the world. He admires Roosevelt and his method of \"big stick\" diplomacy, and correctly recognizes (in the words of Roosevelt) that while America may be feared and respected, they'll never be truly \"loved\" by the world, no matter what they do. And there are some scenes - like Roosevelt's target shooting of European leaders and the almost-comic surprise attack by Marines on the Bashaw's palace - which show America's reckless and violent side, while others - the climactic showdown with the Germans - show their heroism.<br /><br />The historical/political context of the film is, of course, merely meat on the bones of what is essentially a rousing action/adventure film. There are some brilliantly done action scenes, such as Raisuli's rescue of the Pedecaris's from double-crossing tribesmen, which features some of the best swordplay in any film. The opening entrance of the Raisuli and the aforementioned march and attack of the US Marines are brilliantly done bravura set pieces. And the final battle, which combines elements of \"Lawrence of Arabia\" and \"The Wild Bunch\", while a major historical fantasy (a three-way battle between Germans, Americans, and the Rifs), is a superbly staged, adrenaline-pumping sequence.<br /><br />The excellent cast gives some wonderful performances. Everyone seems to be having a fun time with the film, and it shows. Sean Connery is surprisingly convincing as a Berber with a Scottish accent, but manages to pull off his interesting, well-drawn and chivalrous character who comes to respect his hostage and abhors modern, uncivil warfare. Candice Bergen, an actress whom I've never been fond of, gives a fine performance as the feisty Eden Pedecaris, who is every bit as tough as her captor. Brian Keith is an amazingly convincing TR - you really feel he must have been like this, an athletic, blustering, yet practical and intelligent man with an admirable sense of self. The scenes of Roosevelt boxing and target-shooting while discussing foreign policy are some of the greatest \"bad ass\" moments in movie history - and who can forget lines like \"Why spoil the beauty of the thing with legality?\" John Huston provides solid support as the weary, cautious Hay, acting as a perfect foil to the much more impetuous Roosevelt. <br /><br />Among the fine supporting cast, the best are Geoffrey Lewis as Samuel Gummere, the cynical Ambassador caught in the middle of the political intrigue, and Steve Kanaly, as the gung-ho Marine Captain who cheerfully advocates (and carries out) \"Military intervention!\" as the blunt and simple solution to the whole complex situation. Other familiar faces such as Vladek Sheybal, Nadim Sawalha, Roy Jenson, Larry Cross, Marc Zuber, and Darrell Fetty also do fine work, no matter how small their role. Spaghetti Western fans will recognize Antoine Saint-John (\"A Fistful of Dynamite\") as the German general and Aldo Sambrell as one of Raisuli's tribesmen.<br /><br />\"The Wind and the Lion\" is, all around, a wonderfully done adventure film. It has something for everyone: wonderful gun- and swordplay, a lot of humor, a tough, feisty heroine (and her two cute children), a nice (if unconsummated) romance, and an interesting (if fanciful) political/historical context. It's not a masterpiece, but hey, it wasn't trying to be. I give \"The Wind and the Lion\" a stirring nine stars and my highest recommendation.   \n",
       "13120                                                                                                                                                                                                                                                                                                                                                                                                                                                                                                                                                                                                                                                                                                                                                                                                                                                                                                                                                                                                                                                                                                                                                                                                                                                                                                                                                                                                                                                                                                                                                                                                                                                                                                                                                                                                                                                                                                                                                                                                                                                                                                                                                                                                                                                                                                                                                                                                                                                                                                                                                                                                                                                                                                                                        Moving beyond words is this heart breaking story of a divorce which results in a tragic custody battle over a seven year old boy.<br /><br />One of \"Kramer v. Kramer's\" great strengths is its screenwriter director Robert Benton, who has marvellously adapted Avery Corman's novel to the big screen. He keeps things beautifully simple and most realistic, while delivering all the drama straight from the heart. His talent for telling emotional tales like this was to prove itself again with \"Places in the Heart\", where he showed, as in \"Kramer v. Kramer\", that he has a natural ability for working with children.<br /><br />The picture's other strong point is the splendid acting which deservedly received four of the film's nine Academy Award nominations, two of them walking away winners. One of those was Dustin Hoffman (Best Actor), who is superb as frustrated business man Ted Kramer, a man who has forgotten that his wife is a person. As said wife Joanne, Meryl Streep claimed the supporting actress Oscar for a strong, sensitive portrayal of a woman who had lost herself in eight years of marriage. Also nominated was Jane Alexander for her fantastic turn as the Kramer's good friend Margaret. Final word in the acting stakes must go to young Justin Henry, whose incredibly moving performance will find you choking back tears again and again, and a thoroughly deserved Oscar nomination came his way.<br /><br />Brilliant also is Nestor Almendros' cinematography and Jerry Greenberg's timely editing, while musically Henry Purcell's classical piece is used to effect.<br /><br />Truly this is a touching story of how a father and son come to depend on each other when their wife and mother leaves. They grow together, come to know each other and form an entirely new and wonderful relationship. Ted finds himself with new responsibilities and a new outlook on life, and slowly comes to realise why Joanne had to go.<br /><br />Certainly if nothing else, \"Kramer v. Kramer\" demonstrates that nobody wins when it comes to a custody battle over a young child, especially not the child himself.<br /><br />Saturday, June 10, 1995 - T.V.<br /><br />Strong drama from Avery Corman's novel about the heartache of a custody battle between estranged parents who both feel they have the child's best interests at heart. Aside from a superb screenplay and amazingly controlled direction, both from Robert Benton, it's the superlative cast that make this picture such a winner.<br /><br />Hoffman is brilliant as Ted Kramer, the man torn between his toppling career and the son whom he desperately wants to keep. Excellent too is Streep as the woman lost in eight years of marriage who had to get out before she faded to nothing as a person. In support of these two is a very strong Jane Alexander as mutual friend Margaret, an outstanding Justin Henry as the boy caught in the middle, and a top cast of extras.<br /><br />This highly emotional, heart rending drama more than deserved it's 1979 Academy Awards for best film, best actor (Hoffman) and best supporting actress (Streep).<br /><br />Wednesday, February 28, 1996 - T.V.   \n",
       "18719  How strange the human mind is; this center of activity wherein perceptions of reality are formed and stored, and in which one's view of the world hinges on the finely tuned functioning of the brain, this most delicate and intricate processor of all things sensory. And how much do we really know of it's inner-workings, of it's depth or capacity? What is it in the mind that allows us to discern between reality and a dream? Or can we? Perhaps our sense of reality is no more than an impression of what we actually see, like looking at a painting by Monet, in which the vanilla sky of his vision becomes our reality. It's a concept visited by filmmaker Cameron Crowe in his highly imaginative and consciousness-altering film, `Vanilla Sky,' starring Tom Cruise and Penelope Cruz. At the age of thirty-three, David Aames (Cruise) inherits a publishing empire left to him by his father. His fifty-one percent controlling interest, however, has made him something of a marked man, as there are seven members of his board of directors, and each deems himself more worthy than the young Mr. Aames of the lion's share of the company. And fueling the fires of discontent is their perception that David lacks the focus the job requires.<br /><br />Admittedly, David likes to play; still, he's in control of the business and does what he sees fit, whether the board (he refers to them as the `Seven Dwarfs') likes it or not, and no one has ever had the courage to challenge him directly. But during a lavish birthday party in his honor, one of the corporate lawyers, Thomas Tipp (Timothy Spall) warns David that the seven are up to something behind his back. At the time, however, it's the last thing on David's mind; he's been having a casual affair with a friend, Julie Gianni (Cameron Diaz), but even that moves to the back burner when he meets a woman at his party that he can't get out of his mind. Her name is Sofia (Penelope Cruz), and after knowing her for only one night, she becomes a pivotal part of his life-- which is about to be turned upside down, as on the morning after his party he makes a decision that will change his life forever. And he is about to learn that sometimes, there is simply no going back.<br /><br />Director Cameron Crowe has crafted and delivered much more than just another film with this one; far more than a movie, `Vanilla Sky' is a vision realized. Beginning with the first images that appear on screen, he presents a visually stunning experience that is both viscerally and cerebrally affecting. It's a mind-twisting mystery that will swallow you up and sweep you away; emotionally, it's a rush-- and it may leave you exhausted, because it requires some effort to stay with it. But it's worth it. Think `Memento' with a driving rock n' roll soundtrack and a vibrant assault of colors proffered by the stroke of an impressionist's brush. There's darkness and light, and sounds that pound and drive until you can feel the blood rushing through your veins and throbbing in your brain. And all played out on a landscape of virtual reality swirling beneath that ever expanding vanilla sky. Simply put, this one's a real trip; it's exciting-- and it's a mind bender.<br /><br />As to the performances here, those who can't get past the mind-set of Tom Cruise as Maverick in `Top Gun,' or his Ethan Hunt in `Mission Impossible,' or those who perceive him only as a `movie star' rather than an actor, are going to have to think again in light of his work here. Because as David Aames, Cruise gives the best performance of his career, one that should check any doubts as to his ability as an actor at the door. He's made some interesting career choices the past few years, with films like `Magnolia' and `Eyes Wide Shut' merely warm-ups for the very real and complex character he creates here. And give him credit, too, for taking on a role that dispels any sense of vanity; this is Cruise as you've never seen him before. `Jerry Maguire' earned him an Oscar nomination, and this one should, also-- as well as the admiration and acclaim of his peers. Cruise is not just good in this movie, he is remarkable.<br /><br />Penelope Cruz turns in an outstanding, if not exceptional performance, as well, as Sofia, the woman of David's dreams. There's an alluring innocence she brings to this role that works well for her character and makes her forthcoming and accessible, yet she lacks any hint of mystery that may have added that special `something extra' to the part. But Crowe knows how to get the best out of his actors, and he certainly did with Cruz.<br /><br />He also knew what he was doing with Cameron Diaz, who is absolutely vibrant in the role of Julie. She's never looked better, and fairly sizzles on screen. But make no mistake, this is no `window-dressing' part, and Diaz delivers a complete package with this character. The quality of her performance can be measured, in fact, in the impact she makes with rather limited screen time. And it's the persona she integrates so fully with her innate beauty that makes Julie so unforgettable. Overall, a terrific job by Diaz.<br /><br />The supporting cast includes Kurt Russell (Dr. McCabe), Jason Lee (Brian), Johnny Galecki (Peter), Armand Schultz (Dr. Pomerantz), Noah Taylor (Ed), Mel Thompson (`L.E.' Man), Jean Carol (Woman in New York) and John Fedevich (Silent Ed). About half-way through, this one may have you questioning your own sense of reality; but rest assured, by the end of `Vanilla Sky' all will be revealed. It's a reality-bender, to be sure, and a wild one; but this is exciting entertainment that offers a satisfying-- and unique-- experience, one you have to see to believe. It's the essential, and absolute, magic of the movies. 10/10.<br /><br />   \n",
       "\n",
       "       true_label  predicted_y  neg_label_prob  pos_label_prob  \n",
       "12661           1            1    1.282401e-08             1.0  \n",
       "16789           1            1    4.520109e-08             1.0  \n",
       "18165           1            1    7.367468e-08             1.0  \n",
       "13120           1            1    1.223953e-07             1.0  \n",
       "18719           1            1    2.407784e-07             1.0  "
      ]
     },
     "execution_count": 86,
     "metadata": {},
     "output_type": "execute_result"
    }
   ],
   "source": [
    "pd.set_option('display.max_colwidth', None)\n",
    "results_df.sort_values(by='pos_label_prob',ascending=False)[:5]"
   ]
  },
  {
   "cell_type": "markdown",
   "metadata": {},
   "source": [
    "### 3.6 Looking into the probability scores with negative reviews \n",
    "rubric={accuracy:2}\n",
    "\n",
    "<div class=\"alert alert-info\" style=\"color:black\">\n",
    "    \n",
    "Find the top 5 movie reviews in `results_df` with the highest predicted probability of being negative (i.e., where the model is most confident that the review is negative).\n",
    "    \n",
    "</div>"
   ]
  },
  {
   "cell_type": "code",
   "execution_count": 87,
   "metadata": {},
   "outputs": [
    {
     "data": {
      "text/html": [
       "<div>\n",
       "<style scoped>\n",
       "    .dataframe tbody tr th:only-of-type {\n",
       "        vertical-align: middle;\n",
       "    }\n",
       "\n",
       "    .dataframe tbody tr th {\n",
       "        vertical-align: top;\n",
       "    }\n",
       "\n",
       "    .dataframe thead th {\n",
       "        text-align: right;\n",
       "    }\n",
       "</style>\n",
       "<table border=\"1\" class=\"dataframe\">\n",
       "  <thead>\n",
       "    <tr style=\"text-align: right;\">\n",
       "      <th></th>\n",
       "      <th>review</th>\n",
       "      <th>true_label</th>\n",
       "      <th>predicted_y</th>\n",
       "      <th>neg_label_prob</th>\n",
       "      <th>pos_label_prob</th>\n",
       "    </tr>\n",
       "  </thead>\n",
       "  <tbody>\n",
       "    <tr>\n",
       "      <th>8297</th>\n",
       "      <td>Less than 10 minutes into this film I wanted it to end as it was painful. All this \"horror\" movie was about was a group of whiny bitches doing stupid things for 90 minutes, arguing, crying and screaming. Do not let the positive reviews fool you as this really is a terrible movie and you really shouldn't watch it.&lt;br /&gt;&lt;br /&gt;The movies plot had potential to be something great, but it just doesn't happen. A group of five \"teenage\" girls are driving home one night when they find themselves being pursued by a crazed female driver who wants to kill them. Two minutes into the movie, and the characters are already arguing and this doesn't stop. All we have for 90 minutes is a bunch of girls whining, crying, screaming, \"acting\" and arguing. None of the dialogue is even remotely interesting too, so you don't get to really know these characters or enjoy them.&lt;br /&gt;&lt;br /&gt;The acting was terrible and I was shocked to find out that these characters were meant to be teenagers. None of these women looked a day under 20, and one of them easily looked like she was nearly 30 years old. At least get people who look the age. None of them gave even remotely decent performances, and just seemed like they were picked off the street or were friends of the director with no acting abilities. The \"actress\" who played the killer overdone it, but she at least showed something that the other girls didn't - a little bit of talent.&lt;br /&gt;&lt;br /&gt;The characters don't help things because these girls are a bunch of whiny, stupid bitches. That is all I can really say about them, and it did not help that they ALL survived. If I have to go into detail, in one scene the girls are being chased by the killer and having their car knocked a lot. One girl injures herself and is whining about it...four of them aren't wearing seat-belts...what do you expect? One of your friends is being brutally attacked by the killer...and you all just happen to be conveniently \"too hurt\" to help? Whatever.&lt;br /&gt;&lt;br /&gt;The filming of the movie is absolutely terrible. I don't care if this movie had a budget the size of a peanut, the filming was terrible and it was like watching a pirated version of a movie. The cameraman was clearly in the car with the girls, pushed up against a window somewhere and the amount of times the camera blurred out, shook and brushed up against an \"actress\" was horrendous. It was also grainy, and at times you couldn't hear what characters were saying (not that it was anything worth listening to).&lt;br /&gt;&lt;br /&gt;Supposedly the killers car in the movie (that supposedly got hit, even though we only heard the accident) is actually the directors car in real life. No wonder they didn't show the car getting hit! This movie is so cheap, they can't even show a car getting a little scratched up. Oh, gotta mention the soundtrack also...if that's what it was. It was horrid...sad one second, then hard rock the next. &lt;br /&gt;&lt;br /&gt;At the end of the day, Five Across The Eyes just feels like a terrible home-movie filmed in the middle of the road at night with a bunch of stupid girls screaming and arguing for 90 minutes. It doesn't help when the script is terrible, the scares/tension/suspense and (hardly even any gore to make up for it) are absent, the acting is terrible and the picture quality and filming are horrendous.&lt;br /&gt;&lt;br /&gt;This was a horrible low-budget movie. Avoid it at all costs.&lt;br /&gt;&lt;br /&gt;1/10</td>\n",
       "      <td>0</td>\n",
       "      <td>0</td>\n",
       "      <td>1.0</td>\n",
       "      <td>8.911554e-10</td>\n",
       "    </tr>\n",
       "    <tr>\n",
       "      <th>5254</th>\n",
       "      <td>Five Across the Eyes starts as five young teenage girls are driving home in time for their curfew, they stop off at a store &amp; accidentally hit another car &amp; decide to just drive off &amp; leave it. Soon after the other car forces them to stop &amp; a crazy woman with a shotgun gets out &amp; shouts at them, makes them take their clothes off &amp; makes them pee on them &amp; then randomly drives off. Shaken &amp; shocked the girls think their ordeal is over but the crazy woman comes back for seconds as she seems intent on killing the terrified girls who are lost &amp; are low on gas...&lt;br /&gt;&lt;br /&gt;Produced &amp; directed by Greg Swinson &amp; Ryan Theissen with Swinson writing the thing &amp; Theissen responsible for the cinematography &amp; editing I have to say that Five Across the Eyes is easily one of the worst films I have ever seen if not the worst, I mean I'm struggling to think of a film I have seen that's worse. Now let me start off by saying that I am sure a lot of the film-making decision taken here were deliberate to try &amp; provoke atmosphere, tension, realism &amp; suspense but there is not one aspect of Five Across the Eyes that I didn't hate it to be honest it looks like a bad home video that has been put up on YouTube &amp; even then it's still slightly embarrassing &amp; a frankly worthless waste of 90 odd minutes of my time that I could have been doing something more entertaining &amp; fun like pulling my fingernails out with pliers. The reviews on the web seem quite positive but on the IMDb (the amount of 1 Star comments is revealing &amp; they can't all be wrong, right?) &amp; it's message board which I think is much more of an indicator of what the average person thinks it's absolutely trashed by just about everyone &amp; the phrase 'the worst film I have ever seen' is used a few times &amp; to be fair most of these negative comments mention th same things &amp; I have to agree with them. The story is terrible, alright I suspect it's meant to be minimalistic but this minimal? There's never any reason or explanation for the events that happen &amp; it just feels totally random. It goes on for ages, the amount of plot here would struggle to fill a thirty minute made for telly program let along a full length feature. The dialogue is awful with these annoying girls who don't seem to have a brain cell between them taking about random stuff &amp; screaming a lot. Oh god the screaming, there are seemingly endless scenes of these girls screaming or crying or whining which not only irritates &amp; annoys &amp; prevents any sane viewer feeling any sort of sympathy for them it also makes what they are trying to say almost impossible to hear properly. Then there's the real killer, the entire film is set &amp; shot within the confines of a mini van, seriously the camera never leaves this car &amp; as you can imagine it gets really boring, add that the low body count of just one person killed on screen &amp; Five Across the Eyes is a film that I hated with a passion.&lt;br /&gt;&lt;br /&gt;On a technical level again I can see that the film-making style here was a deliberate choice but I have to be honest again &amp; say Five Across the Eyes is the worst looking film I have ever seen. As a fan of film I like my films to look like proper films as it's a visual medium &amp; I definitely don't want them to look worse than the average YouTube video or my home films shot on a camcorder while I was drunk. It really does look that amateurish &amp; that bad, it's a complete eyesore &amp; I hated every moment of every second of it. Just think The Blair Witch Project (1999) only ten times worse looking &amp; sounding &amp; you will be almost there. There are times during Five Across the Eyes when you literally can't tell what's going on or happening because of the camera-work &amp; the almost pitch black &amp; grainy contrast levels. The violence is tame too with a few splashes of blood &amp; a stabbing at the end.&lt;br /&gt;&lt;br /&gt;Low budget doesn't even begin to describe Five Across the Eyes, with a supposed budget of about $4,000 this is easily one of the lowest budgeted films ever given a wide release. The two vans in the film were owned by members of the production &amp; that's basically pretty much the entire budget right there, the locations. The acting is pretty bad by the main cast, I just hated all the fake put on crying &amp; screaming that didn't convince at all but did irritate immensely.&lt;br /&gt;&lt;br /&gt;Five Across the Eyes will go down as one of the worst films I have ever seen &amp; I have seen a few films, whenever anyone now ask's me what's the worst film I have ever seen Five Across the Eyes will definitely get a mention. I hated it, every single aspect &amp; wretched moment of it.</td>\n",
       "      <td>0</td>\n",
       "      <td>0</td>\n",
       "      <td>1.0</td>\n",
       "      <td>2.258246e-09</td>\n",
       "    </tr>\n",
       "    <tr>\n",
       "      <th>8716</th>\n",
       "      <td>'The Hills Eyes II', one of the most pointless and blatantly stupid sequels to come around in some time, is 90 minutes of incompetent film making at its finest. Or worst, however you choose to look at it. While 2006's 'Hills' remake was one of the year's best, and truly frightening, horror films, this sequel takes every spark out of what made that such an accomplishment. Part 2 never gets off the ground, and neither does its mind numbing dialogue. Worst of all, it's not that scary.&lt;br /&gt;&lt;br /&gt;2006's remake followed a family who find themselves in the middle of the New Mexico desert, deserted, and one by one being picked off by deranged and sadistic hill people. People who, as a result of the military testing the atomic bomb on their land years ago, have become who they are. Surviving off travelers who wander into the region. The sequel puts audiences in the same desert, now occupied by the military as they covertly investigate the hills and what might have happened to that poor family. When a group of military trainees are brought to the campsite, they find it deserted with no signs of life. A grim reality soon befalls them, as they come to the realization that they're not alone. And the bloody fate that was handed to many before them will soon become their destiny.&lt;br /&gt;&lt;br /&gt;It doesn't take a genius to realize that 'Hills' has no legitimate reason to exist. But because last year's remake was received well both at the box office and by critics, it came to no surprise that a sequel would be rushed into production while there's still money to be earned. There's no rhyme or reason to it this time around, just an unbelievable and ridiculous set-up to pave the way for thoughtless characters, unoriginal killings, a non-existent story, and slipping interest. Originally, director Alexander Aja made Craven's cult classic into a remake that was a unique and thoroughly disturbing experience. One that gruesomely crossed the line on more than one occasions. Its frank display of violence, sadistic torture, well-rounded characterization, and white-knuckled suspense were all effectively used to shock and repulse audiences. The second time around, it's rehashed hand-me-downs. There's no style, no grit. It tries to build up tension by dismembering bodies, when all it really does is make for a been there, done that kind film, where even the gore seems tame compared to more recent bloodbaths.&lt;br /&gt;&lt;br /&gt;It's a sad state of affairs when deformed mutants who capture women for breeding purposes fails to keep your attention. It's a bore, nothing more. 'Hills' has no bite. Despite a jump or two here and there, there's nothing very scary about this by-the-numbers horror flick. It feels like something you'd see on the Sci-Fi channel, only with some F-bombs, a blood splatter here and there, a rape, and a graphic birth scene that's more gross than shocking. It's cheap. And with 'Hills', you reap what you sew. With no effort given, you can't expect anything in return.&lt;br /&gt;&lt;br /&gt;Replacing Aja with Martin Weisz as director was the film's first big mistake, all he does is drain the film of any sort of emotional resonance. But even more shocking is the uncharacteristically bad script penned by Wes Craven and his son, Jonathan Craven. You ask, how bad could it possibly be? This is the kind of dialogue that makes any comparison look like Shakespeare. Craven has had his fair share of clunkers in the past, but I'd never expect something like this from him. It's so unintentionally funny, you have to wonder, is Craven playing a joke on this? Or did he dump this one on his son after the studio payed him off? The film's characters are one-dimensional talking heads with no emotions or common sense. The acting is just as bad. The only character who may win you over is 'Napoleon' Napoli, the scrawny kid who doesn't fit in with the others. Even the deranged and instinct-driven villains, who we might have found some favor with in the deepest of our thoughts a year ago, are met with indifferent. You don't hate them, you don't like them. You honestly couldn't care less. Just like this movie.&lt;br /&gt;&lt;br /&gt;Even if you were giddy with fear during 'The Hills Have Eyes', as I was, you'll have a tough time finding anything to enjoy in this piece of garbage. It's as generic as generic gets, and there's absolutely nothing here we haven't seen done many times already. I can't express this enough, avoid 'The Hills Have Eyes II' like the plague. It's frightless, unoriginal, frantic, and a bore. Stick to the remake or Craven's original vision. Because if you don't walk out after the first thirty minutes, don't say I didn't warn you.</td>\n",
       "      <td>0</td>\n",
       "      <td>0</td>\n",
       "      <td>1.0</td>\n",
       "      <td>4.340880e-09</td>\n",
       "    </tr>\n",
       "    <tr>\n",
       "      <th>7971</th>\n",
       "      <td>In short, this movie is completely worthless.&lt;br /&gt;&lt;br /&gt;The idea is to make movie from the point of view of what someone from the early 1900s might think of the future. An interesting idea, but the lack of compelling story or characters prevents us from ever suspending our disbelief, so the idea just flops.&lt;br /&gt;&lt;br /&gt;Apparently the whole movie was done with actors in front of green screens and we are supposed to be impressed. But as a graphics person, the over softening was an obvious crutch for hiding the difficult sharp edge problem with green screening. The color is majorly washed out to no relevant effect except reduce the visual quality. And I don't understand why anyone would consider anything rendered in this movie to be in any way ground breaking. If anything, the ridiculous retrograde graphics have lowered the bar for really bad graphics -- they don't measure up even to the ancient Jurassic Park graphics. The models for the robots were so simple, plain and very uncompelling. There were a bunch of weirdo prehistoric-like animals on that island, but they are not explained in any way.&lt;br /&gt;&lt;br /&gt;The story is horrible beyond belief. In fact I can't believe I didn't just walk out of this movie. The relationship between Polly and Joe is unmotivated, and throughout the movie is based on distrust and deception. Why is the Morris Paley character even there? We are not in any way convinced that Joe is heroic -- I mean he flies a plane, and saved one person (Polly) for personal reasons. Yeah there's a great hero for you. Dex has very little screen time, so why are we supposed to care about Joe wanting to save him? Who were the Nepalease that locked Joe and Polly in the mine vault, and why would they do it (remembering that the entire Totenkopf operation was robotic)?&lt;br /&gt;&lt;br /&gt;Plot holes: (1) Why did Bai Ling's character (a major fall from her excellent character in \"The Crow\") halt the robots who had captured Joe? They were looking for the vials, and had not found them. (2) Why in the hell would Dex be captured but not killed (he doesn't have or know about the vials, and the bad guys didn't know that Polly had the vials and was connected to Joe and therefore to Dex)? (3) Polly indicates that \"they\" don't know anything about Totenkopf, yet she has some secret source about him that contains what appears to be a fairly complete FBI-style file on him. (4) The blank spot on the map as described by the Nepalese -- if they know all about this mysterious area, then why the hell is their map blank in that spot? (5) At one point, Polly and Joe have to give up their clothes (they are burned) -- Joe is given new clothes that were identical to his old clothes, yet Polly is forced to wear some very odd looking bulky dress, then in the same line of continuity suddenly Polly has her original clothes back.&lt;br /&gt;&lt;br /&gt;*sigh*. How far off am I supposed to switch my brain to watch this crap?&lt;br /&gt;&lt;br /&gt;We are supposed to be exhilarated by the over produced music, even when nothing interesting or remotely exhilarating is happening on screen.&lt;br /&gt;&lt;br /&gt;And the acting? We're supposed to be impressed with a bunch of bad British accents? Which character isn't annoying? I think Ling Bai's dialogue was probably the best in the whole movie (she doesn't have a single line). The dialogue wasn't camp, and doesn't even rise to the level of cheese. Its just bad and annoying. These people aren't hero's or compelling; they are the kind of people you would try to ignore or disassociate with if you ever had the misfortune of meeting them in real life.&lt;br /&gt;&lt;br /&gt;I can't believe that this movie gets an above average rating here on IMDb. IMHO it should be competing with \"Batman Forever\" in the bottom 100 of all time.</td>\n",
       "      <td>0</td>\n",
       "      <td>0</td>\n",
       "      <td>1.0</td>\n",
       "      <td>2.437131e-08</td>\n",
       "    </tr>\n",
       "    <tr>\n",
       "      <th>8992</th>\n",
       "      <td>I wrote this as a two part review. Part two has spoilers.&lt;br /&gt;&lt;br /&gt;Part 1: &lt;br /&gt;&lt;br /&gt;No, this isn't that one about the sex with car accidents. This is the one about racism in L.A. You know, the one where everybody is a racist, and race is the topic on everybody's mind at all times. Race.&lt;br /&gt;&lt;br /&gt;Its like the movie has a form of turrets syndrome where race is the constant theme. Race. Racist. Racism. Race Relations. Relay race.&lt;br /&gt;&lt;br /&gt;Paul Haggis made a movie which took the structure of Magnolia, which was used to show the disconnect of people who are tangentially connected, and then screwed it into a 1'53\" mental vomit about racism in America. RACE. In the 24 hour period we have 7 stories running parallel all connected and about race. The first hour, people say ridiculous stuff and do absurd things in an effort to be real about racism in America.&lt;br /&gt;&lt;br /&gt;For example, the story with Ludicrous and Larenz Tate provides the comic relief. Too bad, the first half of their story is lifted straight from The Bonnie Situation in Pulp Fiction. RACISM. Their section is the Quentin Tarantino section where, instead of being cool and talking about foot massages and religion, the characters talk about race and racism. CONSTANTLY. &lt;br /&gt;&lt;br /&gt;The other good thing about it is the Mexican story when the Mexican guy is talking to his daughter. He gives her his invisible impenetrable cloak to protect her from bullets. Decent writing, but that's only because the writers have had daughters and know what they would say in his place.&lt;br /&gt;&lt;br /&gt;The rest of the stories are extremely ludicrous. The Hindi does not act in any semblance of realism. The scene where he's trying to get the lock fixed and the Mexican tells him he needs a new door is abbreviated and stupid. Why would anybody act like that? Is it realistic? NOOO. It reminds me more of the convenience store clerk from The Doom Generation. \"Six Dollar Sixty Six Cents girly.\" If i ever watch the second half of the movie, I hope his head is shot off and his bodiless head starts coughing up relish.&lt;br /&gt;&lt;br /&gt;I haven't mentioned race in over a paragraph. RACE. RACISM. RACE FOR THE SUN. Better. Then, there is the black guy who wants to be white, Matt Dillon who has a chip on his shoulder against blacks, Ryan Phillippe who looks beautiful and does nothing, and various other bad actors acting badly with bad dialog. When Matt Dillon molests the black producers wife, could I help it if I was cracking up? When Philippe is second guessing his writing up of his partner for racism, can I help but crack up? The movie is so funny when it is being racist. Racist. RACIST I tell you.&lt;br /&gt;&lt;br /&gt;Now, mind you, this movie was nominated for Best Picture, Best Director, Best Screenplay, and Best Editing, besides a nod to Matt Dillon who actually did attempt to do a decent job. Who was paid off for that one, I have no clue.&lt;br /&gt;&lt;br /&gt;Don't see it unless you feel like being preached at about the racism in society through a bad and unrealistic script from 2 white men over fifty who have no semblance of reality or interaction with real society in any way shape or form.&lt;br /&gt;&lt;br /&gt;D- &lt;br /&gt;&lt;br /&gt;Part 2:&lt;br /&gt;&lt;br /&gt;The second half of Crash takes any and all story lines in the first half...and spews them back out in a sort of redemptive, conclusionary, the world is a big coincidence kind of way. And it is in fact one of the worst ways to do it.&lt;br /&gt;&lt;br /&gt;Take 1999's Magnolia. People weren't conveniently tied together over and over again. They were just connected in a strange way that happens more often than you think. You know somebody who knows somebody who did something that you knew somebody else was also involved in. Crash takes this wrapping into a serious extreme.&lt;br /&gt;&lt;br /&gt;The stories are lined up so everybody meets again. Are there only 5 on the LAPD force? Aren't these people working weird shifts? Dillon and Philippe were a late shift then an early one the next day? And, why did Tate have to be the murdered hitchhiker? Wouldn't it have had more emotional tension, as well as realism, if it had been somebody we had not been following all day long? Like Phillippe just picks up a random hitchhiker and then freaks out. Everybody'd be freaking out.&lt;br /&gt;&lt;br /&gt;Eventually, in the second half, the touching invisible cloak scene is used to get the Hindi to shoot the daughter. It ticked me off and made me feel dirty. Not that the Hindi shot the daughter, but that they created a beautiful touching scene and then had it be the direct cause of people tearing up. It really ticked me off. At the writers, not the scene.&lt;br /&gt;&lt;br /&gt;The whole movie is fake and totally uncalled for. The coincidences are far too many and they require an extreme suspension of disbelief. Unlike Magnolia which was connected mildly, this had connections upon connections upon connections which were just so over-the-top. The only good part in the second half was when Sandra Bullock falls down the stairs. She doesn't die though. She should have. I cheered when she fell.&lt;br /&gt;&lt;br /&gt;The worst part about the movie is it pulls a Magnolia. Not just in structure, but it has a montage over the song In the Deep where you see everybody being depressed. Magnolia took this and had post-modern commentary on it by having all of the characters singing along to Aimee Mann's Wise Up. Unfortunately, Magnolia came out in 1999, while Crash came out in 2005. Its hard to make commentary on a movie which won't be made for another 6 years, but it happened. Somehow.&lt;br /&gt;&lt;br /&gt;Utter waste of my time.&lt;br /&gt;&lt;br /&gt;First half: D-; Second half: lowest grade ever; Overall: F---</td>\n",
       "      <td>0</td>\n",
       "      <td>0</td>\n",
       "      <td>1.0</td>\n",
       "      <td>2.448584e-08</td>\n",
       "    </tr>\n",
       "  </tbody>\n",
       "</table>\n",
       "</div>"
      ],
      "text/plain": [
       "                                                                                                                                                                                                                                                                                                                                                                                                                                                                                                                                                                                                                                                                                                                                                                                                                                                                                                                                                                                                                                                                                                                                                                                                                                                                                                                                                                                                                                                                                                                                                                                                                                                                                                                                                                                                                                                                                                                                                                                                                                                                                                                                                                                                                                                                                                                                                                                                                                                                                                                                                                                                                                                                                                                                                                                                                                                                                                                                                                                                                                                                                                                                                                                                                                                                                                                                                                                                                                                                                                                                                                                                                                                                                                                                                                                                                                                                                                                                                                                                                                                                                                                                                                                                                                                                                                                                                                                                                                                                                                                                                                                                                                                                                                                                                                                                                                                                                                                                                                                                                                                                                                                                                                                                                                                                                                                                                                                                                                                                                                                                                                                                                                                                                                                                                                                                                                                                     review  \\\n",
       "8297                                                                                                                                                                                                                                                                                                                                                                                                                                                                                                                                                                                                                                                                                                                                                                                                                                                                                                                                                                                                                                                                                                                                                                                                                                                                                                                                                                                                                                                                                                                                                                                                                                                                                                                                                                                                                                                                                                                                                                                                                                                                                                                                                                                                                                                                                                                        Less than 10 minutes into this film I wanted it to end as it was painful. All this \"horror\" movie was about was a group of whiny bitches doing stupid things for 90 minutes, arguing, crying and screaming. Do not let the positive reviews fool you as this really is a terrible movie and you really shouldn't watch it.<br /><br />The movies plot had potential to be something great, but it just doesn't happen. A group of five \"teenage\" girls are driving home one night when they find themselves being pursued by a crazed female driver who wants to kill them. Two minutes into the movie, and the characters are already arguing and this doesn't stop. All we have for 90 minutes is a bunch of girls whining, crying, screaming, \"acting\" and arguing. None of the dialogue is even remotely interesting too, so you don't get to really know these characters or enjoy them.<br /><br />The acting was terrible and I was shocked to find out that these characters were meant to be teenagers. None of these women looked a day under 20, and one of them easily looked like she was nearly 30 years old. At least get people who look the age. None of them gave even remotely decent performances, and just seemed like they were picked off the street or were friends of the director with no acting abilities. The \"actress\" who played the killer overdone it, but she at least showed something that the other girls didn't - a little bit of talent.<br /><br />The characters don't help things because these girls are a bunch of whiny, stupid bitches. That is all I can really say about them, and it did not help that they ALL survived. If I have to go into detail, in one scene the girls are being chased by the killer and having their car knocked a lot. One girl injures herself and is whining about it...four of them aren't wearing seat-belts...what do you expect? One of your friends is being brutally attacked by the killer...and you all just happen to be conveniently \"too hurt\" to help? Whatever.<br /><br />The filming of the movie is absolutely terrible. I don't care if this movie had a budget the size of a peanut, the filming was terrible and it was like watching a pirated version of a movie. The cameraman was clearly in the car with the girls, pushed up against a window somewhere and the amount of times the camera blurred out, shook and brushed up against an \"actress\" was horrendous. It was also grainy, and at times you couldn't hear what characters were saying (not that it was anything worth listening to).<br /><br />Supposedly the killers car in the movie (that supposedly got hit, even though we only heard the accident) is actually the directors car in real life. No wonder they didn't show the car getting hit! This movie is so cheap, they can't even show a car getting a little scratched up. Oh, gotta mention the soundtrack also...if that's what it was. It was horrid...sad one second, then hard rock the next. <br /><br />At the end of the day, Five Across The Eyes just feels like a terrible home-movie filmed in the middle of the road at night with a bunch of stupid girls screaming and arguing for 90 minutes. It doesn't help when the script is terrible, the scares/tension/suspense and (hardly even any gore to make up for it) are absent, the acting is terrible and the picture quality and filming are horrendous.<br /><br />This was a horrible low-budget movie. Avoid it at all costs.<br /><br />1/10   \n",
       "5254                                                                                                                                                                                                                                                                                                                                                                                                                                                                                                                                                                                                                                                                                                                                                                                                                                                                                                                                                                                                                                                                               Five Across the Eyes starts as five young teenage girls are driving home in time for their curfew, they stop off at a store & accidentally hit another car & decide to just drive off & leave it. Soon after the other car forces them to stop & a crazy woman with a shotgun gets out & shouts at them, makes them take their clothes off & makes them pee on them & then randomly drives off. Shaken & shocked the girls think their ordeal is over but the crazy woman comes back for seconds as she seems intent on killing the terrified girls who are lost & are low on gas...<br /><br />Produced & directed by Greg Swinson & Ryan Theissen with Swinson writing the thing & Theissen responsible for the cinematography & editing I have to say that Five Across the Eyes is easily one of the worst films I have ever seen if not the worst, I mean I'm struggling to think of a film I have seen that's worse. Now let me start off by saying that I am sure a lot of the film-making decision taken here were deliberate to try & provoke atmosphere, tension, realism & suspense but there is not one aspect of Five Across the Eyes that I didn't hate it to be honest it looks like a bad home video that has been put up on YouTube & even then it's still slightly embarrassing & a frankly worthless waste of 90 odd minutes of my time that I could have been doing something more entertaining & fun like pulling my fingernails out with pliers. The reviews on the web seem quite positive but on the IMDb (the amount of 1 Star comments is revealing & they can't all be wrong, right?) & it's message board which I think is much more of an indicator of what the average person thinks it's absolutely trashed by just about everyone & the phrase 'the worst film I have ever seen' is used a few times & to be fair most of these negative comments mention th same things & I have to agree with them. The story is terrible, alright I suspect it's meant to be minimalistic but this minimal? There's never any reason or explanation for the events that happen & it just feels totally random. It goes on for ages, the amount of plot here would struggle to fill a thirty minute made for telly program let along a full length feature. The dialogue is awful with these annoying girls who don't seem to have a brain cell between them taking about random stuff & screaming a lot. Oh god the screaming, there are seemingly endless scenes of these girls screaming or crying or whining which not only irritates & annoys & prevents any sane viewer feeling any sort of sympathy for them it also makes what they are trying to say almost impossible to hear properly. Then there's the real killer, the entire film is set & shot within the confines of a mini van, seriously the camera never leaves this car & as you can imagine it gets really boring, add that the low body count of just one person killed on screen & Five Across the Eyes is a film that I hated with a passion.<br /><br />On a technical level again I can see that the film-making style here was a deliberate choice but I have to be honest again & say Five Across the Eyes is the worst looking film I have ever seen. As a fan of film I like my films to look like proper films as it's a visual medium & I definitely don't want them to look worse than the average YouTube video or my home films shot on a camcorder while I was drunk. It really does look that amateurish & that bad, it's a complete eyesore & I hated every moment of every second of it. Just think The Blair Witch Project (1999) only ten times worse looking & sounding & you will be almost there. There are times during Five Across the Eyes when you literally can't tell what's going on or happening because of the camera-work & the almost pitch black & grainy contrast levels. The violence is tame too with a few splashes of blood & a stabbing at the end.<br /><br />Low budget doesn't even begin to describe Five Across the Eyes, with a supposed budget of about $4,000 this is easily one of the lowest budgeted films ever given a wide release. The two vans in the film were owned by members of the production & that's basically pretty much the entire budget right there, the locations. The acting is pretty bad by the main cast, I just hated all the fake put on crying & screaming that didn't convince at all but did irritate immensely.<br /><br />Five Across the Eyes will go down as one of the worst films I have ever seen & I have seen a few films, whenever anyone now ask's me what's the worst film I have ever seen Five Across the Eyes will definitely get a mention. I hated it, every single aspect & wretched moment of it.   \n",
       "8716                                                                                                                                                                                                                                                                                                                                                                                                                                                                                                                                                                                                                                                                                                                                                                                                                                                                                                                                                                                                                    'The Hills Eyes II', one of the most pointless and blatantly stupid sequels to come around in some time, is 90 minutes of incompetent film making at its finest. Or worst, however you choose to look at it. While 2006's 'Hills' remake was one of the year's best, and truly frightening, horror films, this sequel takes every spark out of what made that such an accomplishment. Part 2 never gets off the ground, and neither does its mind numbing dialogue. Worst of all, it's not that scary.<br /><br />2006's remake followed a family who find themselves in the middle of the New Mexico desert, deserted, and one by one being picked off by deranged and sadistic hill people. People who, as a result of the military testing the atomic bomb on their land years ago, have become who they are. Surviving off travelers who wander into the region. The sequel puts audiences in the same desert, now occupied by the military as they covertly investigate the hills and what might have happened to that poor family. When a group of military trainees are brought to the campsite, they find it deserted with no signs of life. A grim reality soon befalls them, as they come to the realization that they're not alone. And the bloody fate that was handed to many before them will soon become their destiny.<br /><br />It doesn't take a genius to realize that 'Hills' has no legitimate reason to exist. But because last year's remake was received well both at the box office and by critics, it came to no surprise that a sequel would be rushed into production while there's still money to be earned. There's no rhyme or reason to it this time around, just an unbelievable and ridiculous set-up to pave the way for thoughtless characters, unoriginal killings, a non-existent story, and slipping interest. Originally, director Alexander Aja made Craven's cult classic into a remake that was a unique and thoroughly disturbing experience. One that gruesomely crossed the line on more than one occasions. Its frank display of violence, sadistic torture, well-rounded characterization, and white-knuckled suspense were all effectively used to shock and repulse audiences. The second time around, it's rehashed hand-me-downs. There's no style, no grit. It tries to build up tension by dismembering bodies, when all it really does is make for a been there, done that kind film, where even the gore seems tame compared to more recent bloodbaths.<br /><br />It's a sad state of affairs when deformed mutants who capture women for breeding purposes fails to keep your attention. It's a bore, nothing more. 'Hills' has no bite. Despite a jump or two here and there, there's nothing very scary about this by-the-numbers horror flick. It feels like something you'd see on the Sci-Fi channel, only with some F-bombs, a blood splatter here and there, a rape, and a graphic birth scene that's more gross than shocking. It's cheap. And with 'Hills', you reap what you sew. With no effort given, you can't expect anything in return.<br /><br />Replacing Aja with Martin Weisz as director was the film's first big mistake, all he does is drain the film of any sort of emotional resonance. But even more shocking is the uncharacteristically bad script penned by Wes Craven and his son, Jonathan Craven. You ask, how bad could it possibly be? This is the kind of dialogue that makes any comparison look like Shakespeare. Craven has had his fair share of clunkers in the past, but I'd never expect something like this from him. It's so unintentionally funny, you have to wonder, is Craven playing a joke on this? Or did he dump this one on his son after the studio payed him off? The film's characters are one-dimensional talking heads with no emotions or common sense. The acting is just as bad. The only character who may win you over is 'Napoleon' Napoli, the scrawny kid who doesn't fit in with the others. Even the deranged and instinct-driven villains, who we might have found some favor with in the deepest of our thoughts a year ago, are met with indifferent. You don't hate them, you don't like them. You honestly couldn't care less. Just like this movie.<br /><br />Even if you were giddy with fear during 'The Hills Have Eyes', as I was, you'll have a tough time finding anything to enjoy in this piece of garbage. It's as generic as generic gets, and there's absolutely nothing here we haven't seen done many times already. I can't express this enough, avoid 'The Hills Have Eyes II' like the plague. It's frightless, unoriginal, frantic, and a bore. Stick to the remake or Craven's original vision. Because if you don't walk out after the first thirty minutes, don't say I didn't warn you.   \n",
       "7971                                                                                                                                                                                                                                                                                                                                                                                                                                                                                                                                                                                                                                                                                                                                                                                                                                                                                                                                                                                                                                                                                                                                                                                                                                                                                                                                                                                                                                                                                                                                                                                                                                                                                                                                                                                                                                                                                                                                                                 In short, this movie is completely worthless.<br /><br />The idea is to make movie from the point of view of what someone from the early 1900s might think of the future. An interesting idea, but the lack of compelling story or characters prevents us from ever suspending our disbelief, so the idea just flops.<br /><br />Apparently the whole movie was done with actors in front of green screens and we are supposed to be impressed. But as a graphics person, the over softening was an obvious crutch for hiding the difficult sharp edge problem with green screening. The color is majorly washed out to no relevant effect except reduce the visual quality. And I don't understand why anyone would consider anything rendered in this movie to be in any way ground breaking. If anything, the ridiculous retrograde graphics have lowered the bar for really bad graphics -- they don't measure up even to the ancient Jurassic Park graphics. The models for the robots were so simple, plain and very uncompelling. There were a bunch of weirdo prehistoric-like animals on that island, but they are not explained in any way.<br /><br />The story is horrible beyond belief. In fact I can't believe I didn't just walk out of this movie. The relationship between Polly and Joe is unmotivated, and throughout the movie is based on distrust and deception. Why is the Morris Paley character even there? We are not in any way convinced that Joe is heroic -- I mean he flies a plane, and saved one person (Polly) for personal reasons. Yeah there's a great hero for you. Dex has very little screen time, so why are we supposed to care about Joe wanting to save him? Who were the Nepalease that locked Joe and Polly in the mine vault, and why would they do it (remembering that the entire Totenkopf operation was robotic)?<br /><br />Plot holes: (1) Why did Bai Ling's character (a major fall from her excellent character in \"The Crow\") halt the robots who had captured Joe? They were looking for the vials, and had not found them. (2) Why in the hell would Dex be captured but not killed (he doesn't have or know about the vials, and the bad guys didn't know that Polly had the vials and was connected to Joe and therefore to Dex)? (3) Polly indicates that \"they\" don't know anything about Totenkopf, yet she has some secret source about him that contains what appears to be a fairly complete FBI-style file on him. (4) The blank spot on the map as described by the Nepalese -- if they know all about this mysterious area, then why the hell is their map blank in that spot? (5) At one point, Polly and Joe have to give up their clothes (they are burned) -- Joe is given new clothes that were identical to his old clothes, yet Polly is forced to wear some very odd looking bulky dress, then in the same line of continuity suddenly Polly has her original clothes back.<br /><br />*sigh*. How far off am I supposed to switch my brain to watch this crap?<br /><br />We are supposed to be exhilarated by the over produced music, even when nothing interesting or remotely exhilarating is happening on screen.<br /><br />And the acting? We're supposed to be impressed with a bunch of bad British accents? Which character isn't annoying? I think Ling Bai's dialogue was probably the best in the whole movie (she doesn't have a single line). The dialogue wasn't camp, and doesn't even rise to the level of cheese. Its just bad and annoying. These people aren't hero's or compelling; they are the kind of people you would try to ignore or disassociate with if you ever had the misfortune of meeting them in real life.<br /><br />I can't believe that this movie gets an above average rating here on IMDb. IMHO it should be competing with \"Batman Forever\" in the bottom 100 of all time.   \n",
       "8992  I wrote this as a two part review. Part two has spoilers.<br /><br />Part 1: <br /><br />No, this isn't that one about the sex with car accidents. This is the one about racism in L.A. You know, the one where everybody is a racist, and race is the topic on everybody's mind at all times. Race.<br /><br />Its like the movie has a form of turrets syndrome where race is the constant theme. Race. Racist. Racism. Race Relations. Relay race.<br /><br />Paul Haggis made a movie which took the structure of Magnolia, which was used to show the disconnect of people who are tangentially connected, and then screwed it into a 1'53\" mental vomit about racism in America. RACE. In the 24 hour period we have 7 stories running parallel all connected and about race. The first hour, people say ridiculous stuff and do absurd things in an effort to be real about racism in America.<br /><br />For example, the story with Ludicrous and Larenz Tate provides the comic relief. Too bad, the first half of their story is lifted straight from The Bonnie Situation in Pulp Fiction. RACISM. Their section is the Quentin Tarantino section where, instead of being cool and talking about foot massages and religion, the characters talk about race and racism. CONSTANTLY. <br /><br />The other good thing about it is the Mexican story when the Mexican guy is talking to his daughter. He gives her his invisible impenetrable cloak to protect her from bullets. Decent writing, but that's only because the writers have had daughters and know what they would say in his place.<br /><br />The rest of the stories are extremely ludicrous. The Hindi does not act in any semblance of realism. The scene where he's trying to get the lock fixed and the Mexican tells him he needs a new door is abbreviated and stupid. Why would anybody act like that? Is it realistic? NOOO. It reminds me more of the convenience store clerk from The Doom Generation. \"Six Dollar Sixty Six Cents girly.\" If i ever watch the second half of the movie, I hope his head is shot off and his bodiless head starts coughing up relish.<br /><br />I haven't mentioned race in over a paragraph. RACE. RACISM. RACE FOR THE SUN. Better. Then, there is the black guy who wants to be white, Matt Dillon who has a chip on his shoulder against blacks, Ryan Phillippe who looks beautiful and does nothing, and various other bad actors acting badly with bad dialog. When Matt Dillon molests the black producers wife, could I help it if I was cracking up? When Philippe is second guessing his writing up of his partner for racism, can I help but crack up? The movie is so funny when it is being racist. Racist. RACIST I tell you.<br /><br />Now, mind you, this movie was nominated for Best Picture, Best Director, Best Screenplay, and Best Editing, besides a nod to Matt Dillon who actually did attempt to do a decent job. Who was paid off for that one, I have no clue.<br /><br />Don't see it unless you feel like being preached at about the racism in society through a bad and unrealistic script from 2 white men over fifty who have no semblance of reality or interaction with real society in any way shape or form.<br /><br />D- <br /><br />Part 2:<br /><br />The second half of Crash takes any and all story lines in the first half...and spews them back out in a sort of redemptive, conclusionary, the world is a big coincidence kind of way. And it is in fact one of the worst ways to do it.<br /><br />Take 1999's Magnolia. People weren't conveniently tied together over and over again. They were just connected in a strange way that happens more often than you think. You know somebody who knows somebody who did something that you knew somebody else was also involved in. Crash takes this wrapping into a serious extreme.<br /><br />The stories are lined up so everybody meets again. Are there only 5 on the LAPD force? Aren't these people working weird shifts? Dillon and Philippe were a late shift then an early one the next day? And, why did Tate have to be the murdered hitchhiker? Wouldn't it have had more emotional tension, as well as realism, if it had been somebody we had not been following all day long? Like Phillippe just picks up a random hitchhiker and then freaks out. Everybody'd be freaking out.<br /><br />Eventually, in the second half, the touching invisible cloak scene is used to get the Hindi to shoot the daughter. It ticked me off and made me feel dirty. Not that the Hindi shot the daughter, but that they created a beautiful touching scene and then had it be the direct cause of people tearing up. It really ticked me off. At the writers, not the scene.<br /><br />The whole movie is fake and totally uncalled for. The coincidences are far too many and they require an extreme suspension of disbelief. Unlike Magnolia which was connected mildly, this had connections upon connections upon connections which were just so over-the-top. The only good part in the second half was when Sandra Bullock falls down the stairs. She doesn't die though. She should have. I cheered when she fell.<br /><br />The worst part about the movie is it pulls a Magnolia. Not just in structure, but it has a montage over the song In the Deep where you see everybody being depressed. Magnolia took this and had post-modern commentary on it by having all of the characters singing along to Aimee Mann's Wise Up. Unfortunately, Magnolia came out in 1999, while Crash came out in 2005. Its hard to make commentary on a movie which won't be made for another 6 years, but it happened. Somehow.<br /><br />Utter waste of my time.<br /><br />First half: D-; Second half: lowest grade ever; Overall: F---   \n",
       "\n",
       "      true_label  predicted_y  neg_label_prob  pos_label_prob  \n",
       "8297           0            0             1.0    8.911554e-10  \n",
       "5254           0            0             1.0    2.258246e-09  \n",
       "8716           0            0             1.0    4.340880e-09  \n",
       "7971           0            0             1.0    2.437131e-08  \n",
       "8992           0            0             1.0    2.448584e-08  "
      ]
     },
     "execution_count": 87,
     "metadata": {},
     "output_type": "execute_result"
    }
   ],
   "source": [
    "pd.set_option('display.max_colwidth', None)\n",
    "results_df.sort_values(by='neg_label_prob',ascending=False)[:5]"
   ]
  },
  {
   "cell_type": "markdown",
   "metadata": {
    "tags": []
   },
   "source": [
    "### 3.7 Looking at uncertain reviews\n",
    "rubric={accuracy:2}\n",
    "\n",
    "<div class=\"alert alert-info\" style=\"color:black\">\n",
    "    \n",
    "Find the 5 movie reviews in the test set with the most divided probability of being negative or positive (i.e., where the model is least confident in either review sentiment).\n",
    "\n",
    "What do you think could contribute to the model being confused for how to score a review?\n",
    "    \n",
    "</div>"
   ]
  },
  {
   "cell_type": "code",
   "execution_count": 88,
   "metadata": {},
   "outputs": [
    {
     "data": {
      "text/html": [
       "<div>\n",
       "<style scoped>\n",
       "    .dataframe tbody tr th:only-of-type {\n",
       "        vertical-align: middle;\n",
       "    }\n",
       "\n",
       "    .dataframe tbody tr th {\n",
       "        vertical-align: top;\n",
       "    }\n",
       "\n",
       "    .dataframe thead th {\n",
       "        text-align: right;\n",
       "    }\n",
       "</style>\n",
       "<table border=\"1\" class=\"dataframe\">\n",
       "  <thead>\n",
       "    <tr style=\"text-align: right;\">\n",
       "      <th></th>\n",
       "      <th>review</th>\n",
       "      <th>true_label</th>\n",
       "      <th>predicted_y</th>\n",
       "      <th>neg_label_prob</th>\n",
       "      <th>pos_label_prob</th>\n",
       "      <th>divided</th>\n",
       "    </tr>\n",
       "  </thead>\n",
       "  <tbody>\n",
       "    <tr>\n",
       "      <th>15768</th>\n",
       "      <td>I'm sure this is a show no one is that familiar of and might not think good of it; after all it is almost close to Baywatch Hawaii. With the cast, the location, style of the directing and its publicity Â? shows women walking around on the beach and all that. No wonder people have misconception and decide not to watch it.&lt;br /&gt;&lt;br /&gt;It was wrong of them to do that. Cause after I decide to watch the show, there are actually more thing going on, real juicy story and conflict, turn out to be really exciting to watch and pretty much Â? addictive.&lt;br /&gt;&lt;br /&gt;The story of the hotel clerks, the manager, the owner and their complicated love life. Also enter the troublesome hotel's visitor and powerful man trying to steal the hotel. It actually more exciting than it sounds here.&lt;br /&gt;&lt;br /&gt;I won't deny that the acting suck but it ain't that bad that you'll look away. The story is not so consistence but good enough. The soundtrack is fitting pretty well with the scenario and the action is all the time. I took me couple of episode before there is actually anything happen solidly so be patience.&lt;br /&gt;&lt;br /&gt;Recommendation: I Really Do Enjoy Watching This. Zillion Times Better Than Expected.&lt;br /&gt;&lt;br /&gt;Rating: 7.5/10 (Grade: B)&lt;br /&gt;&lt;br /&gt;Please Rate My Review After Reading It, Thanks.</td>\n",
       "      <td>1</td>\n",
       "      <td>0</td>\n",
       "      <td>0.500139</td>\n",
       "      <td>0.499861</td>\n",
       "      <td>0.000139</td>\n",
       "    </tr>\n",
       "    <tr>\n",
       "      <th>10690</th>\n",
       "      <td>If you're even mildly interested in the War between the States, this film is worth watching. It is great historical story telling. No flashing sabres, no cavalry charges, no carnage -- just the story of a sorry group of Union soldiers stumbling into the farm of a Confederate woman and her son and taking as much as their captain's conscience allows. This quantity moves up and down as events unfold affecting his sense of humanity in conflict with his sense of duty to his men and his cause. Ultimately, he reaches a compromise that any of us would be hard put to top. &lt;br /&gt;&lt;br /&gt;I appreciate the historical treatment of the war in Kentucky, a slave state that tried to stay neutral but eventually opted to remain in the Union under mysterious political circumstances involving the detention of certain legislators. Roughly half the soldiers from Kentucky fought for each side, but there's never been much treatment of what it was like to have lived there through those times. This film makes a great contribution simply in the \"look and feel\" of the time and place.</td>\n",
       "      <td>1</td>\n",
       "      <td>1</td>\n",
       "      <td>0.499555</td>\n",
       "      <td>0.500445</td>\n",
       "      <td>0.000445</td>\n",
       "    </tr>\n",
       "    <tr>\n",
       "      <th>671</th>\n",
       "      <td>I was prepared to love \"Where's Poppa\", it features the nexus of Normal Lear sitcom character actors who, when I was growing up, felt like extended members of my raisenette-sized broken nuclear family. How fun it would be to see censor-free Barnard Hughes, Vincent Gardenia, Ron Liebman, Rob Reiner, and a pre-SNL Garret Morris.&lt;br /&gt;&lt;br /&gt;But alas,\"Where's Poppa\" drags. It's claustrophobic and plodding, and breaks the cardinal rules of farce, lightness of mood and a fast pace.&lt;br /&gt;&lt;br /&gt;The plot involves the efforts of a lawyer (George Segal) to rid himself of his overbearing Jewish mother, who lives in his gigantic New York apartment. Along the way we are exposed ridiculous characters and situations: a comedic group of muggers who repeatedly mug the brother of the main character, the rape of a policeman which involving a gorilla suit and subsequent gay love, Ruth Gorden pulling down Segal's pants and biting his ass as he serves her dinner. Why doesn't this work? Part of the explanation is the sense of doom engendered by the cramped, dark interiors and antique set-decoration. I absolutely eat up cinematography of New York during this era, but watching this movie felt like I was leafing through the Police Gazette in a dark bus terminal.&lt;br /&gt;&lt;br /&gt;The main reason though is the slow pace. Modern MTV-style quick cuts have changed what moviegoers feel is a comfortable editing tempo, but, even taking this into consideration, camera shots are held for an excessively long time. Plot developments are also very slow. There is one situation in which this works: a weird love song George Segal sings to Trish Van Devere, softly, very close to her face, and for an excruciatingly long period of time. It reminded me of those cringeworthy extended shots in the British version of \"The Office\", where you find yourself mentally begging the camera to cut away, and at the same time you can't stop looking.&lt;br /&gt;&lt;br /&gt;Sadly, most of the film is more \"hurry up\" than \"can't look away\". Which made me wonder if it's possible to have a black comedy that is also a farce. The dilemma is that the gravitas of the subject matter in a black comedy tends to weigh down lightness of the farce. Movies like Robert Altman's \"M*A*S*H\" and Kubrick's \"Dr. Strangelove\" prove that it can be accomplished. They do this not only through speed but also through entertaining subplots, something \"Where's Poppa\" neglects.&lt;br /&gt;&lt;br /&gt;Although the film features multiple, stereotypically-funny characters, almost all of them are directly involved in the central drama of how to deal with the recalcitrant mother. The scenes featuring Garret Morris and the Central Park muggers are as close as the viewer gets to a mental break. The muggers seemed almost Shakespearean, following the tradition of comic ne'er-d0-wells. If the rest of \"Where's Poppa\" had clung a little more closely to stage tradition it would have been a better film. Edgier isn't always better. It's as if all these talented actors and the director Carl Reiner, were taking a short before the creative maelstrom of the 70's .&lt;br /&gt;&lt;br /&gt;Random notes: After strealing Ron Liebman's clothes, the muggers mention Cornel Wilde's \"The Naked Prey\" (1966), a great action movie that was a stylistic precursor to 1968's \"Planet of the Apes\".&lt;br /&gt;&lt;br /&gt;As politically incorrect as he was, it's disquieting to learn about the death of an action hero as formidable as Charleton Heston. Linda Harrison, who played \"Nova\", Taylor's mute mate, said that James Fransicus, in the sequel seemed to be cute and tiny compared to Heston.</td>\n",
       "      <td>0</td>\n",
       "      <td>0</td>\n",
       "      <td>0.500588</td>\n",
       "      <td>0.499412</td>\n",
       "      <td>0.000588</td>\n",
       "    </tr>\n",
       "    <tr>\n",
       "      <th>10801</th>\n",
       "      <td>This is by far my favorite film of all time. That's mainly because it's not afraid to delve into some very politically incorrect topics (such as spanking and female submissiveness) that other mainstream films are just too timid to touch. Nothing seems to be off-limits in this film as the director freely develops the story without any concern given to possibly offending the viewer. However, I don't think anything was done here purely for shock value or to purposely offend anyone. Sean Young turns in an excellent and courageous performance. Most established mainstream actresses would not have taken on this role or would have asked for some major script changes before accepting it. The other cast members do a fine job as well.&lt;br /&gt;&lt;br /&gt;Have you noticed that this movie hasn't appeared on pay cable since an obligatory brief run a year after it hit the theaters? Have you ever wondered why? The obvious reason is that it just doesn't fit today's political atmosphere. It seems quite ironic to me that some premium channels now carry softcore porn (that's getting closer and closer to hardcore porn) but will not carry a mainstream movie like \"Love Crimes\". Sadly, even though this movie is only 11 years old, it could probably not be made today.&lt;br /&gt;&lt;br /&gt;</td>\n",
       "      <td>1</td>\n",
       "      <td>0</td>\n",
       "      <td>0.500620</td>\n",
       "      <td>0.499380</td>\n",
       "      <td>0.000620</td>\n",
       "    </tr>\n",
       "    <tr>\n",
       "      <th>16105</th>\n",
       "      <td>Here's what I knew about \"Atlantis\" before watching it:&lt;br /&gt;&lt;br /&gt;* - It's officially Disney's first animated sci-fi adventure. I'm not sure how accurate that is (I like to nitpick) but it made me curious first time I heard it described.&lt;br /&gt;&lt;br /&gt;* - The preview looked, for the most part, damn cool. Evidently, it was also \"too cryptic\" according to some critics after the fact.&lt;br /&gt;&lt;br /&gt;* - It apparently did SO badly that Disney said, \"Screw it, let's re-release 'Spy Kids'\".&lt;br /&gt;&lt;br /&gt;So, with all that said, how is the movie?&lt;br /&gt;&lt;br /&gt;Hella-cool.&lt;br /&gt;&lt;br /&gt;I'm a sucker for animated fantasy that involves stirring music and rampant special effects anyway, but \"Atlantis\" goes all out. It's a throwback to all the CGI eye-candy shots in \"Beauty and the Beast\" and \"Aladdin\", so much so that it's almost an effects animator's Best-Of Show. The characters maybe aren't that memorable (except, perhaps, for the ship's medical officer), and the plot's a little dull, but this isn't a movie you watch for the plot.&lt;br /&gt;&lt;br /&gt;Here's a controversy that bothers me. The \"failure\" (as in, it \"only\" took in, like, five-hundred-million or something; I know animators who'd kill to see fifteen bucks of that) of this movie compared to the popularity of \"Shrek\" and \"Monsters Inc.\" has been seen as evidence of the death of traditional animation. I don't think that's true. How do you account for the \"South Park\" movie? What about \"Final Fantasy\"? Really, the story and the artistry is everything, not the method. I don't know what Disney's comeback movie will be like, but I don't think they're out of the picture yet.</td>\n",
       "      <td>1</td>\n",
       "      <td>0</td>\n",
       "      <td>0.500744</td>\n",
       "      <td>0.499256</td>\n",
       "      <td>0.000744</td>\n",
       "    </tr>\n",
       "  </tbody>\n",
       "</table>\n",
       "</div>"
      ],
      "text/plain": [
       "                                                                                                                                                                                                                                                                                                                                                                                                                                                                                                                                                                                                                                                                                                                                                                                                                                                                                                                                                                                                                                                                                                                                                                                                                                                                                                                                                                                                                                                                                                                                                                                                                                                                                                                                                                                                                                                                                                                                                                                                                                                                                                                                                                                                                                                                                                                                                                                                                                                                                                                                                                                                                                                                                                                                                                                                                                                                                                                                                                                                                                                                                                                                                                                                                                                                                                                                                                                                                                                                                                                                                                                                                                                                                                                      review  \\\n",
       "15768                                                                                                                                                                                                                                                                                                                                                                                                                                                                                                                                                                                                                                                                                                                                                                                                                                                                                                                                                                                                                                                                                                                                                                                                                                                                                                                                                                                                                                                                                                                                                                                                                                                                                                                                                                                                                                                                                                                                                                                                                                                                                                                                                                                                                                                                                                                                                                            I'm sure this is a show no one is that familiar of and might not think good of it; after all it is almost close to Baywatch Hawaii. With the cast, the location, style of the directing and its publicity Â? shows women walking around on the beach and all that. No wonder people have misconception and decide not to watch it.<br /><br />It was wrong of them to do that. Cause after I decide to watch the show, there are actually more thing going on, real juicy story and conflict, turn out to be really exciting to watch and pretty much Â? addictive.<br /><br />The story of the hotel clerks, the manager, the owner and their complicated love life. Also enter the troublesome hotel's visitor and powerful man trying to steal the hotel. It actually more exciting than it sounds here.<br /><br />I won't deny that the acting suck but it ain't that bad that you'll look away. The story is not so consistence but good enough. The soundtrack is fitting pretty well with the scenario and the action is all the time. I took me couple of episode before there is actually anything happen solidly so be patience.<br /><br />Recommendation: I Really Do Enjoy Watching This. Zillion Times Better Than Expected.<br /><br />Rating: 7.5/10 (Grade: B)<br /><br />Please Rate My Review After Reading It, Thanks.   \n",
       "10690                                                                                                                                                                                                                                                                                                                                                                                                                                                                                                                                                                                                                                                                                                                                                                                                                                                                                                                                                                                                                                                                                                                                                                                                                                                                                                                                                                                                                                                                                                                                                                                                                                                                                                                                                                                                                                                                                                                                                                                                                                                                                                                                                                                                                                                                                                                                                                                                                                                                                                                                                                                                           If you're even mildly interested in the War between the States, this film is worth watching. It is great historical story telling. No flashing sabres, no cavalry charges, no carnage -- just the story of a sorry group of Union soldiers stumbling into the farm of a Confederate woman and her son and taking as much as their captain's conscience allows. This quantity moves up and down as events unfold affecting his sense of humanity in conflict with his sense of duty to his men and his cause. Ultimately, he reaches a compromise that any of us would be hard put to top. <br /><br />I appreciate the historical treatment of the war in Kentucky, a slave state that tried to stay neutral but eventually opted to remain in the Union under mysterious political circumstances involving the detention of certain legislators. Roughly half the soldiers from Kentucky fought for each side, but there's never been much treatment of what it was like to have lived there through those times. This film makes a great contribution simply in the \"look and feel\" of the time and place.   \n",
       "671    I was prepared to love \"Where's Poppa\", it features the nexus of Normal Lear sitcom character actors who, when I was growing up, felt like extended members of my raisenette-sized broken nuclear family. How fun it would be to see censor-free Barnard Hughes, Vincent Gardenia, Ron Liebman, Rob Reiner, and a pre-SNL Garret Morris.<br /><br />But alas,\"Where's Poppa\" drags. It's claustrophobic and plodding, and breaks the cardinal rules of farce, lightness of mood and a fast pace.<br /><br />The plot involves the efforts of a lawyer (George Segal) to rid himself of his overbearing Jewish mother, who lives in his gigantic New York apartment. Along the way we are exposed ridiculous characters and situations: a comedic group of muggers who repeatedly mug the brother of the main character, the rape of a policeman which involving a gorilla suit and subsequent gay love, Ruth Gorden pulling down Segal's pants and biting his ass as he serves her dinner. Why doesn't this work? Part of the explanation is the sense of doom engendered by the cramped, dark interiors and antique set-decoration. I absolutely eat up cinematography of New York during this era, but watching this movie felt like I was leafing through the Police Gazette in a dark bus terminal.<br /><br />The main reason though is the slow pace. Modern MTV-style quick cuts have changed what moviegoers feel is a comfortable editing tempo, but, even taking this into consideration, camera shots are held for an excessively long time. Plot developments are also very slow. There is one situation in which this works: a weird love song George Segal sings to Trish Van Devere, softly, very close to her face, and for an excruciatingly long period of time. It reminded me of those cringeworthy extended shots in the British version of \"The Office\", where you find yourself mentally begging the camera to cut away, and at the same time you can't stop looking.<br /><br />Sadly, most of the film is more \"hurry up\" than \"can't look away\". Which made me wonder if it's possible to have a black comedy that is also a farce. The dilemma is that the gravitas of the subject matter in a black comedy tends to weigh down lightness of the farce. Movies like Robert Altman's \"M*A*S*H\" and Kubrick's \"Dr. Strangelove\" prove that it can be accomplished. They do this not only through speed but also through entertaining subplots, something \"Where's Poppa\" neglects.<br /><br />Although the film features multiple, stereotypically-funny characters, almost all of them are directly involved in the central drama of how to deal with the recalcitrant mother. The scenes featuring Garret Morris and the Central Park muggers are as close as the viewer gets to a mental break. The muggers seemed almost Shakespearean, following the tradition of comic ne'er-d0-wells. If the rest of \"Where's Poppa\" had clung a little more closely to stage tradition it would have been a better film. Edgier isn't always better. It's as if all these talented actors and the director Carl Reiner, were taking a short before the creative maelstrom of the 70's .<br /><br />Random notes: After strealing Ron Liebman's clothes, the muggers mention Cornel Wilde's \"The Naked Prey\" (1966), a great action movie that was a stylistic precursor to 1968's \"Planet of the Apes\".<br /><br />As politically incorrect as he was, it's disquieting to learn about the death of an action hero as formidable as Charleton Heston. Linda Harrison, who played \"Nova\", Taylor's mute mate, said that James Fransicus, in the sequel seemed to be cute and tiny compared to Heston.   \n",
       "10801                                                                                                                                                                                                                                                                                                                                                                                                                                                                                                                                                                                                                                                                                                                                                                                                                                                                                                                                                                                                                                                                                                                                                                                                                                                                                                                                                                                                                                                                                                                                                                                                                                                                                                                                                                                                                                                                                                                                                                                                                                                                                                                                                                                                                                                                                                                                                                                                      This is by far my favorite film of all time. That's mainly because it's not afraid to delve into some very politically incorrect topics (such as spanking and female submissiveness) that other mainstream films are just too timid to touch. Nothing seems to be off-limits in this film as the director freely develops the story without any concern given to possibly offending the viewer. However, I don't think anything was done here purely for shock value or to purposely offend anyone. Sean Young turns in an excellent and courageous performance. Most established mainstream actresses would not have taken on this role or would have asked for some major script changes before accepting it. The other cast members do a fine job as well.<br /><br />Have you noticed that this movie hasn't appeared on pay cable since an obligatory brief run a year after it hit the theaters? Have you ever wondered why? The obvious reason is that it just doesn't fit today's political atmosphere. It seems quite ironic to me that some premium channels now carry softcore porn (that's getting closer and closer to hardcore porn) but will not carry a mainstream movie like \"Love Crimes\". Sadly, even though this movie is only 11 years old, it could probably not be made today.<br /><br />   \n",
       "16105                                                                                                                                                                                                                                                                                                                                                                                                                                                                                                                                                                                                                                                                                                                                                                                                                                                                                                                                                                                                                                                                                                                                                                                                                                                                                                                                                                                                                                                                                                                                                                                                                                                                                                                                                                                                                                                                                                                                                                                                                                 Here's what I knew about \"Atlantis\" before watching it:<br /><br />* - It's officially Disney's first animated sci-fi adventure. I'm not sure how accurate that is (I like to nitpick) but it made me curious first time I heard it described.<br /><br />* - The preview looked, for the most part, damn cool. Evidently, it was also \"too cryptic\" according to some critics after the fact.<br /><br />* - It apparently did SO badly that Disney said, \"Screw it, let's re-release 'Spy Kids'\".<br /><br />So, with all that said, how is the movie?<br /><br />Hella-cool.<br /><br />I'm a sucker for animated fantasy that involves stirring music and rampant special effects anyway, but \"Atlantis\" goes all out. It's a throwback to all the CGI eye-candy shots in \"Beauty and the Beast\" and \"Aladdin\", so much so that it's almost an effects animator's Best-Of Show. The characters maybe aren't that memorable (except, perhaps, for the ship's medical officer), and the plot's a little dull, but this isn't a movie you watch for the plot.<br /><br />Here's a controversy that bothers me. The \"failure\" (as in, it \"only\" took in, like, five-hundred-million or something; I know animators who'd kill to see fifteen bucks of that) of this movie compared to the popularity of \"Shrek\" and \"Monsters Inc.\" has been seen as evidence of the death of traditional animation. I don't think that's true. How do you account for the \"South Park\" movie? What about \"Final Fantasy\"? Really, the story and the artistry is everything, not the method. I don't know what Disney's comeback movie will be like, but I don't think they're out of the picture yet.   \n",
       "\n",
       "       true_label  predicted_y  neg_label_prob  pos_label_prob   divided  \n",
       "15768           1            0        0.500139        0.499861  0.000139  \n",
       "10690           1            1        0.499555        0.500445  0.000445  \n",
       "671             0            0        0.500588        0.499412  0.000588  \n",
       "10801           1            0        0.500620        0.499380  0.000620  \n",
       "16105           1            0        0.500744        0.499256  0.000744  "
      ]
     },
     "execution_count": 88,
     "metadata": {},
     "output_type": "execute_result"
    }
   ],
   "source": [
    "pd.set_option('display.max_colwidth', None)\n",
    "results_df['divided'] = np.abs(results_df['pos_label_prob'] - 0.5)\n",
    "results_df.sort_values(by='divided')[:5]"
   ]
  },
  {
   "cell_type": "markdown",
   "metadata": {},
   "source": [
    "Reviews with both negative and postive expressions could confuse the model."
   ]
  },
  {
   "cell_type": "markdown",
   "metadata": {},
   "source": [
    "### 3.8 Looking at wrongly predicted reviews\n",
    "rubric={accuracy:1,reasoning:1}\n",
    "\n",
    "<div class=\"alert alert-info\" style=\"color:black\">\n",
    "    \n",
    "Examine a review from the test set where our `best_model` is making mistakes, i.e., where the true labels do not match the predicted labels. \n",
    "\n",
    "What do you think could contribute to the model making an incorrect classification for a review?\n",
    "    \n",
    "</div>"
   ]
  },
  {
   "cell_type": "code",
   "execution_count": 89,
   "metadata": {},
   "outputs": [
    {
     "data": {
      "text/html": [
       "<div>\n",
       "<style scoped>\n",
       "    .dataframe tbody tr th:only-of-type {\n",
       "        vertical-align: middle;\n",
       "    }\n",
       "\n",
       "    .dataframe tbody tr th {\n",
       "        vertical-align: top;\n",
       "    }\n",
       "\n",
       "    .dataframe thead th {\n",
       "        text-align: right;\n",
       "    }\n",
       "</style>\n",
       "<table border=\"1\" class=\"dataframe\">\n",
       "  <thead>\n",
       "    <tr style=\"text-align: right;\">\n",
       "      <th></th>\n",
       "      <th>review</th>\n",
       "      <th>true_label</th>\n",
       "      <th>predicted_y</th>\n",
       "      <th>neg_label_prob</th>\n",
       "      <th>pos_label_prob</th>\n",
       "      <th>divided</th>\n",
       "    </tr>\n",
       "  </thead>\n",
       "  <tbody>\n",
       "    <tr>\n",
       "      <th>11628</th>\n",
       "      <td>And that's saying a lot. Rent this if you want to be staggered by oddness, blown away by one of the most bizarre scripts, direction, and casting in the history of films. I'm staggered. I can't believe I watched it. I'm a big Bernadette Peters fan, normally- but this tested my resolve. Don't read any more reviews here, it's best if you know nothing about the plot. Just rent it. You won't believe what you're seeing.......</td>\n",
       "      <td>1</td>\n",
       "      <td>0</td>\n",
       "      <td>0.772169</td>\n",
       "      <td>0.227831</td>\n",
       "      <td>0.272169</td>\n",
       "    </tr>\n",
       "    <tr>\n",
       "      <th>2481</th>\n",
       "      <td>'Maladolescenza' has the air of a dark fairy tale, with its child protagonists, forest setting, and the discovery of a castle's ruins. Yet at its core, the film is essentially an unusual psychosexual study of adolescents. Opening with a dream sequence employing the not-so-subtle metaphor of Fabrizio wrestling with his menacing hound, the film details his psychological persecution of Laura, the girl who has pledged her love to him, and his eventual romance with the equally malicious Sylvia. The film's psychological complexities do give the film merit, yet there's no doubting how unnecessarily exploitive the film is in its depiction of nudity and sex. The film's look relies more on its gorgeous locations rather than particular cinematographic skill, and there's no doubting the film's greatest asset is the creepy, children's choir-augmented soundtrack. With its odd dreamlike quality, the film is at best interesting, yet pales beside Louis Malle's surreal and brilliant 'Black Moon' from the same era. Certainly deserving of the art versus pornography debate, for unlike many banned films, Pasolini's 'Salo' or Larry Clark's 'Ken Park' for instance, the film is rather unremarkable from an artistic perspective. Cinema seems to be gradually losing its ability to shock, so perhaps 'Maladolescenza' should be admired for retaining that power thirty years after its release. However shock value is the one reason alone the film is memorable. &lt;br /&gt;&lt;br /&gt;The film does have its defenders. Yet so does Nazism.</td>\n",
       "      <td>0</td>\n",
       "      <td>1</td>\n",
       "      <td>0.009902</td>\n",
       "      <td>0.990098</td>\n",
       "      <td>0.490098</td>\n",
       "    </tr>\n",
       "    <tr>\n",
       "      <th>2756</th>\n",
       "      <td>Was this movie stupid? Yup. Did this movie depth? Nope. Character development? Nope. Plot twists? Nope. This was simply a movie about a highly-fictionalized Springer show. It shows the lengths that some people will go to get their mugs on TV. Molly Hagan did a great job as Jaime Pressly's mom. Jaime is....well...GORGEOUS! This flick wasn't so much made to be a \"breakthrough\" movie, rather, it was intended to life in a trailer park (I live in a trailer park and ours is nothing like the one in this movie) where everyone sleeps with everyone else, all the girls get pregnant by different guys, and all the guys drive rusted-out '66 Ford pickups (exaggeration, of course, but that's the picture everyone sees when you mention \"trailer park\"). Some people over-analyze movies (case-in-point: Star Trek freaks). I watch movies purely for the entertainment value; not to point out that the girl is wearing a different shirt in a different scene (read the \"Goofs\" bit about Connie's shirt. Could it have been better? Sure. But it was funny as hell.</td>\n",
       "      <td>0</td>\n",
       "      <td>1</td>\n",
       "      <td>0.218062</td>\n",
       "      <td>0.781938</td>\n",
       "      <td>0.281938</td>\n",
       "    </tr>\n",
       "    <tr>\n",
       "      <th>2506</th>\n",
       "      <td>This sequel to \"In the Heat of the Night\" will suffer in inevitable comparisons to its infinitely better predecessor. Instead of looking like a theatrical movie edited for television, \"Mister Tibbs\" looks suspiciously like a TV movie edited for theatrical release, with grainy photography, cheesy opening titles, and sets that look like they're made of plywood. The murder sequence has a glaring continuity error: the camera shows two hands choking the girl, then a shot of a hand reaching for a statuette, then a shot of the girl being choked with two hands again, and finally the statuette coming down for the fatal blow. Solving the case should be easy: find the only guy with three hands! But the shoddy production values can't completely obscure this film's considerable merits: namely, Sidney Poitier's performance as the cool detective determined to follow the evidence wherever it may lead, even if it implicates a friend. Martin Landau is also convincing as the do-gooder preacher-activist suspected of brutally murdering his prostitute girlfriend. In addition to being haunted by the case, Tibbs is conflicted about his home life, but the issues of race and Tibbs' barely concealed sense of social outrage are absent here. So is the complex murder mystery that made \"In the Heat of the Night\" so compelling.</td>\n",
       "      <td>0</td>\n",
       "      <td>1</td>\n",
       "      <td>0.415180</td>\n",
       "      <td>0.584820</td>\n",
       "      <td>0.084820</td>\n",
       "    </tr>\n",
       "    <tr>\n",
       "      <th>5883</th>\n",
       "      <td>MAY CONTAIN SPOILERS For about the last four years I've been a keen fan of Ali G. Sacha Baron Cohen is undoubtedly a very funny and intelligent guy and, in my view, his best creation is Borat who's as funny as Hell and quite shameless in what he does and says to people.&lt;br /&gt;&lt;br /&gt;Anyway, to the movie. I didn't bother paying money to see this in the cinema; I suppose because I didn't expect a lot but when I hired the DVD recently, I found the whole thing pretty sad. The best part of Ali's taking the mickey out of others was largely missing and the script an plot was pretty damned awful; hooking all the car batteries together to blow a safe - REALLY!!?? &lt;br /&gt;&lt;br /&gt;This movie goes to show I think that some things can run for too long and definitely don't translate to the big screen. The movie also had that syrupy sweet ending that I've come to expect from British films. Where have all the good British movie making ideals gone to? That said, there were the odd very funny moments such as the dog in Ali's bed and Ali's audience with HM the Q with the \"Shaven haven - RESPECT\" remark.&lt;br /&gt;&lt;br /&gt;So, in summary, I am an Ali G and Borat fan and I have enjoyed many of his interviews (notably the one with Anita Roddick of the Body Shop) but this movie fell really flat with me. If there's to be another movie, I hope it's a whole lot better than this lot of old tripe.&lt;br /&gt;&lt;br /&gt;Weasel100 &lt;br /&gt;&lt;br /&gt;Canberra, Australia</td>\n",
       "      <td>0</td>\n",
       "      <td>1</td>\n",
       "      <td>0.420575</td>\n",
       "      <td>0.579425</td>\n",
       "      <td>0.079425</td>\n",
       "    </tr>\n",
       "    <tr>\n",
       "      <th>...</th>\n",
       "      <td>...</td>\n",
       "      <td>...</td>\n",
       "      <td>...</td>\n",
       "      <td>...</td>\n",
       "      <td>...</td>\n",
       "      <td>...</td>\n",
       "    </tr>\n",
       "    <tr>\n",
       "      <th>4556</th>\n",
       "      <td>Michael Callan plays a smarmy photographer who seems, nonetheless, to be regarded as a perfect \"catch\" by any woman that runs across him; could this have anything to do with the fact that he also co-produced the film? He's a \"hero\" whom it's very difficult to empathize with, so the movie is in trouble right from the start. However, it's troubles don't end there. It has the production values of a TV-movie (check out that head made of clay or something, near the end), and the ending cheats in a way that I can't reveal, in case anyone wants to see the movie (highly unlikely). Let's just say that the killer knows more than we were let to know he knows. (*1/2)</td>\n",
       "      <td>0</td>\n",
       "      <td>1</td>\n",
       "      <td>0.223213</td>\n",
       "      <td>0.776787</td>\n",
       "      <td>0.276787</td>\n",
       "    </tr>\n",
       "    <tr>\n",
       "      <th>16740</th>\n",
       "      <td>kite runner is undoubtedly one of the most amazing books i have read in the recent past. i perhaps had very high expectations from the film, but none the less the movie was good, the entire setting seemed realistic. nothing was made to fancy. the dialogs were not very attractive or powerful, they were just right. The movie was not a bad experience at all, especially at the last 15mins ,where it got real emotional and even the hardest man would probably cry.but my imagination was far better than the movie...i cried more upon reading the novel than seeing the movie. but overall a good movie to see for those of u who are not readers. but the readers- the novel would be a better experience,so if at all u want to see the movie, read the novel first and then compare it to the movie.</td>\n",
       "      <td>1</td>\n",
       "      <td>0</td>\n",
       "      <td>0.509809</td>\n",
       "      <td>0.490191</td>\n",
       "      <td>0.009809</td>\n",
       "    </tr>\n",
       "    <tr>\n",
       "      <th>10934</th>\n",
       "      <td>Don't ask me why I love this movie so much...Maybe it came at a time in my life I desperately wanted to fit in, maybe it is the amazing monster effects, maybe because I enjoyed the novel \"Cabal\", but It's probably because I LOVE Clive Barker. I think it's fair to warn you the movie and the novel have no true resolve and like me you'll probably have a WTF moment at the end. At least two sequels were planned but never came about due to the fact the movie flopped for a few reasons. The studio made drastic cuts to the film cutting a good 30 or so minutes out of it and they did a HORRIBLE job promoting it. The adverts made it look like just another cheap slasher showing mainly the \"Button face/Mask\" Decker character. This is a movie about the monsters! About fantasy! About a place called Midian! It's a story where the monsters are the good guys. There is truly nothing else out there like it! It's not a movie for everybody I suppose but it stands as one of Clive's many great works. Sit back and be prepared to be taken to Midian - where the monsters are.</td>\n",
       "      <td>1</td>\n",
       "      <td>0</td>\n",
       "      <td>0.607105</td>\n",
       "      <td>0.392895</td>\n",
       "      <td>0.107105</td>\n",
       "    </tr>\n",
       "    <tr>\n",
       "      <th>13586</th>\n",
       "      <td>Well, this is new...Famous Italian horror director Lucio Fulci shoots a film about a famous Italian horror director called...Lucio Fulci. After years and years of witnessing gruesome horror sequences, it becomes hard for Lucio to separate reality from fiction and he often hallucinates about committing violent murders. He quickly descends further into a seemly endless spiral of madness and unverifiable venom. Even the dedicated psychiatrist can't seem to keep Fulci on the right track... Now, when it comes to pure fun and entertainment value, Cat in the Brain certainly is one of Fulci's most pleasant films. The gore is overpowering and copious, to say the least. The amount of filthy massacres is impossible to describe, especially when you manage to get your hands on the fully uncut version (referred to with the aka:\"Nightmare Concert\"). Decapitations all around, victims ' intestines are spread on all sides of the screen and the chainsaws are working overtime! The film also becomes unintentionally funny quite soon (since it's so exaggerated) and a perfect experience to watch with a group of friends when there's beer in the fridge. Of course, from a more professional viewpoint, this production can't exactly be called a masterpiece! There's not the least bit of tension or atmosphere to detect and the characters are completely empty-headed. In order to make more room for the gore, characters are just being introduced for 5 seconds and subsequently die a horrible death. Especially compared with Fulci's highlights - like \"The Beyond\" or \"Don't Torture a Duckling\" - this film looks like a quickly warmed up snack. The best way to interpret \"Cat in the Brain\" is like a personal statement made by Fulci and a direct attack towards censorship. Perhaps after seeing so many of his films Â? especially the latter ones Â? being cut by censorship committees and bashed by pseudo-artistic critics, he wanted to avenge himself by delivering a gory mess that simply can't be cut! If you take out all the explicit violence and the truly sick make-up effects, you only got about 10 minutes of footage left! Especially because the insane killings re-occur later in the film as Fulci hallucinates about them again. You can almost hear our director think stuff like: \"Let's see how you're going to censor this now!\" Even the entire development of the murder investigation happens in the background. Are the victims missed by any of their friends or relatives? Are there any police officers looking for clues that'll lead them to the killer? You don't know and Lucio doesn't bother to inform you about that, because that would lead to sequences that don't require cutting. Oh, and it's pretty damn pretentious as well! The name \"Mr. Fulci\" or even \"Lucio\" is mentioned every 3 minutes (34 times throughout the entire movie, to be exact) and our director clearly enjoys being in the spotlights for a change. Hey, I certainly don't blame him...After over 30 years of delivering amusing movies; he deserved to have a little extra fun. You're a God, Mr. Fulci!</td>\n",
       "      <td>1</td>\n",
       "      <td>0</td>\n",
       "      <td>0.557503</td>\n",
       "      <td>0.442497</td>\n",
       "      <td>0.057503</td>\n",
       "    </tr>\n",
       "    <tr>\n",
       "      <th>12216</th>\n",
       "      <td>For all the Homicide junkies out there, this movie was great! Every single character that ever was on the show made an appearance in the movie. It helped to resolve some (but not all) issues from the series. Unfortunately, unless you actually did watch the series, most of the enjoyment would be lost, as the movie made heavy references to every season of the show's existence. This probably would have been appropriate as a series finale as opposed to being a separate movie, but we gotta take what we can get. I hope they make more movies, and continue to feature Homicide characters on Law and Order.</td>\n",
       "      <td>1</td>\n",
       "      <td>0</td>\n",
       "      <td>0.751401</td>\n",
       "      <td>0.248599</td>\n",
       "      <td>0.251401</td>\n",
       "    </tr>\n",
       "  </tbody>\n",
       "</table>\n",
       "<p>481 rows × 6 columns</p>\n",
       "</div>"
      ],
      "text/plain": [
       "                                                                                                                                                                                                                                                                                                                                                                                                                                                                                                                                                                                                                                                                                                                                                                                                                                                                                                                                                                                                                                                                                                                                                                                                                                                                                                                                                                                                                                                                                                                                                                                                                                                                                                                                                                                                                                                                                                                                                                                                                                                                                                                                                                                                                                                                                                                                                                                                                                                                                                                                                                                                                                                                                                                                                                                                                                                                                                                                                                                                                                                                                                                                                                                    review  \\\n",
       "11628                                                                                                                                                                                                                                                                                                                                                                                                                                                                                                                                                                                                                                                                                                                                                                                                                                                                                                                                                                                                                                                                                                                                                                                                                                                                                                                                                                                                                                                                                                                                                                                                                                                                                                                                                                                                                                                                                                                                                                                                                                                                                                                                                                                                                                                                                                                                                                                                                                                                                                                                                                                                                                                                                                                                              And that's saying a lot. Rent this if you want to be staggered by oddness, blown away by one of the most bizarre scripts, direction, and casting in the history of films. I'm staggered. I can't believe I watched it. I'm a big Bernadette Peters fan, normally- but this tested my resolve. Don't read any more reviews here, it's best if you know nothing about the plot. Just rent it. You won't believe what you're seeing.......   \n",
       "2481                                                                                                                                                                                                                                                                                                                                                                                                                                                                                                                                                                                                                                                                                                                                                                                                                                                                                                                                                                                                                                                                                                                                                                                                                                                                                                                                                                                                                                                                                                                                                                                                           'Maladolescenza' has the air of a dark fairy tale, with its child protagonists, forest setting, and the discovery of a castle's ruins. Yet at its core, the film is essentially an unusual psychosexual study of adolescents. Opening with a dream sequence employing the not-so-subtle metaphor of Fabrizio wrestling with his menacing hound, the film details his psychological persecution of Laura, the girl who has pledged her love to him, and his eventual romance with the equally malicious Sylvia. The film's psychological complexities do give the film merit, yet there's no doubting how unnecessarily exploitive the film is in its depiction of nudity and sex. The film's look relies more on its gorgeous locations rather than particular cinematographic skill, and there's no doubting the film's greatest asset is the creepy, children's choir-augmented soundtrack. With its odd dreamlike quality, the film is at best interesting, yet pales beside Louis Malle's surreal and brilliant 'Black Moon' from the same era. Certainly deserving of the art versus pornography debate, for unlike many banned films, Pasolini's 'Salo' or Larry Clark's 'Ken Park' for instance, the film is rather unremarkable from an artistic perspective. Cinema seems to be gradually losing its ability to shock, so perhaps 'Maladolescenza' should be admired for retaining that power thirty years after its release. However shock value is the one reason alone the film is memorable. <br /><br />The film does have its defenders. Yet so does Nazism.   \n",
       "2756                                                                                                                                                                                                                                                                                                                                                                                                                                                                                                                                                                                                                                                                                                                                                                                                                                                                                                                                                                                                                                                                                                                                                                                                                                                                                                                                                                                                                                                                                                                                                                                                                                                                                                                                                                                                                                                                                                                                                                                                                                                                                                Was this movie stupid? Yup. Did this movie depth? Nope. Character development? Nope. Plot twists? Nope. This was simply a movie about a highly-fictionalized Springer show. It shows the lengths that some people will go to get their mugs on TV. Molly Hagan did a great job as Jaime Pressly's mom. Jaime is....well...GORGEOUS! This flick wasn't so much made to be a \"breakthrough\" movie, rather, it was intended to life in a trailer park (I live in a trailer park and ours is nothing like the one in this movie) where everyone sleeps with everyone else, all the girls get pregnant by different guys, and all the guys drive rusted-out '66 Ford pickups (exaggeration, of course, but that's the picture everyone sees when you mention \"trailer park\"). Some people over-analyze movies (case-in-point: Star Trek freaks). I watch movies purely for the entertainment value; not to point out that the girl is wearing a different shirt in a different scene (read the \"Goofs\" bit about Connie's shirt. Could it have been better? Sure. But it was funny as hell.   \n",
       "2506                                                                                                                                                                                                                                                                                                                                                                                                                                                                                                                                                                                                                                                                                                                                                                                                                                                                                                                                                                                                                                                                                                                                                                                                                                                                                                                                                                                                                                                                                                                                                                                                                                                                                                                                                                                                                 This sequel to \"In the Heat of the Night\" will suffer in inevitable comparisons to its infinitely better predecessor. Instead of looking like a theatrical movie edited for television, \"Mister Tibbs\" looks suspiciously like a TV movie edited for theatrical release, with grainy photography, cheesy opening titles, and sets that look like they're made of plywood. The murder sequence has a glaring continuity error: the camera shows two hands choking the girl, then a shot of a hand reaching for a statuette, then a shot of the girl being choked with two hands again, and finally the statuette coming down for the fatal blow. Solving the case should be easy: find the only guy with three hands! But the shoddy production values can't completely obscure this film's considerable merits: namely, Sidney Poitier's performance as the cool detective determined to follow the evidence wherever it may lead, even if it implicates a friend. Martin Landau is also convincing as the do-gooder preacher-activist suspected of brutally murdering his prostitute girlfriend. In addition to being haunted by the case, Tibbs is conflicted about his home life, but the issues of race and Tibbs' barely concealed sense of social outrage are absent here. So is the complex murder mystery that made \"In the Heat of the Night\" so compelling.   \n",
       "5883                                                                                                                                                                                                                                                                                                                                                                                                                                                                                                                                                                                                                                                                                                                                                                                                                                                                                                                                                                                                                                                                                                                                                                                                                                                                                                                                                                                                                                                                                                                                                                                                                                                                                               MAY CONTAIN SPOILERS For about the last four years I've been a keen fan of Ali G. Sacha Baron Cohen is undoubtedly a very funny and intelligent guy and, in my view, his best creation is Borat who's as funny as Hell and quite shameless in what he does and says to people.<br /><br />Anyway, to the movie. I didn't bother paying money to see this in the cinema; I suppose because I didn't expect a lot but when I hired the DVD recently, I found the whole thing pretty sad. The best part of Ali's taking the mickey out of others was largely missing and the script an plot was pretty damned awful; hooking all the car batteries together to blow a safe - REALLY!!?? <br /><br />This movie goes to show I think that some things can run for too long and definitely don't translate to the big screen. The movie also had that syrupy sweet ending that I've come to expect from British films. Where have all the good British movie making ideals gone to? That said, there were the odd very funny moments such as the dog in Ali's bed and Ali's audience with HM the Q with the \"Shaven haven - RESPECT\" remark.<br /><br />So, in summary, I am an Ali G and Borat fan and I have enjoyed many of his interviews (notably the one with Anita Roddick of the Body Shop) but this movie fell really flat with me. If there's to be another movie, I hope it's a whole lot better than this lot of old tripe.<br /><br />Weasel100 <br /><br />Canberra, Australia   \n",
       "...                                                                                                                                                                                                                                                                                                                                                                                                                                                                                                                                                                                                                                                                                                                                                                                                                                                                                                                                                                                                                                                                                                                                                                                                                                                                                                                                                                                                                                                                                                                                                                                                                                                                                                                                                                                                                                                                                                                                                                                                                                                                                                                                                                                                                                                                                                                                                                                                                                                                                                                                                                                                                                                                                                                                                                                                                                                                                                                                                                                                                                                                                                                                                                                    ...   \n",
       "4556                                                                                                                                                                                                                                                                                                                                                                                                                                                                                                                                                                                                                                                                                                                                                                                                                                                                                                                                                                                                                                                                                                                                                                                                                                                                                                                                                                                                                                                                                                                                                                                                                                                                                                                                                                                                                                                                                                                                                                                                                                                                                                                                                                                                                                                                                                                                                                                                                                                                                               Michael Callan plays a smarmy photographer who seems, nonetheless, to be regarded as a perfect \"catch\" by any woman that runs across him; could this have anything to do with the fact that he also co-produced the film? He's a \"hero\" whom it's very difficult to empathize with, so the movie is in trouble right from the start. However, it's troubles don't end there. It has the production values of a TV-movie (check out that head made of clay or something, near the end), and the ending cheats in a way that I can't reveal, in case anyone wants to see the movie (highly unlikely). Let's just say that the killer knows more than we were let to know he knows. (*1/2)   \n",
       "16740                                                                                                                                                                                                                                                                                                                                                                                                                                                                                                                                                                                                                                                                                                                                                                                                                                                                                                                                                                                                                                                                                                                                                                                                                                                                                                                                                                                                                                                                                                                                                                                                                                                                                                                                                                                                                                                                                                                                                                                                                                                                                                                                                                                                                                                                                                                                                                  kite runner is undoubtedly one of the most amazing books i have read in the recent past. i perhaps had very high expectations from the film, but none the less the movie was good, the entire setting seemed realistic. nothing was made to fancy. the dialogs were not very attractive or powerful, they were just right. The movie was not a bad experience at all, especially at the last 15mins ,where it got real emotional and even the hardest man would probably cry.but my imagination was far better than the movie...i cried more upon reading the novel than seeing the movie. but overall a good movie to see for those of u who are not readers. but the readers- the novel would be a better experience,so if at all u want to see the movie, read the novel first and then compare it to the movie.   \n",
       "10934                                                                                                                                                                                                                                                                                                                                                                                                                                                                                                                                                                                                                                                                                                                                                                                                                                                                                                                                                                                                                                                                                                                                                                                                                                                                                                                                                                                                                                                                                                                                                                                                                                                                                                                                                                                                                                                                                                                                                                                                                                                                              Don't ask me why I love this movie so much...Maybe it came at a time in my life I desperately wanted to fit in, maybe it is the amazing monster effects, maybe because I enjoyed the novel \"Cabal\", but It's probably because I LOVE Clive Barker. I think it's fair to warn you the movie and the novel have no true resolve and like me you'll probably have a WTF moment at the end. At least two sequels were planned but never came about due to the fact the movie flopped for a few reasons. The studio made drastic cuts to the film cutting a good 30 or so minutes out of it and they did a HORRIBLE job promoting it. The adverts made it look like just another cheap slasher showing mainly the \"Button face/Mask\" Decker character. This is a movie about the monsters! About fantasy! About a place called Midian! It's a story where the monsters are the good guys. There is truly nothing else out there like it! It's not a movie for everybody I suppose but it stands as one of Clive's many great works. Sit back and be prepared to be taken to Midian - where the monsters are.   \n",
       "13586  Well, this is new...Famous Italian horror director Lucio Fulci shoots a film about a famous Italian horror director called...Lucio Fulci. After years and years of witnessing gruesome horror sequences, it becomes hard for Lucio to separate reality from fiction and he often hallucinates about committing violent murders. He quickly descends further into a seemly endless spiral of madness and unverifiable venom. Even the dedicated psychiatrist can't seem to keep Fulci on the right track... Now, when it comes to pure fun and entertainment value, Cat in the Brain certainly is one of Fulci's most pleasant films. The gore is overpowering and copious, to say the least. The amount of filthy massacres is impossible to describe, especially when you manage to get your hands on the fully uncut version (referred to with the aka:\"Nightmare Concert\"). Decapitations all around, victims ' intestines are spread on all sides of the screen and the chainsaws are working overtime! The film also becomes unintentionally funny quite soon (since it's so exaggerated) and a perfect experience to watch with a group of friends when there's beer in the fridge. Of course, from a more professional viewpoint, this production can't exactly be called a masterpiece! There's not the least bit of tension or atmosphere to detect and the characters are completely empty-headed. In order to make more room for the gore, characters are just being introduced for 5 seconds and subsequently die a horrible death. Especially compared with Fulci's highlights - like \"The Beyond\" or \"Don't Torture a Duckling\" - this film looks like a quickly warmed up snack. The best way to interpret \"Cat in the Brain\" is like a personal statement made by Fulci and a direct attack towards censorship. Perhaps after seeing so many of his films Â? especially the latter ones Â? being cut by censorship committees and bashed by pseudo-artistic critics, he wanted to avenge himself by delivering a gory mess that simply can't be cut! If you take out all the explicit violence and the truly sick make-up effects, you only got about 10 minutes of footage left! Especially because the insane killings re-occur later in the film as Fulci hallucinates about them again. You can almost hear our director think stuff like: \"Let's see how you're going to censor this now!\" Even the entire development of the murder investigation happens in the background. Are the victims missed by any of their friends or relatives? Are there any police officers looking for clues that'll lead them to the killer? You don't know and Lucio doesn't bother to inform you about that, because that would lead to sequences that don't require cutting. Oh, and it's pretty damn pretentious as well! The name \"Mr. Fulci\" or even \"Lucio\" is mentioned every 3 minutes (34 times throughout the entire movie, to be exact) and our director clearly enjoys being in the spotlights for a change. Hey, I certainly don't blame him...After over 30 years of delivering amusing movies; he deserved to have a little extra fun. You're a God, Mr. Fulci!   \n",
       "12216                                                                                                                                                                                                                                                                                                                                                                                                                                                                                                                                                                                                                                                                                                                                                                                                                                                                                                                                                                                                                                                                                                                                                                                                                                                                                                                                                                                                                                                                                                                                                                                                                                                                                                                                                                                                                                                                                                                                                                                                                                                                                                                                                                                                                                                                                                                                                                                                                                                                                                                                                          For all the Homicide junkies out there, this movie was great! Every single character that ever was on the show made an appearance in the movie. It helped to resolve some (but not all) issues from the series. Unfortunately, unless you actually did watch the series, most of the enjoyment would be lost, as the movie made heavy references to every season of the show's existence. This probably would have been appropriate as a series finale as opposed to being a separate movie, but we gotta take what we can get. I hope they make more movies, and continue to feature Homicide characters on Law and Order.   \n",
       "\n",
       "       true_label  predicted_y  neg_label_prob  pos_label_prob   divided  \n",
       "11628           1            0        0.772169        0.227831  0.272169  \n",
       "2481            0            1        0.009902        0.990098  0.490098  \n",
       "2756            0            1        0.218062        0.781938  0.281938  \n",
       "2506            0            1        0.415180        0.584820  0.084820  \n",
       "5883            0            1        0.420575        0.579425  0.079425  \n",
       "...           ...          ...             ...             ...       ...  \n",
       "4556            0            1        0.223213        0.776787  0.276787  \n",
       "16740           1            0        0.509809        0.490191  0.009809  \n",
       "10934           1            0        0.607105        0.392895  0.107105  \n",
       "13586           1            0        0.557503        0.442497  0.057503  \n",
       "12216           1            0        0.751401        0.248599  0.251401  \n",
       "\n",
       "[481 rows x 6 columns]"
      ]
     },
     "execution_count": 89,
     "metadata": {},
     "output_type": "execute_result"
    }
   ],
   "source": [
    "results_df.loc[results_df.true_label != results_df.predicted_y]"
   ]
  },
  {
   "cell_type": "markdown",
   "metadata": {},
   "source": [
    "When positive reviews contain some strong negative words like horrible and resolve, the algorithm tended to make mistakes. Vice versa."
   ]
  },
  {
   "cell_type": "markdown",
   "metadata": {},
   "source": [
    "### Submission to Canvas\n",
    "\n",
    "**PLEASE READ: When you are ready to submit your assignment do the following:**\n",
    "\n",
    "- Read through your solutions\n",
    "- **Restart your kernel and clear output and rerun your cells from top to bottom** \n",
    "- Makes sure that none of your code is broken \n",
    "- Convert your notebook to .html format by going to File -> Export Notebook As... -> Export Notebook to HTML\n",
    "- Upload your `.ipynb` file and the `.html` file to Canvas under Assignment1. \n",
    "- **DO NOT** upload any `.csv` files. "
   ]
  },
  {
   "cell_type": "markdown",
   "metadata": {},
   "source": [
    "### Congratulations on finishing Assignment 3!"
   ]
  }
 ],
 "metadata": {
  "celltoolbar": "Create Assignment",
  "kernelspec": {
   "display_name": "bait509",
   "language": "python",
   "name": "python3"
  },
  "language_info": {
   "codemirror_mode": {
    "name": "ipython",
    "version": 3
   },
   "file_extension": ".py",
   "mimetype": "text/x-python",
   "name": "python",
   "nbconvert_exporter": "python",
   "pygments_lexer": "ipython3",
   "version": "3.11.7"
  },
  "toc": {
   "base_numbering": 1,
   "nav_menu": {},
   "number_sections": false,
   "sideBar": true,
   "skip_h1_title": false,
   "title_cell": "Table of Contents",
   "title_sidebar": "Contents",
   "toc_cell": false,
   "toc_position": {
    "height": "calc(100% - 180px)",
    "left": "10px",
    "top": "150px",
    "width": "317.986px"
   },
   "toc_section_display": true,
   "toc_window_display": true
  }
 },
 "nbformat": 4,
 "nbformat_minor": 4
}
